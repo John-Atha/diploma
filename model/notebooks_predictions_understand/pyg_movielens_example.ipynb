{
 "cells": [
  {
   "attachments": {},
   "cell_type": "markdown",
   "metadata": {},
   "source": [
    "### Imports"
   ]
  },
  {
   "cell_type": "code",
   "execution_count": 2,
   "metadata": {},
   "outputs": [
    {
     "name": "stderr",
     "output_type": "stream",
     "text": [
      "/Users/ioannisathanasiou/diploma/environ/lib/python3.9/site-packages/tqdm/auto.py:22: TqdmWarning: IProgress not found. Please update jupyter and ipywidgets. See https://ipywidgets.readthedocs.io/en/stable/user_install.html\n",
      "  from .autonotebook import tqdm as notebook_tqdm\n"
     ]
    }
   ],
   "source": [
    "import argparse\n",
    "import os.path as osp\n",
    "\n",
    "import torch\n",
    "import torch.nn.functional as F\n",
    "from torch.nn import Linear\n",
    "\n",
    "import torch_geometric.transforms as T\n",
    "from torch_geometric.datasets import MovieLens\n",
    "from torch_geometric.nn import SAGEConv, to_hetero\n",
    "\n",
    "import matplotlib.pyplot as plt"
   ]
  },
  {
   "attachments": {},
   "cell_type": "markdown",
   "metadata": {},
   "source": [
    "### Data"
   ]
  },
  {
   "cell_type": "code",
   "execution_count": 3,
   "metadata": {},
   "outputs": [],
   "source": [
    "device = torch.device('cuda' if torch.cuda.is_available() else 'cpu')\n",
    "\n",
    "path = osp.join('../../data/MovieLens')\n",
    "dataset = MovieLens(path, model_name='all-MiniLM-L6-v2')\n",
    "data = dataset[0].to(device)\n",
    "\n",
    "# Add user node features for message passing:\n",
    "data['user'].x = torch.eye(data['user'].num_nodes, device=device)\n",
    "del data['user'].num_nodes\n",
    "\n",
    "# Add a reverse ('movie', 'rev_rates', 'user') relation for message passing:\n",
    "data = T.ToUndirected()(data)\n",
    "del data['movie', 'rev_rates', 'user'].edge_label  # Remove \"reverse\" label.\n",
    "\n",
    "# Perform a link-level split into training, validation, and test edges:\n",
    "train_data, val_data, test_data = T.RandomLinkSplit(\n",
    "    num_val=0.1,\n",
    "    num_test=0.1,\n",
    "    neg_sampling_ratio=0.0,\n",
    "    edge_types=[('user', 'rates', 'movie')],\n",
    "    rev_edge_types=[('movie', 'rev_rates', 'user')],\n",
    ")(data)"
   ]
  },
  {
   "attachments": {},
   "cell_type": "markdown",
   "metadata": {},
   "source": [
    "### Model"
   ]
  },
  {
   "cell_type": "code",
   "execution_count": 4,
   "metadata": {},
   "outputs": [],
   "source": [
    "class GNNEncoder(torch.nn.Module):\n",
    "    def __init__(self, hidden_channels, out_channels):\n",
    "        super().__init__()\n",
    "        self.conv1 = SAGEConv((-1, -1), hidden_channels)\n",
    "        self.conv2 = SAGEConv((-1, -1), out_channels)\n",
    "        self.conv3 = SAGEConv((-1, -1), out_channels)\n",
    "\n",
    "    def forward(self, x, edge_index):\n",
    "        x = self.conv1(x, edge_index).relu()\n",
    "        x = F.dropout(x, p=0.1, training=self.training)\n",
    "        x = self.conv2(x, edge_index).relu()\n",
    "        x = F.dropout(x, p=0.1, training=self.training)\n",
    "        x = self.conv3(x, edge_index)\n",
    "        return x\n",
    "\n",
    "\n",
    "class EdgeDecoder(torch.nn.Module):\n",
    "    def __init__(self, hidden_channels):\n",
    "        super().__init__()\n",
    "        self.lin1 = Linear(2 * hidden_channels, hidden_channels)\n",
    "        self.lin2 = Linear(hidden_channels, hidden_channels)\n",
    "        self.lin3 = Linear(hidden_channels, hidden_channels)\n",
    "        self.lin4 = Linear(hidden_channels, 1)\n",
    "\n",
    "    def forward(self, z_dict, edge_label_index):\n",
    "        row, col = edge_label_index\n",
    "        z = torch.cat([z_dict['user'][row], z_dict['movie'][col]], dim=-1)\n",
    "\n",
    "        z = self.lin1(z).relu()\n",
    "        z = F.dropout(z, p=0.1, training=self.training)\n",
    "        z = self.lin2(z).relu()\n",
    "        z = F.dropout(z, p=0.1, training=self.training)\n",
    "        z = self.lin3(z).relu()\n",
    "        z = F.dropout(z, p=0.1, training=self.training)\n",
    "        z = self.lin4(z)\n",
    "        return z.view(-1)\n",
    "\n",
    "\n",
    "class Model(torch.nn.Module):\n",
    "    def __init__(self, hidden_channels):\n",
    "        super().__init__()\n",
    "        self.encoder = GNNEncoder(hidden_channels, hidden_channels)\n",
    "        self.encoder = to_hetero(self.encoder, data.metadata(), aggr='sum')\n",
    "        self.decoder = EdgeDecoder(hidden_channels)\n",
    "\n",
    "    def forward(self, x_dict, edge_index_dict, edge_label_index):\n",
    "        z_dict = self.encoder(x_dict, edge_index_dict)\n",
    "        return self.decoder(z_dict, edge_label_index)"
   ]
  },
  {
   "attachments": {},
   "cell_type": "markdown",
   "metadata": {},
   "source": [
    "### Train-test functions"
   ]
  },
  {
   "cell_type": "code",
   "execution_count": 6,
   "metadata": {},
   "outputs": [],
   "source": [
    "def train_test(model, use_weighted_loss, epochs=50):\n",
    "    latest_predictions = []\n",
    "\n",
    "    if use_weighted_loss:\n",
    "        weight = torch.bincount(train_data['user', 'movie'].edge_label)\n",
    "        weight = weight.max() / weight\n",
    "    else:\n",
    "        weight = None\n",
    "\n",
    "    def weighted_mse_loss(pred, target, weight=None):\n",
    "        weight = 1. if weight is None else weight[target].to(pred.dtype)\n",
    "        return (weight * (pred - target.to(pred.dtype)).pow(2)).mean()\n",
    "\n",
    "    with torch.no_grad():\n",
    "        model.encoder(train_data.x_dict, train_data.edge_index_dict)\n",
    "\n",
    "    optimizer = torch.optim.Adam(model.parameters(), lr=0.01)\n",
    "\n",
    "\n",
    "    def train():\n",
    "        model.train()\n",
    "        optimizer.zero_grad()\n",
    "        pred = model(train_data.x_dict, train_data.edge_index_dict,\n",
    "                    train_data['user', 'movie'].edge_label_index)\n",
    "        target = train_data['user', 'movie'].edge_label\n",
    "        loss = weighted_mse_loss(pred, target, weight)\n",
    "        loss.backward()\n",
    "        optimizer.step()\n",
    "        return float(loss)\n",
    "\n",
    "\n",
    "    @torch.no_grad()\n",
    "    def test(data):\n",
    "        nonlocal latest_predictions\n",
    "        model.eval()\n",
    "        pred = model(data.x_dict, data.edge_index_dict,\n",
    "                    data['user', 'movie'].edge_label_index)\n",
    "        pred = pred.clamp(min=0, max=5)\n",
    "        latest_predictions = pred\n",
    "        target = data['user', 'movie'].edge_label.float()\n",
    "        rmse = F.mse_loss(pred, target).sqrt()\n",
    "        return float(rmse)\n",
    "\n",
    "    for epoch in range(1, epochs):\n",
    "        loss = train()\n",
    "        train_rmse = test(train_data)\n",
    "        val_rmse = test(val_data)\n",
    "        test_rmse = test(test_data)\n",
    "        if not epoch % 5:\n",
    "            print(f'Epoch: {epoch:03d}, Loss: {loss:.4f}, Train: {train_rmse:.4f}, '\n",
    "                f'Val: {val_rmse:.4f}, Test: {test_rmse:.4f}')\n",
    "    \n",
    "    return latest_predictions\n"
   ]
  },
  {
   "attachments": {},
   "cell_type": "markdown",
   "metadata": {},
   "source": [
    "### Experiments on MovieLens with weighted and unweighted loss"
   ]
  },
  {
   "cell_type": "code",
   "execution_count": 10,
   "metadata": {},
   "outputs": [
    {
     "name": "stdout",
     "output_type": "stream",
     "text": [
      "Epoch: 005, Loss: 7.1850, Train: 1.1086, Val: 1.1086, Test: 1.1137\n",
      "Epoch: 010, Loss: 6.6206, Train: 1.3249, Val: 1.3510, Test: 1.3615\n",
      "Epoch: 015, Loss: 6.3904, Train: 1.6858, Val: 1.7120, Test: 1.6958\n",
      "Epoch: 020, Loss: 6.2374, Train: 1.2126, Val: 1.2291, Test: 1.2324\n",
      "Epoch: 025, Loss: 5.8236, Train: 1.3766, Val: 1.4023, Test: 1.3936\n",
      "Epoch: 030, Loss: 5.3692, Train: 1.4057, Val: 1.4313, Test: 1.4295\n",
      "Epoch: 035, Loss: 4.8752, Train: 1.2935, Val: 1.3146, Test: 1.3165\n",
      "Epoch: 040, Loss: 4.3251, Train: 1.3590, Val: 1.3703, Test: 1.3643\n",
      "Epoch: 045, Loss: 4.1487, Train: 1.2524, Val: 1.2684, Test: 1.2641\n",
      "Epoch: 050, Loss: 3.9483, Train: 1.1620, Val: 1.1900, Test: 1.1843\n",
      "Epoch: 055, Loss: 3.8432, Train: 1.2565, Val: 1.2673, Test: 1.2727\n",
      "Epoch: 060, Loss: 3.7748, Train: 1.2031, Val: 1.2332, Test: 1.2500\n",
      "Epoch: 065, Loss: 3.6881, Train: 1.2649, Val: 1.3202, Test: 1.3073\n",
      "Epoch: 070, Loss: 3.6471, Train: 1.2553, Val: 1.3156, Test: 1.2877\n",
      "Epoch: 075, Loss: 3.5455, Train: 1.1452, Val: 1.1725, Test: 1.1838\n",
      "Epoch: 080, Loss: 3.4804, Train: 1.2482, Val: 1.2869, Test: 1.2777\n",
      "Epoch: 085, Loss: 3.3854, Train: 1.2478, Val: 1.2895, Test: 1.2773\n",
      "Epoch: 090, Loss: 3.3527, Train: 1.1394, Val: 1.1994, Test: 1.1831\n",
      "Epoch: 095, Loss: 3.3089, Train: 1.2154, Val: 1.2554, Test: 1.2585\n",
      "Epoch: 100, Loss: 3.2636, Train: 1.1415, Val: 1.2160, Test: 1.2096\n",
      "Epoch: 105, Loss: 3.2534, Train: 1.2351, Val: 1.2822, Test: 1.2637\n",
      "Epoch: 110, Loss: 3.2742, Train: 1.1179, Val: 1.1780, Test: 1.1828\n",
      "Epoch: 115, Loss: 3.2659, Train: 1.2116, Val: 1.2497, Test: 1.2606\n",
      "Epoch: 120, Loss: 3.2212, Train: 1.1729, Val: 1.2218, Test: 1.2238\n",
      "Epoch: 125, Loss: 3.1674, Train: 1.1378, Val: 1.2001, Test: 1.2023\n",
      "Epoch: 130, Loss: 3.0924, Train: 1.2118, Val: 1.2730, Test: 1.2593\n",
      "Epoch: 135, Loss: 3.0623, Train: 1.1265, Val: 1.1794, Test: 1.1859\n",
      "Epoch: 140, Loss: 3.0635, Train: 1.1635, Val: 1.2191, Test: 1.2112\n",
      "Epoch: 145, Loss: 3.0409, Train: 1.2094, Val: 1.2836, Test: 1.2706\n",
      "Epoch: 150, Loss: 2.9942, Train: 1.0753, Val: 1.1536, Test: 1.1545\n",
      "Epoch: 155, Loss: 2.9982, Train: 1.1891, Val: 1.2878, Test: 1.2813\n",
      "Epoch: 160, Loss: 3.0197, Train: 1.1217, Val: 1.1958, Test: 1.1967\n",
      "Epoch: 165, Loss: 2.9627, Train: 1.1010, Val: 1.1728, Test: 1.1755\n",
      "Epoch: 170, Loss: 2.9347, Train: 1.1794, Val: 1.2530, Test: 1.2459\n",
      "Epoch: 175, Loss: 2.9056, Train: 1.0968, Val: 1.1621, Test: 1.1583\n",
      "Epoch: 180, Loss: 2.9578, Train: 1.2135, Val: 1.2793, Test: 1.2771\n",
      "Epoch: 185, Loss: 2.9160, Train: 1.1131, Val: 1.2014, Test: 1.1991\n",
      "Epoch: 190, Loss: 2.8335, Train: 1.0661, Val: 1.1576, Test: 1.1599\n",
      "Epoch: 195, Loss: 2.8326, Train: 1.1491, Val: 1.2376, Test: 1.2249\n",
      "Epoch: 200, Loss: 2.7967, Train: 1.1229, Val: 1.1894, Test: 1.1922\n",
      "Epoch: 205, Loss: 2.8582, Train: 1.1276, Val: 1.1977, Test: 1.1995\n",
      "Epoch: 210, Loss: 2.7661, Train: 1.1380, Val: 1.2082, Test: 1.2031\n",
      "Epoch: 215, Loss: 2.7687, Train: 1.0835, Val: 1.1753, Test: 1.1561\n",
      "Epoch: 220, Loss: 2.7732, Train: 1.1220, Val: 1.2168, Test: 1.2123\n",
      "Epoch: 225, Loss: 2.7452, Train: 1.1108, Val: 1.2197, Test: 1.2052\n",
      "Epoch: 230, Loss: 2.7315, Train: 1.0852, Val: 1.1755, Test: 1.1731\n",
      "Epoch: 235, Loss: 2.7098, Train: 1.1203, Val: 1.2059, Test: 1.2007\n",
      "Epoch: 240, Loss: 2.7203, Train: 1.0566, Val: 1.1515, Test: 1.1311\n",
      "Epoch: 245, Loss: 2.7303, Train: 1.1283, Val: 1.2281, Test: 1.2028\n",
      "Epoch: 250, Loss: 2.7843, Train: 1.1413, Val: 1.2236, Test: 1.2097\n",
      "Epoch: 255, Loss: 2.7099, Train: 1.1150, Val: 1.2075, Test: 1.1983\n",
      "Epoch: 260, Loss: 2.7248, Train: 1.1025, Val: 1.1858, Test: 1.1842\n",
      "Epoch: 265, Loss: 2.6670, Train: 1.1273, Val: 1.2235, Test: 1.2215\n",
      "Epoch: 270, Loss: 2.6489, Train: 1.0579, Val: 1.1560, Test: 1.1411\n",
      "Epoch: 275, Loss: 2.6473, Train: 1.1324, Val: 1.2254, Test: 1.2155\n",
      "Epoch: 280, Loss: 2.6420, Train: 1.0963, Val: 1.1945, Test: 1.1843\n",
      "Epoch: 285, Loss: 2.6493, Train: 1.0880, Val: 1.1856, Test: 1.1855\n",
      "Epoch: 290, Loss: 2.6683, Train: 1.1392, Val: 1.2126, Test: 1.2073\n",
      "Epoch: 295, Loss: 2.5869, Train: 1.0529, Val: 1.1626, Test: 1.1432\n",
      "Epoch: 300, Loss: 2.5766, Train: 1.1143, Val: 1.2118, Test: 1.2003\n",
      "Epoch: 305, Loss: 2.5860, Train: 1.0898, Val: 1.1994, Test: 1.1804\n",
      "Epoch: 310, Loss: 2.5859, Train: 1.0950, Val: 1.1995, Test: 1.1905\n",
      "Epoch: 315, Loss: 2.5581, Train: 1.1041, Val: 1.1974, Test: 1.1874\n",
      "Epoch: 320, Loss: 2.5392, Train: 1.0977, Val: 1.1748, Test: 1.1704\n",
      "Epoch: 325, Loss: 2.5601, Train: 1.1054, Val: 1.2089, Test: 1.1923\n",
      "Epoch: 330, Loss: 2.5081, Train: 1.0699, Val: 1.1720, Test: 1.1590\n",
      "Epoch: 335, Loss: 2.5422, Train: 1.1276, Val: 1.2115, Test: 1.2071\n",
      "Epoch: 340, Loss: 2.5114, Train: 1.0456, Val: 1.1335, Test: 1.1366\n",
      "Epoch: 345, Loss: 2.5602, Train: 1.0452, Val: 1.1590, Test: 1.1409\n",
      "Epoch: 350, Loss: 2.5093, Train: 1.1529, Val: 1.2441, Test: 1.2233\n",
      "Epoch: 355, Loss: 2.4730, Train: 1.0230, Val: 1.1383, Test: 1.1298\n",
      "Epoch: 360, Loss: 2.4942, Train: 1.0925, Val: 1.1916, Test: 1.1795\n",
      "Epoch: 365, Loss: 2.4619, Train: 1.0537, Val: 1.1562, Test: 1.1445\n",
      "Epoch: 370, Loss: 2.4347, Train: 1.0679, Val: 1.1722, Test: 1.1681\n",
      "Epoch: 375, Loss: 2.4347, Train: 1.0622, Val: 1.1762, Test: 1.1588\n",
      "Epoch: 380, Loss: 2.4340, Train: 1.0776, Val: 1.1644, Test: 1.1703\n",
      "Epoch: 385, Loss: 2.4408, Train: 1.0060, Val: 1.1119, Test: 1.1102\n",
      "Epoch: 390, Loss: 2.4930, Train: 1.0566, Val: 1.1561, Test: 1.1437\n",
      "Epoch: 395, Loss: 2.6446, Train: 1.2015, Val: 1.2820, Test: 1.2739\n",
      "Epoch: 400, Loss: 2.6027, Train: 1.0845, Val: 1.1863, Test: 1.1545\n",
      "Epoch: 405, Loss: 2.4758, Train: 1.0092, Val: 1.1176, Test: 1.1198\n",
      "Epoch: 410, Loss: 2.4429, Train: 1.0881, Val: 1.1916, Test: 1.1815\n",
      "Epoch: 415, Loss: 2.4242, Train: 1.1048, Val: 1.1988, Test: 1.1930\n",
      "Epoch: 420, Loss: 2.4227, Train: 1.0582, Val: 1.1639, Test: 1.1424\n",
      "Epoch: 425, Loss: 2.4025, Train: 1.1049, Val: 1.1957, Test: 1.2007\n",
      "Epoch: 430, Loss: 2.3810, Train: 1.0450, Val: 1.1558, Test: 1.1522\n",
      "Epoch: 435, Loss: 2.4010, Train: 1.0849, Val: 1.2005, Test: 1.1875\n",
      "Epoch: 440, Loss: 2.3736, Train: 1.0765, Val: 1.1720, Test: 1.1682\n",
      "Epoch: 445, Loss: 2.3648, Train: 1.0162, Val: 1.1165, Test: 1.1078\n",
      "Epoch: 450, Loss: 2.3885, Train: 1.0957, Val: 1.1962, Test: 1.1819\n",
      "Epoch: 455, Loss: 2.3443, Train: 1.0179, Val: 1.1135, Test: 1.1009\n",
      "Epoch: 460, Loss: 2.3578, Train: 1.1255, Val: 1.2141, Test: 1.2031\n",
      "Epoch: 465, Loss: 2.3406, Train: 0.9994, Val: 1.0932, Test: 1.0984\n",
      "Epoch: 470, Loss: 2.3491, Train: 1.1112, Val: 1.2056, Test: 1.2043\n",
      "Epoch: 475, Loss: 2.3417, Train: 1.0449, Val: 1.1334, Test: 1.1333\n",
      "Epoch: 480, Loss: 2.3250, Train: 1.0662, Val: 1.1634, Test: 1.1625\n",
      "Epoch: 485, Loss: 2.3286, Train: 1.0658, Val: 1.1780, Test: 1.1581\n",
      "Epoch: 490, Loss: 2.3221, Train: 1.0414, Val: 1.1557, Test: 1.1492\n",
      "Epoch: 495, Loss: 2.3284, Train: 1.0580, Val: 1.1620, Test: 1.1444\n"
     ]
    },
    {
     "data": {
      "text/plain": [
       "(array([ 207.,  400.,  545.,  938., 1680., 2429., 2239., 1275.,  355.,\n",
       "          15.]),\n",
       " array([0.21568973, 0.69412076, 1.17255175, 1.65098286, 2.12941384,\n",
       "        2.60784483, 3.08627582, 3.5647068 , 4.04313803, 4.52156878,\n",
       "        5.        ]),\n",
       " <BarContainer object of 10 artists>)"
      ]
     },
     "execution_count": 10,
     "metadata": {},
     "output_type": "execute_result"
    },
    {
     "data": {
      "image/png": "[encoded data removed]",
      "text/plain": [
       "<Figure size 640x480 with 1 Axes>"
      ]
     },
     "metadata": {},
     "output_type": "display_data"
    }
   ],
   "source": [
    "model = Model(hidden_channels=32).to(device)\n",
    "preds = train_test(model, use_weighted_loss=True, epochs=500)\n",
    "plt.hist(preds)"
   ]
  },
  {
   "cell_type": "code",
   "execution_count": 6,
   "metadata": {},
   "outputs": [
    {
     "name": "stdout",
     "output_type": "stream",
     "text": [
      "Epoch: 005, Loss: 2.1835, Train: 1.5688, Val: 1.5568, Test: 1.5575\n",
      "Epoch: 010, Loss: 1.9310, Train: 1.5669, Val: 1.5822, Test: 1.5666\n",
      "Epoch: 015, Loss: 1.1520, Train: 1.2203, Val: 1.2188, Test: 1.2165\n",
      "Epoch: 020, Loss: 1.1044, Train: 1.1084, Val: 1.1236, Test: 1.1110\n",
      "Epoch: 025, Loss: 1.1661, Train: 1.0316, Val: 1.0436, Test: 1.0357\n",
      "Epoch: 030, Loss: 1.0938, Train: 1.0181, Val: 1.0285, Test: 1.0225\n",
      "Epoch: 035, Loss: 1.0693, Train: 1.0137, Val: 1.0277, Test: 1.0197\n",
      "Epoch: 040, Loss: 1.0231, Train: 0.9995, Val: 1.0089, Test: 1.0064\n",
      "Epoch: 045, Loss: 0.9810, Train: 0.9850, Val: 0.9994, Test: 0.9934\n"
     ]
    },
    {
     "data": {
      "text/plain": [
       "(array([   8.,   73.,  183.,  745., 1704., 2717., 2663., 1516.,  426.,\n",
       "          48.]),\n",
       " array([1.86045384, 2.13707447, 2.41369486, 2.69031525, 2.96693587,\n",
       "        3.2435565 , 3.52017689, 3.79679728, 4.07341766, 4.35003853,\n",
       "        4.62665892]),\n",
       " <BarContainer object of 10 artists>)"
      ]
     },
     "execution_count": 6,
     "metadata": {},
     "output_type": "execute_result"
    },
    {
     "data": {
      "image/png": "[encoded data removed]",
      "text/plain": [
       "<Figure size 640x480 with 1 Axes>"
      ]
     },
     "metadata": {},
     "output_type": "display_data"
    }
   ],
   "source": [
    "model = Model(hidden_channels=32).to(device)\n",
    "preds = train_test(model, use_weighted_loss=False)\n",
    "plt.hist(preds)"
   ]
  }
 ],
 "metadata": {
  "kernelspec": {
   "display_name": "environ",
   "language": "python",
   "name": "python3"
  },
  "language_info": {
   "codemirror_mode": {
    "name": "ipython",
    "version": 3
   },
   "file_extension": ".py",
   "mimetype": "text/x-python",
   "name": "python",
   "nbconvert_exporter": "python",
   "pygments_lexer": "ipython3",
   "version": "3.9.6 (default, Oct 18 2022, 12:41:40) \n[Clang 14.0.0 (clang-1400.0.29.202)]"
  },
  "orig_nbformat": 4,
  "vscode": {
   "interpreter": {
    "hash": "acbc58aadc5672afc04cc91f2a1726d8eb7b999e15e50d024070fdc74729208f"
   }
  }
 },
 "nbformat": 4,
 "nbformat_minor": 2
}
