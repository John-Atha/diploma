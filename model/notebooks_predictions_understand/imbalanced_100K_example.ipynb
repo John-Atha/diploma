{
 "cells": [
  {
   "attachments": {},
   "cell_type": "markdown",
   "metadata": {},
   "source": [
    "### Imports"
   ]
  },
  {
   "cell_type": "code",
   "execution_count": 1,
   "metadata": {},
   "outputs": [],
   "source": [
    "import argparse\n",
    "import os.path as osp\n",
    "\n",
    "import torch\n",
    "import torch.nn.functional as F\n",
    "from torch.nn import Linear\n",
    "\n",
    "import torch_geometric.transforms as T\n",
    "from torch_geometric.datasets import MovieLens\n",
    "from torch_geometric.nn import SAGEConv, to_hetero, LightGCN\n",
    "\n",
    "import matplotlib.pyplot as plt\n",
    "\n",
    "import pathlib\n",
    "import os\n",
    "import sys\n",
    "parent_path = pathlib.Path(os.getcwd()).parent.absolute()\n",
    "sys.path.append(str(parent_path))\n",
    "from utils.Neo4jMovieLensMetaData import Neo4jMovieLensMetaData\n",
    "from utils.gnn_simple import Model\n",
    "from utils.visualize import plot_loss, plot_test"
   ]
  },
  {
   "attachments": {},
   "cell_type": "markdown",
   "metadata": {},
   "source": [
    "### Data"
   ]
  },
  {
   "cell_type": "code",
   "execution_count": 3,
   "metadata": {},
   "outputs": [
    {
     "ename": "KeyboardInterrupt",
     "evalue": "",
     "output_type": "error",
     "traceback": [
      "\u001b[0;31m---------------------------------------------------------------------------\u001b[0m",
      "\u001b[0;31mIndexError\u001b[0m                                Traceback (most recent call last)",
      "File \u001b[0;32m~/diploma/environ/lib/python3.9/site-packages/py2neo/client/__init__.py:806\u001b[0m, in \u001b[0;36mConnectionPool.acquire\u001b[0;34m(self, force_reset, can_overfill)\u001b[0m\n\u001b[1;32m    804\u001b[0m \u001b[39mtry\u001b[39;00m:\n\u001b[1;32m    805\u001b[0m     \u001b[39m# Plan A: select a free connection from the pool\u001b[39;00m\n\u001b[0;32m--> 806\u001b[0m     cx \u001b[39m=\u001b[39m \u001b[39mself\u001b[39;49m\u001b[39m.\u001b[39;49m_free_list\u001b[39m.\u001b[39;49mpopleft()\n\u001b[1;32m    807\u001b[0m \u001b[39mexcept\u001b[39;00m \u001b[39mIndexError\u001b[39;00m:\n",
      "\u001b[0;31mIndexError\u001b[0m: pop from an empty deque",
      "\nDuring handling of the above exception, another exception occurred:\n",
      "\u001b[0;31mKeyboardInterrupt\u001b[0m                         Traceback (most recent call last)",
      "Cell \u001b[0;32mIn [3], line 5\u001b[0m\n\u001b[1;32m      1\u001b[0m device \u001b[39m=\u001b[39m torch\u001b[39m.\u001b[39mdevice(\u001b[39m'\u001b[39m\u001b[39mcuda\u001b[39m\u001b[39m'\u001b[39m \u001b[39mif\u001b[39;00m torch\u001b[39m.\u001b[39mcuda\u001b[39m.\u001b[39mis_available() \u001b[39melse\u001b[39;00m \u001b[39m'\u001b[39m\u001b[39mcpu\u001b[39m\u001b[39m'\u001b[39m)\n\u001b[1;32m      4\u001b[0m path \u001b[39m=\u001b[39m osp\u001b[39m.\u001b[39mjoin(osp\u001b[39m.\u001b[39mdirname(osp\u001b[39m.\u001b[39mabspath(\u001b[39m'\u001b[39m\u001b[39m'\u001b[39m)), \u001b[39m'\u001b[39m\u001b[39m../../data/MovieLensNeo4jMetaData\u001b[39m\u001b[39m'\u001b[39m)\n\u001b[0;32m----> 5\u001b[0m dataset \u001b[39m=\u001b[39m Neo4jMovieLensMetaData(\n\u001b[1;32m      6\u001b[0m     path,\n\u001b[1;32m      7\u001b[0m     model_name\u001b[39m=\u001b[39m\u001b[39m'\u001b[39m\u001b[39mall-MiniLM-L6-v2\u001b[39m\u001b[39m'\u001b[39m,\n\u001b[1;32m      8\u001b[0m     database_url\u001b[39m=\u001b[39m\u001b[39m\"\u001b[39m\u001b[39mbolt://localhost:7687\u001b[39m\u001b[39m\"\u001b[39m,\n\u001b[1;32m      9\u001b[0m     database_username\u001b[39m=\u001b[39m\u001b[39m\"\u001b[39m\u001b[39mneo4j\u001b[39m\u001b[39m\"\u001b[39m,\n\u001b[1;32m     10\u001b[0m     database_password\u001b[39m=\u001b[39m\u001b[39m\"\u001b[39m\u001b[39madmin\u001b[39m\u001b[39m\"\u001b[39m,\n\u001b[1;32m     11\u001b[0m     force_pre_process\u001b[39m=\u001b[39m\u001b[39mTrue\u001b[39;00m,\n\u001b[1;32m     12\u001b[0m     force_db_restore\u001b[39m=\u001b[39m\u001b[39mFalse\u001b[39;00m,\n\u001b[1;32m     13\u001b[0m     text_features\u001b[39m=\u001b[39m[\u001b[39m\"\u001b[39m\u001b[39mtitle\u001b[39m\u001b[39m\"\u001b[39m, \u001b[39m\"\u001b[39m\u001b[39moriginal_title\u001b[39m\u001b[39m\"\u001b[39m],\n\u001b[1;32m     14\u001b[0m     list_features\u001b[39m=\u001b[39m[],\n\u001b[1;32m     15\u001b[0m     fastRP_features\u001b[39m=\u001b[39m[],\n\u001b[1;32m     16\u001b[0m     numeric_features\u001b[39m=\u001b[39m[],\n\u001b[1;32m     17\u001b[0m     node2vec_features\u001b[39m=\u001b[39m[],\n\u001b[1;32m     18\u001b[0m     SAGE_features\u001b[39m=\u001b[39m[],\n\u001b[1;32m     19\u001b[0m )\n\u001b[1;32m     21\u001b[0m data \u001b[39m=\u001b[39m dataset[\u001b[39m0\u001b[39m]\u001b[39m.\u001b[39mto(device)\n\u001b[1;32m     22\u001b[0m \u001b[39m# Add user node features for message passing:\u001b[39;00m\n",
      "File \u001b[0;32m~/diploma/model/utils/Neo4jMovieLensMetaData.py:75\u001b[0m, in \u001b[0;36mNeo4jMovieLensMetaData.__init__\u001b[0;34m(self, root, database_url, database_username, database_password, text_features, fastRP_features, node2vec_features, SAGE_features, list_features, numeric_features, transform, pre_transform, model_name, force_db_restore, force_pre_process)\u001b[0m\n\u001b[1;32m     72\u001b[0m     \u001b[39mif\u001b[39;00m os\u001b[39m.\u001b[39mpath\u001b[39m.\u001b[39mexists(\u001b[39mdir\u001b[39m) \u001b[39mand\u001b[39;00m os\u001b[39m.\u001b[39mpath\u001b[39m.\u001b[39misdir(\u001b[39mdir\u001b[39m):\n\u001b[1;32m     73\u001b[0m         shutil\u001b[39m.\u001b[39mrmtree(\u001b[39mdir\u001b[39m)\n\u001b[0;32m---> 75\u001b[0m \u001b[39mself\u001b[39m\u001b[39m.\u001b[39mgraph \u001b[39m=\u001b[39m Graph(\n\u001b[1;32m     76\u001b[0m     database_url,\n\u001b[1;32m     77\u001b[0m     auth\u001b[39m=\u001b[39;49m(database_username, database_password),\n\u001b[1;32m     78\u001b[0m     \u001b[39m# name=\"neo4j-2\",\u001b[39;49;00m\n\u001b[1;32m     79\u001b[0m )\n\u001b[1;32m     80\u001b[0m \u001b[39mself\u001b[39m\u001b[39m.\u001b[39mmovies_query \u001b[39m=\u001b[39m \u001b[39m\"\"\"\u001b[39m\n\u001b[1;32m     81\u001b[0m \u001b[39m    MATCH (m: Movie)\u001b[39m\n\u001b[1;32m     82\u001b[0m \u001b[39m    return \u001b[39m\n\u001b[0;32m   (...)\u001b[0m\n\u001b[1;32m    120\u001b[0m \u001b[39m        m.SAGE_COMBINED as SAGE_COMBINED\u001b[39m\n\u001b[1;32m    121\u001b[0m \u001b[39m\u001b[39m\u001b[39m\"\"\"\u001b[39m\n\u001b[1;32m    122\u001b[0m \u001b[39mself\u001b[39m\u001b[39m.\u001b[39mratings_query \u001b[39m=\u001b[39m \u001b[39m\"\"\"\u001b[39m\n\u001b[1;32m    123\u001b[0m \u001b[39m    MATCH (u:User)-[r:RATES]-(m:Movie)\u001b[39m\n\u001b[1;32m    124\u001b[0m \u001b[39m    return\u001b[39m\n\u001b[0;32m   (...)\u001b[0m\n\u001b[1;32m    128\u001b[0m \u001b[39m        m.id as movieId\u001b[39m\n\u001b[1;32m    129\u001b[0m \u001b[39m\u001b[39m\u001b[39m\"\"\"\u001b[39m\n",
      "File \u001b[0;32m~/diploma/environ/lib/python3.9/site-packages/py2neo/database.py:288\u001b[0m, in \u001b[0;36mGraph.__init__\u001b[0;34m(self, profile, name, **settings)\u001b[0m\n\u001b[1;32m    287\u001b[0m \u001b[39mdef\u001b[39;00m \u001b[39m__init__\u001b[39m(\u001b[39mself\u001b[39m, profile\u001b[39m=\u001b[39m\u001b[39mNone\u001b[39;00m, name\u001b[39m=\u001b[39m\u001b[39mNone\u001b[39;00m, \u001b[39m*\u001b[39m\u001b[39m*\u001b[39msettings):\n\u001b[0;32m--> 288\u001b[0m     \u001b[39mself\u001b[39m\u001b[39m.\u001b[39mservice \u001b[39m=\u001b[39m GraphService(profile, \u001b[39m*\u001b[39;49m\u001b[39m*\u001b[39;49msettings)\n\u001b[1;32m    289\u001b[0m     \u001b[39mself\u001b[39m\u001b[39m.\u001b[39m\u001b[39m__name__\u001b[39m \u001b[39m=\u001b[39m name\n\u001b[1;32m    290\u001b[0m     \u001b[39mself\u001b[39m\u001b[39m.\u001b[39mschema \u001b[39m=\u001b[39m Schema(\u001b[39mself\u001b[39m)\n",
      "File \u001b[0;32m~/diploma/environ/lib/python3.9/site-packages/py2neo/database.py:119\u001b[0m, in \u001b[0;36mGraphService.__init__\u001b[0;34m(self, profile, **settings)\u001b[0m\n\u001b[1;32m    116\u001b[0m \u001b[39mif\u001b[39;00m connector_settings[\u001b[39m\"\u001b[39m\u001b[39minit_size\u001b[39m\u001b[39m\"\u001b[39m] \u001b[39mis\u001b[39;00m \u001b[39mNone\u001b[39;00m \u001b[39mand\u001b[39;00m \u001b[39mnot\u001b[39;00m profile\u001b[39m.\u001b[39mrouting:\n\u001b[1;32m    117\u001b[0m     \u001b[39m# Ensures credentials are checked on construction\u001b[39;00m\n\u001b[1;32m    118\u001b[0m     connector_settings[\u001b[39m\"\u001b[39m\u001b[39minit_size\u001b[39m\u001b[39m\"\u001b[39m] \u001b[39m=\u001b[39m \u001b[39m1\u001b[39m\n\u001b[0;32m--> 119\u001b[0m \u001b[39mself\u001b[39m\u001b[39m.\u001b[39m_connector \u001b[39m=\u001b[39m Connector(profile, \u001b[39m*\u001b[39;49m\u001b[39m*\u001b[39;49mconnector_settings)\n\u001b[1;32m    120\u001b[0m \u001b[39mself\u001b[39m\u001b[39m.\u001b[39m_graphs \u001b[39m=\u001b[39m {}\n",
      "File \u001b[0;32m~/diploma/environ/lib/python3.9/site-packages/py2neo/client/__init__.py:960\u001b[0m, in \u001b[0;36mConnector.__init__\u001b[0;34m(self, profile, user_agent, init_size, max_size, max_age, routing_refresh_ttl)\u001b[0m\n\u001b[1;32m    958\u001b[0m \u001b[39melse\u001b[39;00m:\n\u001b[1;32m    959\u001b[0m     \u001b[39mself\u001b[39m\u001b[39m.\u001b[39m_router \u001b[39m=\u001b[39m \u001b[39mNone\u001b[39;00m\n\u001b[0;32m--> 960\u001b[0m \u001b[39mself\u001b[39;49m\u001b[39m.\u001b[39;49m_add_pools(\u001b[39m*\u001b[39;49m\u001b[39mself\u001b[39;49m\u001b[39m.\u001b[39;49m_initial_routers)\n",
      "File \u001b[0;32m~/diploma/environ/lib/python3.9/site-packages/py2neo/client/__init__.py:982\u001b[0m, in \u001b[0;36mConnector._add_pools\u001b[0;34m(self, *profiles)\u001b[0m\n\u001b[1;32m    980\u001b[0m     \u001b[39mcontinue\u001b[39;00m\n\u001b[1;32m    981\u001b[0m log\u001b[39m.\u001b[39mdebug(\u001b[39m\"\u001b[39m\u001b[39mAdding connection pool for profile \u001b[39m\u001b[39m%r\u001b[39;00m\u001b[39m\"\u001b[39m, profile)\n\u001b[0;32m--> 982\u001b[0m pool \u001b[39m=\u001b[39m ConnectionPool\u001b[39m.\u001b[39;49mopen(\n\u001b[1;32m    983\u001b[0m     profile,\n\u001b[1;32m    984\u001b[0m     user_agent\u001b[39m=\u001b[39;49m\u001b[39mself\u001b[39;49m\u001b[39m.\u001b[39;49m_user_agent,\n\u001b[1;32m    985\u001b[0m     init_size\u001b[39m=\u001b[39;49m\u001b[39mself\u001b[39;49m\u001b[39m.\u001b[39;49m_init_size,\n\u001b[1;32m    986\u001b[0m     max_size\u001b[39m=\u001b[39;49m\u001b[39mself\u001b[39;49m\u001b[39m.\u001b[39;49m_max_size,\n\u001b[1;32m    987\u001b[0m     max_age\u001b[39m=\u001b[39;49m\u001b[39mself\u001b[39;49m\u001b[39m.\u001b[39;49m_max_age,\n\u001b[1;32m    988\u001b[0m     on_broken\u001b[39m=\u001b[39;49m\u001b[39mself\u001b[39;49m\u001b[39m.\u001b[39;49m_on_broken)\n\u001b[1;32m    989\u001b[0m \u001b[39mself\u001b[39m\u001b[39m.\u001b[39m_pools[profile] \u001b[39m=\u001b[39m pool\n",
      "File \u001b[0;32m~/diploma/environ/lib/python3.9/site-packages/py2neo/client/__init__.py:649\u001b[0m, in \u001b[0;36mConnectionPool.open\u001b[0;34m(cls, profile, user_agent, init_size, max_size, max_age, on_broken)\u001b[0m\n\u001b[1;32m    627\u001b[0m \u001b[39m\"\"\" Create a new connection pool, with an option to seed one\u001b[39;00m\n\u001b[1;32m    628\u001b[0m \u001b[39mor more initial connections.\u001b[39;00m\n\u001b[1;32m    629\u001b[0m \n\u001b[0;32m   (...)\u001b[0m\n\u001b[1;32m    646\u001b[0m \u001b[39m    scheme\u001b[39;00m\n\u001b[1;32m    647\u001b[0m \u001b[39m\"\"\"\u001b[39;00m\n\u001b[1;32m    648\u001b[0m pool \u001b[39m=\u001b[39m \u001b[39mcls\u001b[39m(profile, user_agent, max_size, max_age, on_broken)\n\u001b[0;32m--> 649\u001b[0m seeds \u001b[39m=\u001b[39m [pool\u001b[39m.\u001b[39macquire() \u001b[39mfor\u001b[39;00m _ \u001b[39min\u001b[39;00m \u001b[39mrange\u001b[39m(init_size \u001b[39mor\u001b[39;00m \u001b[39mcls\u001b[39m\u001b[39m.\u001b[39mdefault_init_size)]\n\u001b[1;32m    650\u001b[0m \u001b[39mfor\u001b[39;00m seed \u001b[39min\u001b[39;00m seeds:\n\u001b[1;32m    651\u001b[0m     seed\u001b[39m.\u001b[39mrelease()\n",
      "File \u001b[0;32m~/diploma/environ/lib/python3.9/site-packages/py2neo/client/__init__.py:649\u001b[0m, in \u001b[0;36m<listcomp>\u001b[0;34m(.0)\u001b[0m\n\u001b[1;32m    627\u001b[0m \u001b[39m\"\"\" Create a new connection pool, with an option to seed one\u001b[39;00m\n\u001b[1;32m    628\u001b[0m \u001b[39mor more initial connections.\u001b[39;00m\n\u001b[1;32m    629\u001b[0m \n\u001b[0;32m   (...)\u001b[0m\n\u001b[1;32m    646\u001b[0m \u001b[39m    scheme\u001b[39;00m\n\u001b[1;32m    647\u001b[0m \u001b[39m\"\"\"\u001b[39;00m\n\u001b[1;32m    648\u001b[0m pool \u001b[39m=\u001b[39m \u001b[39mcls\u001b[39m(profile, user_agent, max_size, max_age, on_broken)\n\u001b[0;32m--> 649\u001b[0m seeds \u001b[39m=\u001b[39m [pool\u001b[39m.\u001b[39;49macquire() \u001b[39mfor\u001b[39;00m _ \u001b[39min\u001b[39;00m \u001b[39mrange\u001b[39m(init_size \u001b[39mor\u001b[39;00m \u001b[39mcls\u001b[39m\u001b[39m.\u001b[39mdefault_init_size)]\n\u001b[1;32m    650\u001b[0m \u001b[39mfor\u001b[39;00m seed \u001b[39min\u001b[39;00m seeds:\n\u001b[1;32m    651\u001b[0m     seed\u001b[39m.\u001b[39mrelease()\n",
      "File \u001b[0;32m~/diploma/environ/lib/python3.9/site-packages/py2neo/client/__init__.py:813\u001b[0m, in \u001b[0;36mConnectionPool.acquire\u001b[0;34m(self, force_reset, can_overfill)\u001b[0m\n\u001b[1;32m    807\u001b[0m \u001b[39mexcept\u001b[39;00m \u001b[39mIndexError\u001b[39;00m:\n\u001b[1;32m    808\u001b[0m     \u001b[39mif\u001b[39;00m \u001b[39mself\u001b[39m\u001b[39m.\u001b[39m_has_capacity() \u001b[39mor\u001b[39;00m can_overfill:\n\u001b[1;32m    809\u001b[0m         \u001b[39m# Plan B: if the pool isn't full, open\u001b[39;00m\n\u001b[1;32m    810\u001b[0m         \u001b[39m# a new connection. This may raise a\u001b[39;00m\n\u001b[1;32m    811\u001b[0m         \u001b[39m# ConnectionUnavailable exception, which\u001b[39;00m\n\u001b[1;32m    812\u001b[0m         \u001b[39m# should bubble up to the caller.\u001b[39;00m\n\u001b[0;32m--> 813\u001b[0m         cx \u001b[39m=\u001b[39m \u001b[39mself\u001b[39;49m\u001b[39m.\u001b[39;49m_connect()\n\u001b[1;32m    814\u001b[0m         \u001b[39mif\u001b[39;00m cx\u001b[39m.\u001b[39msupports_multi():\n\u001b[1;32m    815\u001b[0m             \u001b[39mself\u001b[39m\u001b[39m.\u001b[39m_supports_multi \u001b[39m=\u001b[39m \u001b[39mTrue\u001b[39;00m\n",
      "File \u001b[0;32m~/diploma/environ/lib/python3.9/site-packages/py2neo/client/__init__.py:764\u001b[0m, in \u001b[0;36mConnectionPool._connect\u001b[0;34m(self)\u001b[0m\n\u001b[1;32m    761\u001b[0m \u001b[39mdef\u001b[39;00m \u001b[39m_connect\u001b[39m(\u001b[39mself\u001b[39m):\n\u001b[1;32m    762\u001b[0m     \u001b[39m\"\"\" Open and return a new connection.\u001b[39;00m\n\u001b[1;32m    763\u001b[0m \u001b[39m    \"\"\"\u001b[39;00m\n\u001b[0;32m--> 764\u001b[0m     cx \u001b[39m=\u001b[39m Connection\u001b[39m.\u001b[39;49mopen(\u001b[39mself\u001b[39;49m\u001b[39m.\u001b[39;49mprofile, user_agent\u001b[39m=\u001b[39;49m\u001b[39mself\u001b[39;49m\u001b[39m.\u001b[39;49muser_agent,\n\u001b[1;32m    765\u001b[0m                          on_release\u001b[39m=\u001b[39;49m\u001b[39mlambda\u001b[39;49;00m c: \u001b[39mself\u001b[39;49m\u001b[39m.\u001b[39;49mrelease(c),\n\u001b[1;32m    766\u001b[0m                          on_broken\u001b[39m=\u001b[39;49m\u001b[39mlambda\u001b[39;49;00m msg: \u001b[39mself\u001b[39;49m\u001b[39m.\u001b[39;49m__on_broken(msg))\n\u001b[1;32m    767\u001b[0m     \u001b[39mself\u001b[39m\u001b[39m.\u001b[39m_server_agent \u001b[39m=\u001b[39m cx\u001b[39m.\u001b[39mserver_agent\n\u001b[1;32m    768\u001b[0m     \u001b[39mreturn\u001b[39;00m cx\n",
      "File \u001b[0;32m~/diploma/environ/lib/python3.9/site-packages/py2neo/client/__init__.py:174\u001b[0m, in \u001b[0;36mConnection.open\u001b[0;34m(cls, profile, user_agent, on_release, on_broken)\u001b[0m\n\u001b[1;32m    172\u001b[0m \u001b[39mif\u001b[39;00m profile\u001b[39m.\u001b[39mprotocol \u001b[39m==\u001b[39m \u001b[39m\"\u001b[39m\u001b[39mbolt\u001b[39m\u001b[39m\"\u001b[39m:\n\u001b[1;32m    173\u001b[0m     \u001b[39mfrom\u001b[39;00m \u001b[39mpy2neo\u001b[39;00m\u001b[39m.\u001b[39;00m\u001b[39mclient\u001b[39;00m\u001b[39m.\u001b[39;00m\u001b[39mbolt\u001b[39;00m \u001b[39mimport\u001b[39;00m Bolt\n\u001b[0;32m--> 174\u001b[0m     \u001b[39mreturn\u001b[39;00m Bolt\u001b[39m.\u001b[39;49mopen(profile, user_agent\u001b[39m=\u001b[39;49muser_agent,\n\u001b[1;32m    175\u001b[0m                      on_release\u001b[39m=\u001b[39;49mon_release, on_broken\u001b[39m=\u001b[39;49mon_broken)\n\u001b[1;32m    176\u001b[0m \u001b[39melif\u001b[39;00m profile\u001b[39m.\u001b[39mprotocol \u001b[39m==\u001b[39m \u001b[39m\"\u001b[39m\u001b[39mhttp\u001b[39m\u001b[39m\"\u001b[39m:\n\u001b[1;32m    177\u001b[0m     \u001b[39mfrom\u001b[39;00m \u001b[39mpy2neo\u001b[39;00m\u001b[39m.\u001b[39;00m\u001b[39mclient\u001b[39;00m\u001b[39m.\u001b[39;00m\u001b[39mhttp\u001b[39;00m \u001b[39mimport\u001b[39;00m HTTP\n",
      "File \u001b[0;32m~/diploma/environ/lib/python3.9/site-packages/py2neo/client/bolt.py:356\u001b[0m, in \u001b[0;36mBolt.open\u001b[0;34m(cls, profile, user_agent, on_release, on_broken)\u001b[0m\n\u001b[1;32m    354\u001b[0m \u001b[39mtry\u001b[39;00m:\n\u001b[1;32m    355\u001b[0m     wire \u001b[39m=\u001b[39m \u001b[39mcls\u001b[39m\u001b[39m.\u001b[39m_connect(profile, on_broken\u001b[39m=\u001b[39mon_broken)\n\u001b[0;32m--> 356\u001b[0m     protocol_version \u001b[39m=\u001b[39m \u001b[39mcls\u001b[39;49m\u001b[39m.\u001b[39;49m_handshake(wire)\n\u001b[1;32m    357\u001b[0m     subclass \u001b[39m=\u001b[39m \u001b[39mcls\u001b[39m\u001b[39m.\u001b[39m_get_subclass(protocol_version)\n\u001b[1;32m    358\u001b[0m     \u001b[39mif\u001b[39;00m subclass \u001b[39mis\u001b[39;00m \u001b[39mNone\u001b[39;00m:\n",
      "File \u001b[0;32m~/diploma/environ/lib/python3.9/site-packages/py2neo/client/bolt.py:388\u001b[0m, in \u001b[0;36mBolt._handshake\u001b[0;34m(cls, wire)\u001b[0m\n\u001b[1;32m    383\u001b[0m wire\u001b[39m.\u001b[39mwrite(\u001b[39mb\u001b[39m\u001b[39m\"\u001b[39m\u001b[39m\\x00\u001b[39;00m\u001b[39m\\x03\u001b[39;00m\u001b[39m\\x03\u001b[39;00m\u001b[39m\\x04\u001b[39;00m\u001b[39m\"\u001b[39m      \u001b[39m# Neo4j 4.3.x and Neo4j 4.2, 4.1, 4.0 (patched)\u001b[39;00m\n\u001b[1;32m    384\u001b[0m            \u001b[39mb\u001b[39m\u001b[39m\"\u001b[39m\u001b[39m\\x00\u001b[39;00m\u001b[39m\\x00\u001b[39;00m\u001b[39m\\x00\u001b[39;00m\u001b[39m\\x04\u001b[39;00m\u001b[39m\"\u001b[39m      \u001b[39m# Neo4j 4.2, 4.1, 4.0 (unpatched)\u001b[39;00m\n\u001b[1;32m    385\u001b[0m            \u001b[39mb\u001b[39m\u001b[39m\"\u001b[39m\u001b[39m\\x00\u001b[39;00m\u001b[39m\\x00\u001b[39;00m\u001b[39m\\x00\u001b[39;00m\u001b[39m\\x03\u001b[39;00m\u001b[39m\"\u001b[39m      \u001b[39m# Neo4j 3.5.x\u001b[39;00m\n\u001b[1;32m    386\u001b[0m            \u001b[39mb\u001b[39m\u001b[39m\"\u001b[39m\u001b[39m\\x00\u001b[39;00m\u001b[39m\\x00\u001b[39;00m\u001b[39m\\x00\u001b[39;00m\u001b[39m\\x02\u001b[39;00m\u001b[39m\"\u001b[39m)     \u001b[39m# Neo4j 3.4.x\u001b[39;00m\n\u001b[1;32m    387\u001b[0m wire\u001b[39m.\u001b[39msend()\n\u001b[0;32m--> 388\u001b[0m v \u001b[39m=\u001b[39m \u001b[39mbytearray\u001b[39m(wire\u001b[39m.\u001b[39;49mread(\u001b[39m4\u001b[39;49m))\n\u001b[1;32m    389\u001b[0m \u001b[39mif\u001b[39;00m v \u001b[39m==\u001b[39m \u001b[39mbytearray\u001b[39m([\u001b[39m0\u001b[39m, \u001b[39m0\u001b[39m, \u001b[39m0\u001b[39m, \u001b[39m0\u001b[39m]):\n\u001b[1;32m    390\u001b[0m     \u001b[39mraise\u001b[39;00m \u001b[39mTypeError\u001b[39;00m(\u001b[39m\"\u001b[39m\u001b[39mUnable to negotiate compatible protocol version\u001b[39m\u001b[39m\"\u001b[39m)\n",
      "File \u001b[0;32m~/diploma/environ/lib/python3.9/site-packages/py2neo/wiring.py:117\u001b[0m, in \u001b[0;36mWire.read\u001b[0;34m(self, n)\u001b[0m\n\u001b[1;32m    115\u001b[0m requested \u001b[39m=\u001b[39m \u001b[39mmax\u001b[39m(required, \u001b[39m16384\u001b[39m)\n\u001b[1;32m    116\u001b[0m \u001b[39mtry\u001b[39;00m:\n\u001b[0;32m--> 117\u001b[0m     received \u001b[39m=\u001b[39m \u001b[39mself\u001b[39;49m\u001b[39m.\u001b[39;49m__socket\u001b[39m.\u001b[39;49mrecv(requested)\n\u001b[1;32m    118\u001b[0m \u001b[39mexcept\u001b[39;00m (\u001b[39mIOError\u001b[39;00m, \u001b[39mOSError\u001b[39;00m):\n\u001b[1;32m    119\u001b[0m     \u001b[39mself\u001b[39m\u001b[39m.\u001b[39m__mark_broken(\u001b[39m\"\u001b[39m\u001b[39mWire broken\u001b[39m\u001b[39m\"\u001b[39m)\n",
      "\u001b[0;31mKeyboardInterrupt\u001b[0m: "
     ]
    }
   ],
   "source": [
    "device = torch.device('cuda' if torch.cuda.is_available() else 'cpu')\n",
    "\n",
    "\n",
    "path = osp.join(osp.dirname(osp.abspath('')), '../../data/MovieLensNeo4jMetaData')\n",
    "dataset = Neo4jMovieLensMetaData(\n",
    "    path,\n",
    "    model_name='all-MiniLM-L6-v2',\n",
    "    database_url=\"bolt://localhost:7687\",\n",
    "    database_username=\"neo4j\",\n",
    "    database_password=\"admin\",\n",
    "    force_pre_process=True,\n",
    "    force_db_restore=False,\n",
    "    text_features=[\"title\", \"original_title\"],\n",
    "    list_features=[],\n",
    "    fastRP_features=[],\n",
    "    numeric_features=[],\n",
    "    node2vec_features=[],\n",
    "    SAGE_features=[],\n",
    ")\n",
    "\n",
    "data = dataset[0].to(device)\n",
    "# Add user node features for message passing:\n",
    "data['user'].x = torch.eye(data['user'].num_nodes, device=device)\n",
    "del data['user'].num_nodes\n",
    "\n",
    "# Add a reverse ('movie', 'rev_rates', 'user') relation for message passing:\n",
    "data = T.ToUndirected()(data)\n",
    "del data['movie', 'rev_rates', 'user'].edge_label  # Remove \"reverse\" label.\n",
    "\n",
    "# Perform a link-level split into training, validation, and test edges:\n",
    "train_data, val_data, test_data = T.RandomLinkSplit(\n",
    "    num_val=0.1,\n",
    "    num_test=0.1,\n",
    "    neg_sampling_ratio=0.0,\n",
    "    edge_types=[('user', 'rates', 'movie')],\n",
    "    rev_edge_types=[('movie', 'rev_rates', 'user')],\n",
    ")(data)"
   ]
  },
  {
   "attachments": {},
   "cell_type": "markdown",
   "metadata": {},
   "source": [
    "### Model"
   ]
  },
  {
   "cell_type": "code",
   "execution_count": null,
   "metadata": {},
   "outputs": [],
   "source": [
    "class GNNEncoder(torch.nn.Module):\n",
    "    def __init__(self, hidden_channels, out_channels):\n",
    "        super().__init__()\n",
    "        self.conv1 = SAGEConv((-1, -1), hidden_channels)\n",
    "        self.conv2 = SAGEConv((-1, -1), out_channels)\n",
    "        self.conv3 = SAGEConv((-1, -1), out_channels)\n",
    "\n",
    "    def forward(self, x, edge_index):\n",
    "        x = self.conv1(x, edge_index).relu()\n",
    "        x = F.dropout(x, p=0.1, training=self.training)\n",
    "        x = self.conv2(x, edge_index).relu()\n",
    "        x = F.dropout(x, p=0.1, training=self.training)\n",
    "        x = self.conv3(x, edge_index)\n",
    "        return x\n",
    "\n",
    "\n",
    "class EdgeDecoder(torch.nn.Module):\n",
    "    def __init__(self, hidden_channels):\n",
    "        super().__init__()\n",
    "        self.lin1 = Linear(2 * hidden_channels, hidden_channels)\n",
    "        self.lin2 = Linear(hidden_channels, hidden_channels)\n",
    "        self.lin3 = Linear(hidden_channels, hidden_channels)\n",
    "        self.lin4 = Linear(hidden_channels, 1)\n",
    "\n",
    "    def forward(self, z_dict, edge_label_index):\n",
    "        row, col = edge_label_index\n",
    "        z = torch.cat([z_dict['user'][row], z_dict['movie'][col]], dim=-1)\n",
    "\n",
    "        z = self.lin1(z).relu()\n",
    "        z = F.dropout(z, p=0.1, training=self.training)\n",
    "        z = self.lin2(z).relu()\n",
    "        z = F.dropout(z, p=0.1, training=self.training)\n",
    "        z = self.lin3(z).relu()\n",
    "        z = F.dropout(z, p=0.1, training=self.training)\n",
    "        z = self.lin4(z)\n",
    "        return z.view(-1)\n",
    "\n",
    "\n",
    "class Model(torch.nn.Module):\n",
    "    def __init__(self, hidden_channels):\n",
    "        super().__init__()\n",
    "        self.encoder = GNNEncoder(hidden_channels, hidden_channels)\n",
    "        self.encoder = to_hetero(self.encoder, data.metadata(), aggr='sum')\n",
    "        self.decoder = EdgeDecoder(hidden_channels)\n",
    "\n",
    "    def forward(self, x_dict, edge_index_dict, edge_label_index):\n",
    "        z_dict = self.encoder(x_dict, edge_index_dict)\n",
    "        return self.decoder(z_dict, edge_label_index)"
   ]
  },
  {
   "attachments": {},
   "cell_type": "markdown",
   "metadata": {},
   "source": [
    "### Train-test functions"
   ]
  },
  {
   "cell_type": "code",
   "execution_count": null,
   "metadata": {},
   "outputs": [],
   "source": [
    "def train_test(model, use_weighted_loss, epochs=50):\n",
    "    latest_predictions = []\n",
    "\n",
    "    if use_weighted_loss:\n",
    "        weight = torch.bincount(train_data['user', 'movie'].edge_label)\n",
    "        weight = weight.max() / weight\n",
    "    else:\n",
    "        weight = None\n",
    "\n",
    "    def weighted_mse_loss(pred, target, weight=None):\n",
    "        weight = 1. if weight is None else weight[target].to(pred.dtype)\n",
    "        return (weight * (pred - target.to(pred.dtype)).pow(2)).mean()\n",
    "\n",
    "    with torch.no_grad():\n",
    "        model.encoder(train_data.x_dict, train_data.edge_index_dict)\n",
    "\n",
    "    optimizer = torch.optim.Adam(model.parameters(), lr=0.01)\n",
    "\n",
    "\n",
    "    def train():\n",
    "        model.train()\n",
    "        optimizer.zero_grad()\n",
    "        pred = model(train_data.x_dict, train_data.edge_index_dict,\n",
    "                    train_data['user', 'movie'].edge_label_index)\n",
    "        target = train_data['user', 'movie'].edge_label\n",
    "        loss = weighted_mse_loss(pred, target, weight)\n",
    "        loss.backward()\n",
    "        optimizer.step()\n",
    "        return float(loss)\n",
    "\n",
    "\n",
    "    @torch.no_grad()\n",
    "    def test(data):\n",
    "        nonlocal latest_predictions\n",
    "        model.eval()\n",
    "        pred = model(data.x_dict, data.edge_index_dict,\n",
    "                    data['user', 'movie'].edge_label_index)\n",
    "        pred = pred.clamp(min=0, max=5)\n",
    "        latest_predictions = pred\n",
    "        target = data['user', 'movie'].edge_label.float()\n",
    "        rmse = F.mse_loss(pred, target).sqrt()\n",
    "        return float(rmse)\n",
    "\n",
    "    for epoch in range(1, epochs):\n",
    "        loss = train()\n",
    "        train_rmse = test(train_data)\n",
    "        val_rmse = test(val_data)\n",
    "        test_rmse = test(test_data)\n",
    "        if not epoch % 5:\n",
    "            print(f'Epoch: {epoch:03d}, Loss: {loss:.4f}, Train: {train_rmse:.4f}, '\n",
    "                f'Val: {val_rmse:.4f}, Test: {test_rmse:.4f}')\n",
    "    \n",
    "    return latest_predictions\n"
   ]
  },
  {
   "attachments": {},
   "cell_type": "markdown",
   "metadata": {},
   "source": [
    "### Experiments on imbalanced DB with 100K ratings with <u>weighted and unweighted loss</u>"
   ]
  },
  {
   "cell_type": "code",
   "execution_count": null,
   "metadata": {},
   "outputs": [
    {
     "name": "stdout",
     "output_type": "stream",
     "text": [
      "Epoch: 005, Loss: 9.3604, Train: 1.1775, Val: 1.1760, Test: 1.1917\n",
      "Epoch: 010, Loss: 8.6180, Train: 2.0962, Val: 2.1097, Test: 2.1055\n",
      "Epoch: 015, Loss: 7.5645, Train: 1.2644, Val: 1.2971, Test: 1.2847\n",
      "Epoch: 020, Loss: 7.0147, Train: 1.7045, Val: 1.7247, Test: 1.7191\n",
      "Epoch: 025, Loss: 6.6965, Train: 1.2724, Val: 1.2909, Test: 1.2891\n",
      "Epoch: 030, Loss: 6.4243, Train: 1.5545, Val: 1.5724, Test: 1.5676\n",
      "Epoch: 035, Loss: 6.1799, Train: 1.3015, Val: 1.3154, Test: 1.3053\n",
      "Epoch: 040, Loss: 5.9311, Train: 1.3802, Val: 1.4144, Test: 1.4084\n",
      "Epoch: 045, Loss: 5.5448, Train: 1.3412, Val: 1.3606, Test: 1.3683\n",
      "Epoch: 050, Loss: 5.2747, Train: 1.2234, Val: 1.2348, Test: 1.2491\n",
      "Epoch: 055, Loss: 4.6912, Train: 1.2330, Val: 1.2414, Test: 1.2432\n",
      "Epoch: 060, Loss: 4.3588, Train: 1.3015, Val: 1.3274, Test: 1.3441\n",
      "Epoch: 065, Loss: 4.2987, Train: 1.2846, Val: 1.3112, Test: 1.3157\n",
      "Epoch: 070, Loss: 4.0389, Train: 1.2296, Val: 1.2547, Test: 1.2499\n",
      "Epoch: 075, Loss: 3.9744, Train: 1.2028, Val: 1.2426, Test: 1.2418\n",
      "Epoch: 080, Loss: 3.8705, Train: 1.2082, Val: 1.2513, Test: 1.2563\n",
      "Epoch: 085, Loss: 3.8011, Train: 1.2501, Val: 1.2789, Test: 1.2804\n",
      "Epoch: 090, Loss: 3.7151, Train: 1.2552, Val: 1.2757, Test: 1.2704\n",
      "Epoch: 095, Loss: 3.7017, Train: 1.1946, Val: 1.2421, Test: 1.2212\n",
      "Epoch: 100, Loss: 3.6008, Train: 1.2574, Val: 1.2967, Test: 1.2998\n",
      "Epoch: 105, Loss: 3.6386, Train: 1.1331, Val: 1.1943, Test: 1.1985\n",
      "Epoch: 110, Loss: 3.5839, Train: 1.2019, Val: 1.2655, Test: 1.2607\n",
      "Epoch: 115, Loss: 3.5630, Train: 1.2339, Val: 1.3001, Test: 1.2813\n",
      "Epoch: 120, Loss: 3.4866, Train: 1.1440, Val: 1.2139, Test: 1.2469\n",
      "Epoch: 125, Loss: 3.4862, Train: 1.1545, Val: 1.2086, Test: 1.2175\n",
      "Epoch: 130, Loss: 3.3993, Train: 1.2062, Val: 1.2756, Test: 1.2637\n",
      "Epoch: 135, Loss: 3.3558, Train: 1.1925, Val: 1.2536, Test: 1.2389\n",
      "Epoch: 140, Loss: 3.3205, Train: 1.2143, Val: 1.2729, Test: 1.2754\n",
      "Epoch: 145, Loss: 3.3172, Train: 1.1479, Val: 1.2081, Test: 1.2106\n",
      "Epoch: 150, Loss: 3.2045, Train: 1.2342, Val: 1.3035, Test: 1.2750\n",
      "Epoch: 155, Loss: 3.2414, Train: 1.1030, Val: 1.1887, Test: 1.1834\n",
      "Epoch: 160, Loss: 3.1482, Train: 1.1516, Val: 1.2302, Test: 1.2146\n",
      "Epoch: 165, Loss: 3.1373, Train: 1.1432, Val: 1.2161, Test: 1.2412\n",
      "Epoch: 170, Loss: 3.1087, Train: 1.0684, Val: 1.1698, Test: 1.1611\n",
      "Epoch: 175, Loss: 3.0608, Train: 1.2235, Val: 1.2915, Test: 1.2881\n",
      "Epoch: 180, Loss: 3.0331, Train: 1.1160, Val: 1.2049, Test: 1.1953\n",
      "Epoch: 185, Loss: 3.0470, Train: 1.1413, Val: 1.2154, Test: 1.2104\n",
      "Epoch: 190, Loss: 2.9599, Train: 1.1469, Val: 1.2286, Test: 1.2192\n",
      "Epoch: 195, Loss: 3.0115, Train: 1.1671, Val: 1.2488, Test: 1.2387\n",
      "Epoch: 200, Loss: 2.9349, Train: 1.1035, Val: 1.2230, Test: 1.1963\n",
      "Epoch: 205, Loss: 2.9249, Train: 1.0883, Val: 1.1709, Test: 1.1621\n",
      "Epoch: 210, Loss: 2.8897, Train: 1.1399, Val: 1.2361, Test: 1.2253\n",
      "Epoch: 215, Loss: 2.9267, Train: 1.1990, Val: 1.2901, Test: 1.2728\n",
      "Epoch: 220, Loss: 2.8697, Train: 1.0812, Val: 1.1686, Test: 1.1743\n",
      "Epoch: 225, Loss: 2.8679, Train: 1.1582, Val: 1.2571, Test: 1.2585\n",
      "Epoch: 230, Loss: 2.9768, Train: 1.1669, Val: 1.2636, Test: 1.2637\n",
      "Epoch: 235, Loss: 2.9017, Train: 1.1041, Val: 1.1785, Test: 1.1658\n",
      "Epoch: 240, Loss: 2.9007, Train: 1.1578, Val: 1.2493, Test: 1.2385\n",
      "Epoch: 245, Loss: 2.8560, Train: 1.1039, Val: 1.1900, Test: 1.1828\n",
      "Epoch: 250, Loss: 2.7697, Train: 1.0664, Val: 1.1628, Test: 1.1534\n"
     ]
    },
    {
     "data": {
      "text/plain": [
       "(array([ 133.,  407.,  308.,  582., 1539., 2206., 2204., 2008.,  584.,\n",
       "           9.]),\n",
       " array([0.12957017, 0.61661315, 1.10365617, 1.59069908, 2.0777421 ,\n",
       "        2.564785  , 3.05182815, 3.53887105, 4.02591419, 4.5129571 ,\n",
       "        5.        ]),\n",
       " <BarContainer object of 10 artists>)"
      ]
     },
     "execution_count": 21,
     "metadata": {},
     "output_type": "execute_result"
    },
    {
     "data": {
      "image/png": "[encoded data removed]",
      "text/plain": [
       "<Figure size 640x480 with 1 Axes>"
      ]
     },
     "metadata": {},
     "output_type": "display_data"
    }
   ],
   "source": [
    "model = Model(hidden_channels=32).to(device)\n",
    "preds = train_test(model, use_weighted_loss=True, epochs=251)\n",
    "plt.hist(preds)"
   ]
  },
  {
   "cell_type": "code",
   "execution_count": null,
   "metadata": {},
   "outputs": [
    {
     "name": "stdout",
     "output_type": "stream",
     "text": [
      "Epoch: 005, Loss: 7.4245, Train: 1.5936, Val: 1.6245, Test: 1.6027\n",
      "Epoch: 010, Loss: 3.5028, Train: 2.0942, Val: 2.1120, Test: 2.1120\n",
      "Epoch: 015, Loss: 2.7184, Train: 1.2226, Val: 1.2329, Test: 1.2454\n",
      "Epoch: 020, Loss: 1.9306, Train: 1.1136, Val: 1.1361, Test: 1.1273\n",
      "Epoch: 025, Loss: 2.1779, Train: 1.2802, Val: 1.3116, Test: 1.2989\n",
      "Epoch: 030, Loss: 1.9150, Train: 1.1015, Val: 1.1069, Test: 1.0985\n",
      "Epoch: 035, Loss: 1.7239, Train: 1.1632, Val: 1.1901, Test: 1.1697\n",
      "Epoch: 040, Loss: 1.5834, Train: 1.0810, Val: 1.0857, Test: 1.0858\n",
      "Epoch: 045, Loss: 1.5340, Train: 1.1024, Val: 1.1191, Test: 1.1093\n",
      "Epoch: 050, Loss: 1.4751, Train: 1.0792, Val: 1.0939, Test: 1.0889\n",
      "Epoch: 055, Loss: 1.4157, Train: 1.0710, Val: 1.0877, Test: 1.0796\n",
      "Epoch: 060, Loss: 1.3894, Train: 1.0971, Val: 1.1185, Test: 1.1098\n",
      "Epoch: 065, Loss: 1.3680, Train: 1.0659, Val: 1.0793, Test: 1.0659\n",
      "Epoch: 070, Loss: 1.3441, Train: 1.0588, Val: 1.0822, Test: 1.0820\n",
      "Epoch: 075, Loss: 1.3185, Train: 1.0706, Val: 1.0892, Test: 1.0888\n",
      "Epoch: 080, Loss: 1.2827, Train: 1.0571, Val: 1.0862, Test: 1.0794\n",
      "Epoch: 085, Loss: 1.2715, Train: 1.0482, Val: 1.0752, Test: 1.0696\n",
      "Epoch: 090, Loss: 1.2307, Train: 1.0565, Val: 1.0701, Test: 1.0717\n",
      "Epoch: 095, Loss: 1.1992, Train: 1.0370, Val: 1.0590, Test: 1.0524\n",
      "Epoch: 100, Loss: 1.1869, Train: 1.0431, Val: 1.0741, Test: 1.0594\n",
      "Epoch: 105, Loss: 1.1513, Train: 1.0467, Val: 1.0759, Test: 1.0652\n",
      "Epoch: 110, Loss: 1.1359, Train: 1.0035, Val: 1.0336, Test: 1.0252\n",
      "Epoch: 115, Loss: 1.1229, Train: 1.0198, Val: 1.0475, Test: 1.0375\n",
      "Epoch: 120, Loss: 1.1087, Train: 1.0401, Val: 1.0685, Test: 1.0593\n",
      "Epoch: 125, Loss: 1.0903, Train: 1.0761, Val: 1.1050, Test: 1.0968\n",
      "Epoch: 130, Loss: 1.0785, Train: 1.0539, Val: 1.0807, Test: 1.0741\n",
      "Epoch: 135, Loss: 1.0720, Train: 1.0357, Val: 1.0612, Test: 1.0541\n",
      "Epoch: 140, Loss: 1.0675, Train: 1.0380, Val: 1.0678, Test: 1.0522\n",
      "Epoch: 145, Loss: 1.0595, Train: 1.0596, Val: 1.0773, Test: 1.0678\n",
      "Epoch: 150, Loss: 1.0540, Train: 1.0494, Val: 1.0775, Test: 1.0675\n",
      "Epoch: 155, Loss: 1.0488, Train: 1.0196, Val: 1.0491, Test: 1.0441\n",
      "Epoch: 160, Loss: 1.0425, Train: 1.0592, Val: 1.0950, Test: 1.0799\n",
      "Epoch: 165, Loss: 1.0426, Train: 1.0197, Val: 1.0500, Test: 1.0488\n",
      "Epoch: 170, Loss: 1.0384, Train: 1.0915, Val: 1.1221, Test: 1.1221\n",
      "Epoch: 175, Loss: 1.0375, Train: 1.0483, Val: 1.0829, Test: 1.0698\n",
      "Epoch: 180, Loss: 1.0264, Train: 1.0363, Val: 1.0665, Test: 1.0654\n",
      "Epoch: 185, Loss: 1.0282, Train: 1.0674, Val: 1.1013, Test: 1.0951\n",
      "Epoch: 190, Loss: 1.0217, Train: 1.0778, Val: 1.1015, Test: 1.0996\n",
      "Epoch: 195, Loss: 1.0127, Train: 1.0723, Val: 1.1016, Test: 1.0971\n",
      "Epoch: 200, Loss: 1.0142, Train: 1.0340, Val: 1.0755, Test: 1.0710\n",
      "Epoch: 205, Loss: 1.0090, Train: 1.0586, Val: 1.0920, Test: 1.0920\n",
      "Epoch: 210, Loss: 1.0100, Train: 1.0451, Val: 1.0774, Test: 1.0848\n",
      "Epoch: 215, Loss: 1.0294, Train: 1.0320, Val: 1.0661, Test: 1.0667\n",
      "Epoch: 220, Loss: 0.9976, Train: 1.0734, Val: 1.0924, Test: 1.0904\n",
      "Epoch: 225, Loss: 0.9887, Train: 1.0097, Val: 1.0466, Test: 1.0495\n",
      "Epoch: 230, Loss: 0.9866, Train: 1.0592, Val: 1.0958, Test: 1.0946\n",
      "Epoch: 235, Loss: 0.9927, Train: 0.9918, Val: 1.0333, Test: 1.0266\n",
      "Epoch: 240, Loss: 0.9823, Train: 1.0788, Val: 1.1163, Test: 1.1103\n",
      "Epoch: 245, Loss: 0.9897, Train: 1.0840, Val: 1.1168, Test: 1.1182\n",
      "Epoch: 250, Loss: 0.9754, Train: 0.9914, Val: 1.0386, Test: 1.0254\n"
     ]
    },
    {
     "data": {
      "text/plain": [
       "(array([  87.,  359., 1029., 2050., 2662., 2127., 1152.,  413.,   94.,\n",
       "           7.]),\n",
       " array([1.57086921, 1.89743888, 2.22400856, 2.55057836, 2.87714815,\n",
       "        3.20371771, 3.5302875 , 3.8568573 , 4.18342686, 4.50999689,\n",
       "        4.83656645]),\n",
       " <BarContainer object of 10 artists>)"
      ]
     },
     "execution_count": 22,
     "metadata": {},
     "output_type": "execute_result"
    },
    {
     "data": {
      "image/png": "[encoded data removed]",
      "text/plain": [
       "<Figure size 640x480 with 1 Axes>"
      ]
     },
     "metadata": {},
     "output_type": "display_data"
    }
   ],
   "source": [
    "model = Model(hidden_channels=32).to(device)\n",
    "preds = train_test(model, use_weighted_loss=False, epochs=251)\n",
    "plt.hist(preds)"
   ]
  }
 ],
 "metadata": {
  "kernelspec": {
   "display_name": "environ",
   "language": "python",
   "name": "python3"
  },
  "language_info": {
   "codemirror_mode": {
    "name": "ipython",
    "version": 3
   },
   "file_extension": ".py",
   "mimetype": "text/x-python",
   "name": "python",
   "nbconvert_exporter": "python",
   "pygments_lexer": "ipython3",
   "version": "3.9.6 (default, Oct 18 2022, 12:41:40) \n[Clang 14.0.0 (clang-1400.0.29.202)]"
  },
  "orig_nbformat": 4,
  "vscode": {
   "interpreter": {
    "hash": "acbc58aadc5672afc04cc91f2a1726d8eb7b999e15e50d024070fdc74729208f"
   }
  }
 },
 "nbformat": 4,
 "nbformat_minor": 2
}
