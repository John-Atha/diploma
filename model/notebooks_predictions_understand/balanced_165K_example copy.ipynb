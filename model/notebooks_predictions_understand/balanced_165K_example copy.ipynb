{
 "cells": [
  {
   "attachments": {},
   "cell_type": "markdown",
   "metadata": {},
   "source": [
    "### Imports"
   ]
  },
  {
   "cell_type": "code",
   "execution_count": 1,
   "metadata": {},
   "outputs": [
    {
     "name": "stderr",
     "output_type": "stream",
     "text": [
      "/Users/ioannisathanasiou/diploma/environ/lib/python3.9/site-packages/tqdm/auto.py:22: TqdmWarning: IProgress not found. Please update jupyter and ipywidgets. See https://ipywidgets.readthedocs.io/en/stable/user_install.html\n",
      "  from .autonotebook import tqdm as notebook_tqdm\n"
     ]
    }
   ],
   "source": [
    "import argparse\n",
    "import os.path as osp\n",
    "\n",
    "import torch\n",
    "import torch.nn.functional as F\n",
    "from torch.nn import Linear\n",
    "\n",
    "import torch_geometric.transforms as T\n",
    "from torch_geometric.datasets import MovieLens\n",
    "from torch_geometric.nn import SAGEConv, to_hetero\n",
    "\n",
    "import matplotlib.pyplot as plt\n",
    "\n",
    "import pathlib\n",
    "import os\n",
    "import sys\n",
    "parent_path = pathlib.Path(os.getcwd()).parent.absolute()\n",
    "sys.path.append(str(parent_path))\n",
    "from utils.Neo4jMovieLensMetaData import Neo4jMovieLensMetaData\n",
    "from utils.gnn_simple import Model\n",
    "from utils.visualize import plot_loss, plot_test"
   ]
  },
  {
   "attachments": {},
   "cell_type": "markdown",
   "metadata": {},
   "source": [
    "### Data"
   ]
  },
  {
   "cell_type": "code",
   "execution_count": 2,
   "metadata": {},
   "outputs": [
    {
     "name": "stderr",
     "output_type": "stream",
     "text": [
      "Processing...\n"
     ]
    },
    {
     "name": "stdout",
     "output_type": "stream",
     "text": [
      "Movies have features...\n",
      "Encoding title...\n",
      "Encoding original_title...\n",
      "[torch.Size([2055, 384]), torch.Size([2055, 384])]\n"
     ]
    },
    {
     "name": "stderr",
     "output_type": "stream",
     "text": [
      "Done!\n"
     ]
    }
   ],
   "source": [
    "device = torch.device('cuda' if torch.cuda.is_available() else 'cpu')\n",
    "\n",
    "\n",
    "path = osp.join(osp.dirname(osp.abspath('')), '../../data/MovieLensNeo4jMetaData')\n",
    "dataset = Neo4jMovieLensMetaData(\n",
    "    path,\n",
    "    model_name='all-MiniLM-L6-v2',\n",
    "    database_url=\"bolt://localhost:7687\",\n",
    "    database_username=\"neo4j\",\n",
    "    database_password=\"admin\",\n",
    "    force_pre_process=True,\n",
    "    force_db_restore=False,\n",
    "    text_features=[\"title\", \"original_title\"],\n",
    "    list_features=[],\n",
    "    fastRP_features=[],\n",
    "    numeric_features=[],\n",
    "    node2vec_features=[],\n",
    "    SAGE_features=[],\n",
    ")\n",
    "\n",
    "data = dataset[0].to(device)\n",
    "# Add user node features for message passing:\n",
    "data['user'].x = torch.eye(data['user'].num_nodes, device=device)\n",
    "del data['user'].num_nodes\n",
    "\n",
    "# Add a reverse ('movie', 'rev_rates', 'user') relation for message passing:\n",
    "data = T.ToUndirected()(data)\n",
    "del data['movie', 'rev_rates', 'user'].edge_label  # Remove \"reverse\" label.\n",
    "\n",
    "# Perform a link-level split into training, validation, and test edges:\n",
    "train_data, val_data, test_data = T.RandomLinkSplit(\n",
    "    num_val=0.1,\n",
    "    num_test=0.1,\n",
    "    neg_sampling_ratio=0.0,\n",
    "    edge_types=[('user', 'rates', 'movie')],\n",
    "    rev_edge_types=[('movie', 'rev_rates', 'user')],\n",
    ")(data)"
   ]
  },
  {
   "attachments": {},
   "cell_type": "markdown",
   "metadata": {},
   "source": [
    "### Model"
   ]
  },
  {
   "cell_type": "code",
   "execution_count": 3,
   "metadata": {},
   "outputs": [],
   "source": [
    "class GNNEncoder(torch.nn.Module):\n",
    "    def __init__(self, hidden_channels, out_channels):\n",
    "        super().__init__()\n",
    "        self.conv1 = SAGEConv((-1, -1), hidden_channels)\n",
    "        self.conv2 = SAGEConv((-1, -1), out_channels)\n",
    "\n",
    "    def forward(self, x, edge_index):\n",
    "        x = self.conv1(x, edge_index).relu()\n",
    "        x = self.conv2(x, edge_index)\n",
    "        return x\n",
    "\n",
    "\n",
    "class EdgeDecoder(torch.nn.Module):\n",
    "    def __init__(self, hidden_channels):\n",
    "        super().__init__()\n",
    "        self.lin1 = Linear(2 * hidden_channels, hidden_channels)\n",
    "        self.lin2 = Linear(hidden_channels, 1)\n",
    "\n",
    "    def forward(self, z_dict, edge_label_index):\n",
    "        row, col = edge_label_index\n",
    "        z = torch.cat([z_dict['user'][row], z_dict['movie'][col]], dim=-1)\n",
    "\n",
    "        z = self.lin1(z).relu()\n",
    "        z = self.lin2(z)\n",
    "        return z.view(-1)\n",
    "\n",
    "\n",
    "class Model(torch.nn.Module):\n",
    "    def __init__(self, hidden_channels):\n",
    "        super().__init__()\n",
    "        self.encoder = GNNEncoder(hidden_channels, hidden_channels)\n",
    "        self.encoder = to_hetero(self.encoder, data.metadata(), aggr='sum')\n",
    "        self.decoder = EdgeDecoder(hidden_channels)\n",
    "\n",
    "    def forward(self, x_dict, edge_index_dict, edge_label_index):\n",
    "        z_dict = self.encoder(x_dict, edge_index_dict)\n",
    "        return self.decoder(z_dict, edge_label_index)"
   ]
  },
  {
   "attachments": {},
   "cell_type": "markdown",
   "metadata": {},
   "source": [
    "### Train-test functions"
   ]
  },
  {
   "cell_type": "code",
   "execution_count": 4,
   "metadata": {},
   "outputs": [],
   "source": [
    "def train_test(model, use_weighted_loss):\n",
    "    latest_predictions = []\n",
    "\n",
    "    if use_weighted_loss:\n",
    "        weight = torch.bincount(train_data['user', 'movie'].edge_label)\n",
    "        weight = weight.max() / weight\n",
    "    else:\n",
    "        weight = None\n",
    "\n",
    "    def weighted_mse_loss(pred, target, weight=None):\n",
    "        weight = 1. if weight is None else weight[target].to(pred.dtype)\n",
    "        return (weight * (pred - target.to(pred.dtype)).pow(2)).mean()\n",
    "\n",
    "    with torch.no_grad():\n",
    "        model.encoder(train_data.x_dict, train_data.edge_index_dict)\n",
    "\n",
    "    optimizer = torch.optim.Adam(model.parameters(), lr=0.01)\n",
    "\n",
    "\n",
    "    def train():\n",
    "        model.train()\n",
    "        optimizer.zero_grad()\n",
    "        pred = model(train_data.x_dict, train_data.edge_index_dict,\n",
    "                    train_data['user', 'movie'].edge_label_index)\n",
    "        target = train_data['user', 'movie'].edge_label\n",
    "        loss = weighted_mse_loss(pred, target, weight)\n",
    "        loss.backward()\n",
    "        optimizer.step()\n",
    "        return float(loss)\n",
    "\n",
    "\n",
    "    @torch.no_grad()\n",
    "    def test(data):\n",
    "        nonlocal latest_predictions\n",
    "        model.eval()\n",
    "        pred = model(data.x_dict, data.edge_index_dict,\n",
    "                    data['user', 'movie'].edge_label_index)\n",
    "        pred = pred.clamp(min=0, max=5)\n",
    "        latest_predictions = pred\n",
    "        target = data['user', 'movie'].edge_label.float()\n",
    "        rmse = F.mse_loss(pred, target).sqrt()\n",
    "        return float(rmse)\n",
    "\n",
    "    for epoch in range(1, 50):\n",
    "        loss = train()\n",
    "        train_rmse = test(train_data)\n",
    "        val_rmse = test(val_data)\n",
    "        test_rmse = test(test_data)\n",
    "        if not epoch % 5:\n",
    "            print(f'Epoch: {epoch:03d}, Loss: {loss:.4f}, Train: {train_rmse:.4f}, '\n",
    "                f'Val: {val_rmse:.4f}, Test: {test_rmse:.4f}')\n",
    "    \n",
    "    return latest_predictions\n"
   ]
  },
  {
   "attachments": {},
   "cell_type": "markdown",
   "metadata": {},
   "source": [
    "### Experiments on balanced DB with 165K ratings with weighted and unweighted loss"
   ]
  },
  {
   "cell_type": "code",
   "execution_count": 5,
   "metadata": {},
   "outputs": [
    {
     "name": "stdout",
     "output_type": "stream",
     "text": [
      "Epoch: 005, Loss: 5.4532, Train: 1.3389, Val: 1.3332, Test: 1.3348\n",
      "Epoch: 010, Loss: 4.5897, Train: 1.7568, Val: 1.7520, Test: 1.7436\n",
      "Epoch: 015, Loss: 4.2681, Train: 1.3304, Val: 1.3255, Test: 1.3253\n",
      "Epoch: 020, Loss: 4.1741, Train: 1.3384, Val: 1.3341, Test: 1.3337\n",
      "Epoch: 025, Loss: 4.1901, Train: 1.4253, Val: 1.4219, Test: 1.4194\n",
      "Epoch: 030, Loss: 3.9666, Train: 1.2587, Val: 1.2576, Test: 1.2616\n",
      "Epoch: 035, Loss: 3.7234, Train: 1.3515, Val: 1.3523, Test: 1.3516\n",
      "Epoch: 040, Loss: 3.4681, Train: 1.2158, Val: 1.2229, Test: 1.2261\n",
      "Epoch: 045, Loss: 3.1884, Train: 1.2392, Val: 1.2536, Test: 1.2544\n"
     ]
    },
    {
     "data": {
      "text/plain": [
       "(array([ 332., 1416., 2517., 2844., 2834., 2879., 2231., 1141.,  271.,\n",
       "          23.]),\n",
       " array([1.13752067, 1.49751985, 1.85751891, 2.21751809, 2.57751727,\n",
       "        2.93751645, 3.29751563, 3.65751457, 4.01751375, 4.37751293,\n",
       "        4.73751211]),\n",
       " <BarContainer object of 10 artists>)"
      ]
     },
     "execution_count": 5,
     "metadata": {},
     "output_type": "execute_result"
    },
    {
     "data": {
      "image/png": "[encoded data removed]",
      "text/plain": [
       "<Figure size 640x480 with 1 Axes>"
      ]
     },
     "metadata": {},
     "output_type": "display_data"
    }
   ],
   "source": [
    "model = Model(hidden_channels=32).to(device)\n",
    "preds = train_test(model, use_weighted_loss=True)\n",
    "plt.hist(preds)"
   ]
  },
  {
   "cell_type": "code",
   "execution_count": 6,
   "metadata": {},
   "outputs": [
    {
     "name": "stdout",
     "output_type": "stream",
     "text": [
      "Epoch: 005, Loss: 2.6955, Train: 1.7999, Val: 1.7974, Test: 1.8078\n",
      "Epoch: 010, Loss: 2.4039, Train: 1.5353, Val: 1.5309, Test: 1.5249\n",
      "Epoch: 015, Loss: 1.8781, Train: 1.4263, Val: 1.4255, Test: 1.4334\n",
      "Epoch: 020, Loss: 1.7072, Train: 1.3372, Val: 1.3361, Test: 1.3345\n",
      "Epoch: 025, Loss: 1.5975, Train: 1.2635, Val: 1.2665, Test: 1.2704\n",
      "Epoch: 030, Loss: 1.5499, Train: 1.2344, Val: 1.2406, Test: 1.2426\n",
      "Epoch: 035, Loss: 1.5044, Train: 1.2101, Val: 1.2213, Test: 1.2223\n",
      "Epoch: 040, Loss: 1.4295, Train: 1.1818, Val: 1.2010, Test: 1.2024\n",
      "Epoch: 045, Loss: 1.3592, Train: 1.1559, Val: 1.1835, Test: 1.1821\n"
     ]
    },
    {
     "data": {
      "text/plain": [
       "(array([ 294., 1547., 2693., 2885., 2848., 2499., 2070., 1295.,  332.,\n",
       "          25.]),\n",
       " array([1.58632147, 1.90594769, 2.22557402, 2.54520035, 2.86482668,\n",
       "        3.18445277, 3.5040791 , 3.82370543, 4.14333153, 4.46295786,\n",
       "        4.78258419]),\n",
       " <BarContainer object of 10 artists>)"
      ]
     },
     "execution_count": 6,
     "metadata": {},
     "output_type": "execute_result"
    },
    {
     "data": {
      "image/png": "[encoded data removed]",
      "text/plain": [
       "<Figure size 640x480 with 1 Axes>"
      ]
     },
     "metadata": {},
     "output_type": "display_data"
    }
   ],
   "source": [
    "model = Model(hidden_channels=32).to(device)\n",
    "preds = train_test(model, use_weighted_loss=False)\n",
    "plt.hist(preds)"
   ]
  },
  {
   "cell_type": "code",
   "execution_count": null,
   "metadata": {},
   "outputs": [],
   "source": []
  }
 ],
 "metadata": {
  "kernelspec": {
   "display_name": "environ",
   "language": "python",
   "name": "python3"
  },
  "language_info": {
   "codemirror_mode": {
    "name": "ipython",
    "version": 3
   },
   "file_extension": ".py",
   "mimetype": "text/x-python",
   "name": "python",
   "nbconvert_exporter": "python",
   "pygments_lexer": "ipython3",
   "version": "3.9.6 (default, Oct 18 2022, 12:41:40) \n[Clang 14.0.0 (clang-1400.0.29.202)]"
  },
  "orig_nbformat": 4,
  "vscode": {
   "interpreter": {
    "hash": "acbc58aadc5672afc04cc91f2a1726d8eb7b999e15e50d024070fdc74729208f"
   }
  }
 },
 "nbformat": 4,
 "nbformat_minor": 2
}
