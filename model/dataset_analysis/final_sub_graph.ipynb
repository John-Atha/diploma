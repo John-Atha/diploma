{
 "cells": [
  {
   "attachments": {},
   "cell_type": "markdown",
   "metadata": {},
   "source": [
    "### Goal of the notebook"
   ]
  },
  {
   "attachments": {},
   "cell_type": "markdown",
   "metadata": {},
   "source": [
    "* Build a graph based on the `large_dataset.ipynb` notebook and save the corresponding `users ids` and `movies ids` that should be kept in the new graph"
   ]
  },
  {
   "attachments": {},
   "cell_type": "markdown",
   "metadata": {},
   "source": [
    "### Imports"
   ]
  },
  {
   "cell_type": "code",
   "execution_count": 1,
   "metadata": {},
   "outputs": [],
   "source": [
    "import pathlib\n",
    "import os\n",
    "import sys\n",
    "from collections import defaultdict\n",
    "from statistics import mean\n",
    "from py2neo import Graph\n",
    "from py2neo.bulk import merge_nodes, merge_relationships\n",
    "import random\n",
    "\n",
    "parent_path = pathlib.Path(os.getcwd()).parent.absolute()\n",
    "sys.path.append(str(parent_path))\n",
    "\n",
    "from utils.general import read_csv, df_to_json\n",
    "from tqdm import tqdm\n",
    "from tabulate import tabulate\n"
   ]
  },
  {
   "attachments": {},
   "cell_type": "markdown",
   "metadata": {},
   "source": [
    "### Load CSVs"
   ]
  },
  {
   "cell_type": "code",
   "execution_count": 2,
   "metadata": {},
   "outputs": [],
   "source": [
    "data_dir = \"movies_with_metadata\""
   ]
  },
  {
   "cell_type": "code",
   "execution_count": 3,
   "metadata": {},
   "outputs": [
    {
     "name": "stdout",
     "output_type": "stream",
     "text": [
      "Reading from: /Users/ioannisathanasiou/diploma/model/movies_with_metadata/movies_metadata.csv\n"
     ]
    }
   ],
   "source": [
    "movies_json = df_to_json(\n",
    "    read_csv(\n",
    "        filename=\"movies_metadata\",\n",
    "        parent_dir_name=data_dir,\n",
    "        low_memory=False,\n",
    "    )\n",
    ")"
   ]
  },
  {
   "cell_type": "code",
   "execution_count": 4,
   "metadata": {},
   "outputs": [
    {
     "name": "stdout",
     "output_type": "stream",
     "text": [
      "Reading from: /Users/ioannisathanasiou/diploma/model/movies_with_metadata/ratings.csv\n"
     ]
    }
   ],
   "source": [
    "ratings_json = df_to_json(\n",
    "    read_csv(\n",
    "        filename=\"ratings\",\n",
    "        parent_dir_name=data_dir,\n",
    "    )\n",
    ")\n"
   ]
  },
  {
   "cell_type": "code",
   "execution_count": 42,
   "metadata": {},
   "outputs": [
    {
     "name": "stdout",
     "output_type": "stream",
     "text": [
      "Reading from: /Users/ioannisathanasiou/diploma/model/movies_with_metadata/links.csv\n"
     ]
    }
   ],
   "source": [
    "links_json = df_to_json(\n",
    "    read_csv(\n",
    "        filename=\"links\",\n",
    "        parent_dir_name=data_dir,\n",
    "    )\n",
    ")"
   ]
  },
  {
   "attachments": {},
   "cell_type": "markdown",
   "metadata": {},
   "source": [
    "### Filter ratings based on users"
   ]
  },
  {
   "attachments": {},
   "cell_type": "markdown",
   "metadata": {},
   "source": [
    "I will find the average ratings per user, and observe how the size of the dataset changes if I keep only the users that have more ratings than a specific threshold"
   ]
  },
  {
   "cell_type": "code",
   "execution_count": 5,
   "metadata": {},
   "outputs": [],
   "source": [
    "users_ids = set([\n",
    "    rating[\"userId\"]\n",
    "    for rating in ratings_json\n",
    "])"
   ]
  },
  {
   "cell_type": "code",
   "execution_count": 6,
   "metadata": {},
   "outputs": [
    {
     "data": {
      "text/plain": [
       "270896"
      ]
     },
     "execution_count": 6,
     "metadata": {},
     "output_type": "execute_result"
    }
   ],
   "source": [
    "len(users_ids)"
   ]
  },
  {
   "cell_type": "code",
   "execution_count": 7,
   "metadata": {},
   "outputs": [],
   "source": [
    "ratings_per_user = defaultdict(list)\n",
    "for rating in ratings_json:\n",
    "    ratings_per_user[rating[\"userId\"]].append(rating)"
   ]
  },
  {
   "cell_type": "code",
   "execution_count": 8,
   "metadata": {},
   "outputs": [],
   "source": [
    "ratings_per_user_count = { userId: len(ratings) for userId, ratings in ratings_per_user.items() }"
   ]
  },
  {
   "cell_type": "code",
   "execution_count": 9,
   "metadata": {},
   "outputs": [
    {
     "data": {
      "text/plain": [
       "96.06745393065974"
      ]
     },
     "execution_count": 9,
     "metadata": {},
     "output_type": "execute_result"
    }
   ],
   "source": [
    "avg_ratings_count = mean(ratings_per_user_count.values())\n",
    "avg_ratings_count"
   ]
  },
  {
   "cell_type": "code",
   "execution_count": 10,
   "metadata": {},
   "outputs": [],
   "source": [
    "def count_average_ratings_per_movie(kept_ratings):\n",
    "    ratings_per_movie_count = defaultdict(int)\n",
    "    for rating in kept_ratings:\n",
    "        ratings_per_movie_count[rating[\"movieId\"]] += 1\n",
    "    return mean(ratings_per_movie_count.values())\n",
    "\n",
    "def count_average_ratings_per_user(kept_ratings):\n",
    "    ratings_per_user_count = defaultdict(int)\n",
    "    for rating in kept_ratings:\n",
    "        ratings_per_user_count[rating[\"userId\"]] += 1\n",
    "    return mean(ratings_per_user_count.values())"
   ]
  },
  {
   "cell_type": "code",
   "execution_count": 11,
   "metadata": {},
   "outputs": [],
   "source": [
    "def get_statistics_by_kept_users(kept_users):\n",
    "    kept_ratings = [\n",
    "        rating for rating in ratings_json if rating[\"userId\"] in kept_users]\n",
    "    kept_movies = set([\n",
    "        rating[\"movieId\"] for rating in kept_ratings])\n",
    "    avg_ratings_per_movie = count_average_ratings_per_movie(kept_ratings)\n",
    "    avg_ratings_per_user = count_average_ratings_per_user(kept_ratings)\n",
    "    return kept_ratings, kept_movies, avg_ratings_per_movie, avg_ratings_per_user"
   ]
  },
  {
   "cell_type": "code",
   "execution_count": 13,
   "metadata": {},
   "outputs": [
    {
     "data": {
      "text/plain": [
       "643"
      ]
     },
     "execution_count": 13,
     "metadata": {},
     "output_type": "execute_result"
    }
   ],
   "source": [
    "users_groups = defaultdict(list)\n",
    "\n",
    "avg_ratings_count = mean(ratings_per_user_count.values())\n",
    "for userId, ratings_count in ratings_per_user_count.items():\n",
    "    x = round(ratings_count / avg_ratings_count * 100)\n",
    "    group = x - x%5\n",
    "    users_groups[group].append(userId)\n",
    "\n",
    "len(users_groups)"
   ]
  },
  {
   "cell_type": "code",
   "execution_count": 14,
   "metadata": {},
   "outputs": [],
   "source": [
    "users_groups_count = { key: len(users) for key, users in users_groups.items() }\n",
    "users_groups_count = { key: users for key, users in sorted(users_groups_count.items(), key=lambda x: x[0]) }"
   ]
  },
  {
   "cell_type": "code",
   "execution_count": 19,
   "metadata": {},
   "outputs": [],
   "source": [
    "def random_squeeze_group(group, max_users):\n",
    "    limit = random.randrange(max_users)\n",
    "    if len(group) <= limit:\n",
    "        return group\n",
    "    else:\n",
    "        return random.sample(group, limit)\n",
    "\n",
    "def get_statistics_by_groups_kept(min_group, max_group, max_users_per_group, randomize=True):\n",
    "    groups = [group for group_key, group in users_groups.items() if min_group <= group_key <= max_group and random.random()>0.2]\n",
    "    users_to_keep = [userId for group in groups for userId in set(random_squeeze_group(group, max_users_per_group))]\n",
    "    kept_ratings, kept_movies, avg_ratings_per_movie, avg_ratings_per_user = get_statistics_by_kept_users(set(users_to_keep))\n",
    "    return users_to_keep, kept_ratings, kept_movies, avg_ratings_per_movie, avg_ratings_per_user"
   ]
  },
  {
   "attachments": {},
   "cell_type": "markdown",
   "metadata": {},
   "source": [
    "### Average Dataset with around 2M ratings"
   ]
  },
  {
   "cell_type": "code",
   "execution_count": 21,
   "metadata": {},
   "outputs": [
    {
     "name": "stdout",
     "output_type": "stream",
     "text": [
      "|   Kept users |   Kept Ratings |   Kept Movies |   Avg ratings/movie |   Avg ratings/user |\n",
      "|--------------|----------------|---------------|---------------------|--------------------|\n",
      "|        16665 |        2543358 |         18041 |             140.977 |            152.617 |\n"
     ]
    }
   ],
   "source": [
    "# average user has submitted 96 ratings\n",
    "#  keep users that have ratings_count more than 5% and less than 300% of 96\n",
    "min_group = 10\n",
    "max_group = 300\n",
    "max_users_per_group = 700\n",
    "# split these users in groups (by 5% distance from average ratings_count)\n",
    "# keep a random number of users (max 500) from each group\n",
    "users_to_keep, kept_ratings, kept_movies, avg_ratings_per_movie, avg_ratings_per_user = get_statistics_by_groups_kept(\n",
    "    min_group, max_group, max_users_per_group)\n",
    "\n",
    "print(tabulate([[len(users_to_keep), len(kept_ratings), len(kept_movies), avg_ratings_per_movie, avg_ratings_per_user]], headers=[\n",
    "      \"Kept users\", \"Kept Ratings\", \"Kept Movies\", \"Avg ratings/movie\", \"Avg ratings/user\"], tablefmt=\"github\"))\n"
   ]
  },
  {
   "attachments": {},
   "cell_type": "markdown",
   "metadata": {},
   "source": [
    "### Save the kept users and movies of the corresponding graph"
   ]
  },
  {
   "cell_type": "code",
   "execution_count": 40,
   "metadata": {},
   "outputs": [],
   "source": [
    "f = open(os.path.join(\"..\", \"movies_with_metadata\", \"users_subgraph.csv\"), \"w\")\n",
    "f.write(\", \".join(str(i) for i in users_to_keep))\n",
    "f.close()"
   ]
  },
  {
   "cell_type": "code",
   "execution_count": 41,
   "metadata": {},
   "outputs": [],
   "source": [
    "f = open(os.path.join(\"..\", \"movies_with_metadata\", \"movies_subgraph.csv\"), \"w\")\n",
    "f.write(\", \".join(str(i) for i in kept_movies))\n",
    "f.close()"
   ]
  },
  {
   "cell_type": "code",
   "execution_count": 45,
   "metadata": {},
   "outputs": [],
   "source": [
    "movies_imdbIds_to_keep = [\n",
    "    link[\"imdbId\"] for link in links_json if link[\"movieId\"] in kept_movies\n",
    "]"
   ]
  },
  {
   "cell_type": "code",
   "execution_count": 49,
   "metadata": {},
   "outputs": [],
   "source": [
    "f = open(os.path.join(\"..\", \"movies_with_metadata\", \"movies_imdbIds_subgraph.csv\"), \"w\")\n",
    "f.write(\", \".join(str(i) for i in movies_imdbIds_to_keep))\n",
    "f.close()"
   ]
  },
  {
   "attachments": {},
   "cell_type": "markdown",
   "metadata": {},
   "source": [
    "### Conclusion"
   ]
  },
  {
   "attachments": {},
   "cell_type": "markdown",
   "metadata": {},
   "source": [
    "| graph | users | movies | ratings | avg ratings per movie | avg ratings per user |\n",
    "| --- | --- | --- | --- | --- | --- |\n",
    "| small | 700 | 9k | 100k | 11 | 149\n",
    "| large | 270k | 45k | 25M | 576 | 96 |\n",
    "| sub-graph | 10k-20k | 10k-20k | 2M | 100-200 | 100-200 |\n"
   ]
  },
  {
   "attachments": {},
   "cell_type": "markdown",
   "metadata": {},
   "source": [
    "* To build the sub-graph, I filtered the ratings on the large graph based on the users, following the steps:\n",
    "    * count the ratings submitted by each user\n",
    "    * find the average number of ratings per user in the initial graph (96)\n",
    "    * split the users in groups, based on their ratings count in comparison to the average ratings count per user (96)\n",
    "    * keep randomly the 80% the groups with users who have submitted from 10 (96 * 10%) to 288 (96 * 300%) ratings\n",
    "    * keep randomly at most 700 users from each group"
   ]
  }
 ],
 "metadata": {
  "kernelspec": {
   "display_name": "environ",
   "language": "python",
   "name": "python3"
  },
  "language_info": {
   "codemirror_mode": {
    "name": "ipython",
    "version": 3
   },
   "file_extension": ".py",
   "mimetype": "text/x-python",
   "name": "python",
   "nbconvert_exporter": "python",
   "pygments_lexer": "ipython3",
   "version": "3.9.6"
  },
  "orig_nbformat": 4,
  "vscode": {
   "interpreter": {
    "hash": "acbc58aadc5672afc04cc91f2a1726d8eb7b999e15e50d024070fdc74729208f"
   }
  }
 },
 "nbformat": 4,
 "nbformat_minor": 2
}
