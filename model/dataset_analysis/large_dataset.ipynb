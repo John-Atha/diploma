{
 "cells": [
  {
   "attachments": {},
   "cell_type": "markdown",
   "metadata": {},
   "source": [
    "### Goal of the notebook"
   ]
  },
  {
   "attachments": {},
   "cell_type": "markdown",
   "metadata": {},
   "source": [
    "* The small version of the dataset has around 100K ratings on 9k movies from 700 users\n",
    "* The full version of the dataset has around 25M ratings on 45k movies from 270k users\n",
    "\n",
    "* In this notebook, I will try to generate a sub-graph of the full dataset graph, without being biased torwards the sparsity of the new graph\n",
    "    * I will try filtering the dataset based on the movies (keep only a percentage of movies) and later on keep only the relevant ratings and users\n",
    "    * I will try filtering based on the users"
   ]
  },
  {
   "attachments": {},
   "cell_type": "markdown",
   "metadata": {},
   "source": [
    "### Imports"
   ]
  },
  {
   "cell_type": "code",
   "execution_count": 5,
   "metadata": {},
   "outputs": [],
   "source": [
    "import pathlib\n",
    "import os\n",
    "import sys\n",
    "from collections import defaultdict\n",
    "from statistics import mean\n",
    "from py2neo import Graph\n",
    "from py2neo.bulk import merge_nodes, merge_relationships\n",
    "import random\n",
    "\n",
    "parent_path = pathlib.Path(os.getcwd()).parent.absolute()\n",
    "sys.path.append(str(parent_path))\n",
    "\n",
    "from utils.general import read_csv, df_to_json\n",
    "from tqdm import tqdm\n",
    "from tabulate import tabulate\n"
   ]
  },
  {
   "attachments": {},
   "cell_type": "markdown",
   "metadata": {},
   "source": [
    "### Load CSVs"
   ]
  },
  {
   "cell_type": "code",
   "execution_count": 6,
   "metadata": {},
   "outputs": [],
   "source": [
    "data_dir = \"movies_with_metadata\""
   ]
  },
  {
   "cell_type": "code",
   "execution_count": 7,
   "metadata": {},
   "outputs": [
    {
     "name": "stdout",
     "output_type": "stream",
     "text": [
      "Reading from: /Users/ioannisathanasiou/diploma/model/movies_with_metadata/movies_metadata.csv\n"
     ]
    }
   ],
   "source": [
    "movies_json = df_to_json(\n",
    "    read_csv(\n",
    "        filename=\"movies_metadata\",\n",
    "        parent_dir_name=data_dir,\n",
    "        low_memory=False,\n",
    "    )\n",
    ")"
   ]
  },
  {
   "cell_type": "code",
   "execution_count": 8,
   "metadata": {},
   "outputs": [
    {
     "name": "stdout",
     "output_type": "stream",
     "text": [
      "Reading from: /Users/ioannisathanasiou/diploma/model/movies_with_metadata/ratings.csv\n"
     ]
    }
   ],
   "source": [
    "ratings_json = df_to_json(\n",
    "    read_csv(\n",
    "        filename=\"ratings\",\n",
    "        parent_dir_name=data_dir,\n",
    "    )\n",
    ")\n"
   ]
  },
  {
   "attachments": {},
   "cell_type": "markdown",
   "metadata": {},
   "source": [
    "### Movies"
   ]
  },
  {
   "cell_type": "code",
   "execution_count": 9,
   "metadata": {},
   "outputs": [
    {
     "data": {
      "text/plain": [
       "{'adult': 'False',\n",
       " 'belongs_to_collection': \"{'id': 10194, 'name': 'Toy Story Collection', 'poster_path': '/7G9915LfUQ2lVfwMEEhDsn3kT4B.jpg', 'backdrop_path': '/9FBwqcd9IRruEDUrTdcaafOMKUq.jpg'}\",\n",
       " 'budget': '30000000',\n",
       " 'genres': \"[{'id': 16, 'name': 'Animation'}, {'id': 35, 'name': 'Comedy'}, {'id': 10751, 'name': 'Family'}]\",\n",
       " 'homepage': 'http://toystory.disney.com/toy-story',\n",
       " 'id': '862',\n",
       " 'imdb_id': 'tt0114709',\n",
       " 'original_language': 'en',\n",
       " 'original_title': 'Toy Story',\n",
       " 'overview': \"Led by Woody, Andy's toys live happily in his room until Andy's birthday brings Buzz Lightyear onto the scene. Afraid of losing his place in Andy's heart, Woody plots against Buzz. But when circumstances separate Buzz and Woody from their owner, the duo eventually learns to put aside their differences.\",\n",
       " 'popularity': '21.946943',\n",
       " 'poster_path': '/rhIRbceoE9lR4veEXuwCC2wARtG.jpg',\n",
       " 'production_companies': \"[{'name': 'Pixar Animation Studios', 'id': 3}]\",\n",
       " 'production_countries': \"[{'iso_3166_1': 'US', 'name': 'United States of America'}]\",\n",
       " 'release_date': '1995-10-30',\n",
       " 'revenue': 373554033.0,\n",
       " 'runtime': 81.0,\n",
       " 'spoken_languages': \"[{'iso_639_1': 'en', 'name': 'English'}]\",\n",
       " 'status': 'Released',\n",
       " 'tagline': nan,\n",
       " 'title': 'Toy Story',\n",
       " 'video': False,\n",
       " 'vote_average': 7.7,\n",
       " 'vote_count': 5415.0}"
      ]
     },
     "execution_count": 9,
     "metadata": {},
     "output_type": "execute_result"
    }
   ],
   "source": [
    "movies_json[0]"
   ]
  },
  {
   "cell_type": "code",
   "execution_count": 10,
   "metadata": {},
   "outputs": [
    {
     "data": {
      "text/plain": [
       "45466"
      ]
     },
     "execution_count": 10,
     "metadata": {},
     "output_type": "execute_result"
    }
   ],
   "source": [
    "len(movies_json)"
   ]
  },
  {
   "attachments": {},
   "cell_type": "markdown",
   "metadata": {},
   "source": [
    "#### Ratings"
   ]
  },
  {
   "cell_type": "code",
   "execution_count": 11,
   "metadata": {},
   "outputs": [
    {
     "data": {
      "text/plain": [
       "{'userId': 1, 'movieId': 110, 'rating': 1.0, 'timestamp': 1425941529}"
      ]
     },
     "execution_count": 11,
     "metadata": {},
     "output_type": "execute_result"
    }
   ],
   "source": [
    "ratings_json[0]"
   ]
  },
  {
   "cell_type": "code",
   "execution_count": 12,
   "metadata": {},
   "outputs": [
    {
     "data": {
      "text/plain": [
       "26024289"
      ]
     },
     "execution_count": 12,
     "metadata": {},
     "output_type": "execute_result"
    }
   ],
   "source": [
    "len(ratings_json)"
   ]
  },
  {
   "attachments": {},
   "cell_type": "markdown",
   "metadata": {},
   "source": [
    "### Filter ratings based on movies"
   ]
  },
  {
   "attachments": {},
   "cell_type": "markdown",
   "metadata": {},
   "source": [
    "I will find the average ratings per movie, and observe how the size of the dataset changes if I keep only the movies that have more ratings than a specific threshold"
   ]
  },
  {
   "cell_type": "code",
   "execution_count": 13,
   "metadata": {},
   "outputs": [],
   "source": [
    "rated_movies_ids = set([\n",
    "    rating[\"movieId\"]\n",
    "    for rating in ratings_json\n",
    "])"
   ]
  },
  {
   "cell_type": "code",
   "execution_count": 14,
   "metadata": {},
   "outputs": [
    {
     "data": {
      "text/plain": [
       "45115"
      ]
     },
     "execution_count": 14,
     "metadata": {},
     "output_type": "execute_result"
    }
   ],
   "source": [
    "len(rated_movies_ids)"
   ]
  },
  {
   "cell_type": "code",
   "execution_count": 15,
   "metadata": {},
   "outputs": [],
   "source": [
    "ratings_per_movie = defaultdict(list)\n",
    "for rating in ratings_json:\n",
    "    ratings_per_movie[rating[\"movieId\"]].append(rating)"
   ]
  },
  {
   "cell_type": "code",
   "execution_count": 16,
   "metadata": {},
   "outputs": [],
   "source": [
    "ratings_per_movie_count = { movieId: len(ratings) for movieId, ratings in ratings_per_movie.items() }"
   ]
  },
  {
   "cell_type": "code",
   "execution_count": 17,
   "metadata": {},
   "outputs": [
    {
     "data": {
      "text/plain": [
       "576.8433780339134"
      ]
     },
     "execution_count": 17,
     "metadata": {},
     "output_type": "execute_result"
    }
   ],
   "source": [
    "avg_ratings_count = mean(ratings_per_movie_count.values())\n",
    "avg_ratings_count"
   ]
  },
  {
   "cell_type": "code",
   "execution_count": 18,
   "metadata": {},
   "outputs": [],
   "source": [
    "def count_movies_ratings_by_threshold(multiplier):\n",
    "    threshold = avg_ratings_count * multiplier\n",
    "    very_rated_movies = set(\n",
    "        [movieId for movieId, ratings in ratings_per_movie_count.items() if ratings >= threshold])\n",
    "    little_rated_movies = set(\n",
    "        [movieId for movieId, ratings in ratings_per_movie_count.items() if ratings < threshold])\n",
    "    ratings_on_very_rated_movies = [\n",
    "        rating for rating in ratings_json if rating[\"movieId\"] in very_rated_movies]\n",
    "    ratings_on_little_rated_movies = [\n",
    "        rating for rating in ratings_json if rating[\"movieId\"] in little_rated_movies]\n",
    "    return [multiplier, threshold, len(very_rated_movies), len(little_rated_movies), len(ratings_on_very_rated_movies), len(ratings_on_little_rated_movies)]\n"
   ]
  },
  {
   "cell_type": "code",
   "execution_count": 15,
   "metadata": {},
   "outputs": [
    {
     "name": "stdout",
     "output_type": "stream",
     "text": [
      "Multipler: 0.1\n",
      "Multipler: 0.2\n",
      "Multipler: 0.3\n",
      "Multipler: 0.4\n",
      "Multipler: 0.5\n",
      "Multipler: 0.6\n",
      "Multipler: 0.7\n",
      "Multipler: 0.8\n",
      "Multipler: 0.9\n",
      "Multipler: 1.0\n",
      "Multipler: 1.1\n",
      "Multipler: 1.2\n",
      "Multipler: 1.3\n",
      "Multipler: 1.4\n",
      "Multipler: 1.5\n",
      "Multipler: 1.6\n",
      "Multipler: 1.7\n",
      "Multipler: 1.8\n",
      "Multipler: 1.9\n",
      "Multipler: 2.0\n",
      "Multipler: 2.1\n",
      "Multipler: 2.2\n",
      "Multipler: 2.3\n",
      "Multipler: 2.4\n",
      "Multipler: 2.5\n",
      "Multipler: 2.6\n",
      "Multipler: 2.7\n",
      "Multipler: 2.8\n",
      "Multipler: 2.9\n",
      "Multipler: 3.0\n",
      "Multipler: 3.1\n",
      "Multipler: 3.2\n",
      "Multipler: 3.3\n",
      "Multipler: 3.4\n",
      "Multipler: 3.5\n",
      "Multipler: 3.6\n",
      "Multipler: 3.7\n",
      "Multipler: 3.8\n",
      "Multipler: 3.9\n",
      "|     |           |   High Movies |   Low movies |   Ratings on High |   Ratings on Low |\n",
      "|-----|-----------|---------------|--------------|-------------------|------------------|\n",
      "| 0.1 |   57.6843 |         11907 |        33208 |          25720244 |           304045 |\n",
      "| 0.2 |  115.369  |          9489 |        35626 |          25520781 |           503508 |\n",
      "| 0.3 |  173.053  |          8225 |        36890 |          25340937 |           683352 |\n",
      "| 0.4 |  230.737  |          7372 |        37743 |          25170845 |           853444 |\n",
      "| 0.5 |  288.422  |          6797 |        38318 |          25023565 |          1000724 |\n",
      "| 0.6 |  346.106  |          6280 |        38835 |          24859679 |          1164610 |\n",
      "| 0.7 |  403.79   |          5860 |        39255 |          24702692 |          1321597 |\n",
      "| 0.8 |  461.475  |          5512 |        39603 |          24552465 |          1471824 |\n",
      "| 0.9 |  519.159  |          5192 |        39923 |          24395707 |          1628582 |\n",
      "| 1   |  576.843  |          4951 |        40164 |          24263980 |          1760309 |\n",
      "| 1.1 |  634.528  |          4732 |        40383 |          24131429 |          1892860 |\n",
      "| 1.2 |  692.212  |          4523 |        40592 |          23992774 |          2031515 |\n",
      "| 1.3 |  749.896  |          4346 |        40769 |          23865526 |          2158763 |\n",
      "| 1.4 |  807.581  |          4183 |        40932 |          23738504 |          2285785 |\n",
      "| 1.5 |  865.265  |          4020 |        41095 |          23602206 |          2422083 |\n",
      "| 1.6 |  922.949  |          3910 |        41205 |          23503858 |          2520431 |\n",
      "| 1.7 |  980.634  |          3797 |        41318 |          23396254 |          2628035 |\n",
      "| 1.8 | 1038.32   |          3680 |        41435 |          23278515 |          2745774 |\n",
      "| 1.9 | 1096      |          3573 |        41542 |          23164084 |          2860205 |\n",
      "| 2   | 1153.69   |          3462 |        41653 |          23039244 |          2985045 |\n",
      "| 2.1 | 1211.37   |          3348 |        41767 |          22904650 |          3119639 |\n",
      "| 2.2 | 1269.06   |          3264 |        41851 |          22800671 |          3223618 |\n",
      "| 2.3 | 1326.74   |          3182 |        41933 |          22694202 |          3330087 |\n",
      "| 2.4 | 1384.42   |          3107 |        42008 |          22592527 |          3431762 |\n",
      "| 2.5 | 1442.11   |          3027 |        42088 |          22479345 |          3544944 |\n",
      "| 2.6 | 1499.79   |          2951 |        42164 |          22367521 |          3656768 |\n",
      "| 2.7 | 1557.48   |          2884 |        42231 |          22265112 |          3759177 |\n",
      "| 2.8 | 1615.16   |          2820 |        42295 |          22163679 |          3860610 |\n",
      "| 2.9 | 1672.85   |          2747 |        42368 |          22043598 |          3980691 |\n",
      "| 3   | 1730.53   |          2686 |        42429 |          21939842 |          4084447 |\n",
      "| 3.1 | 1788.21   |          2639 |        42476 |          21857094 |          4167195 |\n",
      "| 3.2 | 1845.9    |          2575 |        42540 |          21740722 |          4283567 |\n",
      "| 3.3 | 1903.58   |          2528 |        42587 |          21652699 |          4371590 |\n",
      "| 3.4 | 1961.27   |          2468 |        42647 |          21536836 |          4487453 |\n",
      "| 3.5 | 2018.95   |          2425 |        42690 |          21451404 |          4572885 |\n",
      "| 3.6 | 2076.64   |          2377 |        42738 |          21353090 |          4671199 |\n",
      "| 3.7 | 2134.32   |          2341 |        42774 |          21277141 |          4747148 |\n",
      "| 3.8 | 2192      |          2294 |        42821 |          21175460 |          4848829 |\n",
      "| 3.9 | 2249.69   |          2258 |        42857 |          21095634 |          4928655 |\n"
     ]
    }
   ],
   "source": [
    "results = []\n",
    "for i in range(1, 40):\n",
    "    print(\"Multipler:\", i/10)\n",
    "    results.append(count_movies_ratings_by_threshold(i/10))\n",
    "print(tabulate(results, headers=[\"High Movies\", \"Low movies\", \"Ratings on High\", \"Ratings on Low\"], tablefmt=\"github\"))"
   ]
  },
  {
   "cell_type": "code",
   "execution_count": 16,
   "metadata": {},
   "outputs": [
    {
     "name": "stdout",
     "output_type": "stream",
     "text": [
      "Multipler: 4.0\n",
      "Multipler: 4.1\n",
      "Multipler: 4.2\n",
      "Multipler: 4.3\n",
      "Multipler: 4.4\n",
      "Multipler: 4.5\n",
      "Multipler: 4.6\n",
      "Multipler: 4.7\n",
      "Multipler: 4.8\n",
      "Multipler: 4.9\n",
      "Multipler: 5.0\n",
      "Multipler: 5.1\n",
      "Multipler: 5.2\n",
      "Multipler: 5.3\n",
      "Multipler: 5.4\n",
      "Multipler: 5.5\n",
      "Multipler: 5.6\n",
      "Multipler: 5.7\n",
      "Multipler: 5.8\n",
      "Multipler: 5.9\n",
      "|     |         |   High Movies |   Low movies |   Ratings on High |   Ratings on Low |\n",
      "|-----|---------|---------------|--------------|-------------------|------------------|\n",
      "| 4   | 2307.37 |          2231 |        42884 |          21034137 |          4990152 |\n",
      "| 4.1 | 2365.06 |          2200 |        42915 |          20961671 |          5062618 |\n",
      "| 4.2 | 2422.74 |          2168 |        42947 |          20884942 |          5139347 |\n",
      "| 4.3 | 2480.43 |          2117 |        42998 |          20760119 |          5264170 |\n",
      "| 4.4 | 2538.11 |          2092 |        43023 |          20697404 |          5326885 |\n",
      "| 4.5 | 2595.8  |          2067 |        43048 |          20633261 |          5391028 |\n",
      "| 4.6 | 2653.48 |          2032 |        43083 |          20541200 |          5483089 |\n",
      "| 4.7 | 2711.16 |          1998 |        43117 |          20449968 |          5574321 |\n",
      "| 4.8 | 2768.85 |          1971 |        43144 |          20375950 |          5648339 |\n",
      "| 4.9 | 2826.53 |          1951 |        43164 |          20319867 |          5704422 |\n",
      "| 5   | 2884.22 |          1919 |        43196 |          20228382 |          5795907 |\n",
      "| 5.1 | 2941.9  |          1899 |        43216 |          20170150 |          5854139 |\n",
      "| 5.2 | 2999.59 |          1876 |        43239 |          20101810 |          5922479 |\n",
      "| 5.3 | 3057.27 |          1854 |        43261 |          20035207 |          5989082 |\n",
      "| 5.4 | 3114.95 |          1831 |        43284 |          19964152 |          6060137 |\n",
      "| 5.5 | 3172.64 |          1805 |        43310 |          19882569 |          6141720 |\n",
      "| 5.6 | 3230.32 |          1790 |        43325 |          19834535 |          6189754 |\n",
      "| 5.7 | 3288.01 |          1771 |        43344 |          19772564 |          6251725 |\n",
      "| 5.8 | 3345.69 |          1740 |        43375 |          19669741 |          6354548 |\n",
      "| 5.9 | 3403.38 |          1712 |        43403 |          19575153 |          6449136 |\n"
     ]
    }
   ],
   "source": [
    "results = []\n",
    "for i in range(40, 60):\n",
    "    print(\"Multipler:\", i/10)\n",
    "    results.append(count_movies_ratings_by_threshold(i/10))\n",
    "print(tabulate(results, headers=[\"High Movies\", \"Low movies\", \"Ratings on High\", \"Ratings on Low\"], tablefmt=\"github\"))"
   ]
  },
  {
   "cell_type": "code",
   "execution_count": 17,
   "metadata": {},
   "outputs": [
    {
     "name": "stdout",
     "output_type": "stream",
     "text": [
      "|     |         |   High Movies |   Low movies |   Ratings on High |   Ratings on Low |\n",
      "|-----|---------|---------------|--------------|-------------------|------------------|\n",
      "| 4   | 2307.37 |          2231 |        42884 |          21034137 |          4990152 |\n",
      "| 4.1 | 2365.06 |          2200 |        42915 |          20961671 |          5062618 |\n",
      "| 4.2 | 2422.74 |          2168 |        42947 |          20884942 |          5139347 |\n",
      "| 4.3 | 2480.43 |          2117 |        42998 |          20760119 |          5264170 |\n",
      "| 4.4 | 2538.11 |          2092 |        43023 |          20697404 |          5326885 |\n",
      "| 4.5 | 2595.8  |          2067 |        43048 |          20633261 |          5391028 |\n",
      "| 4.6 | 2653.48 |          2032 |        43083 |          20541200 |          5483089 |\n",
      "| 4.7 | 2711.16 |          1998 |        43117 |          20449968 |          5574321 |\n",
      "| 4.8 | 2768.85 |          1971 |        43144 |          20375950 |          5648339 |\n",
      "| 4.9 | 2826.53 |          1951 |        43164 |          20319867 |          5704422 |\n",
      "| 5   | 2884.22 |          1919 |        43196 |          20228382 |          5795907 |\n",
      "| 5.1 | 2941.9  |          1899 |        43216 |          20170150 |          5854139 |\n",
      "| 5.2 | 2999.59 |          1876 |        43239 |          20101810 |          5922479 |\n",
      "| 5.3 | 3057.27 |          1854 |        43261 |          20035207 |          5989082 |\n",
      "| 5.4 | 3114.95 |          1831 |        43284 |          19964152 |          6060137 |\n",
      "| 5.5 | 3172.64 |          1805 |        43310 |          19882569 |          6141720 |\n",
      "| 5.6 | 3230.32 |          1790 |        43325 |          19834535 |          6189754 |\n",
      "| 5.7 | 3288.01 |          1771 |        43344 |          19772564 |          6251725 |\n",
      "| 5.8 | 3345.69 |          1740 |        43375 |          19669741 |          6354548 |\n",
      "| 5.9 | 3403.38 |          1712 |        43403 |          19575153 |          6449136 |\n"
     ]
    }
   ],
   "source": [
    "print(tabulate(results, headers=[\"High Movies\", \"Low movies\", \"Ratings on High\", \"Ratings on Low\"], tablefmt=\"github\"))"
   ]
  },
  {
   "attachments": {},
   "cell_type": "markdown",
   "metadata": {},
   "source": [
    "### Filter ratings based on users"
   ]
  },
  {
   "attachments": {},
   "cell_type": "markdown",
   "metadata": {},
   "source": [
    "I will find the average ratings per user, and observe how the size of the dataset changes if I keep only the users that have more ratings than a specific threshold"
   ]
  },
  {
   "cell_type": "code",
   "execution_count": 19,
   "metadata": {},
   "outputs": [],
   "source": [
    "users_ids = set([\n",
    "    rating[\"userId\"]\n",
    "    for rating in ratings_json\n",
    "])"
   ]
  },
  {
   "cell_type": "code",
   "execution_count": 20,
   "metadata": {},
   "outputs": [
    {
     "data": {
      "text/plain": [
       "270896"
      ]
     },
     "execution_count": 20,
     "metadata": {},
     "output_type": "execute_result"
    }
   ],
   "source": [
    "len(users_ids)"
   ]
  },
  {
   "cell_type": "code",
   "execution_count": 21,
   "metadata": {},
   "outputs": [],
   "source": [
    "ratings_per_user = defaultdict(list)\n",
    "for rating in ratings_json:\n",
    "    ratings_per_user[rating[\"userId\"]].append(rating)"
   ]
  },
  {
   "cell_type": "code",
   "execution_count": 22,
   "metadata": {},
   "outputs": [],
   "source": [
    "ratings_per_user_count = { userId: len(ratings) for userId, ratings in ratings_per_user.items() }"
   ]
  },
  {
   "cell_type": "code",
   "execution_count": 23,
   "metadata": {},
   "outputs": [
    {
     "data": {
      "text/plain": [
       "96.06745393065974"
      ]
     },
     "execution_count": 23,
     "metadata": {},
     "output_type": "execute_result"
    }
   ],
   "source": [
    "avg_ratings_count = mean(ratings_per_user_count.values())\n",
    "avg_ratings_count"
   ]
  },
  {
   "cell_type": "code",
   "execution_count": 24,
   "metadata": {},
   "outputs": [],
   "source": [
    "def count_average_ratings_per_movie(kept_ratings):\n",
    "    ratings_per_movie_count = defaultdict(int)\n",
    "    for rating in kept_ratings:\n",
    "        ratings_per_movie_count[rating[\"movieId\"]] += 1\n",
    "    return mean(ratings_per_movie_count.values())\n",
    "\n",
    "def count_average_ratings_per_user(kept_ratings):\n",
    "    ratings_per_user_count = defaultdict(int)\n",
    "    for rating in kept_ratings:\n",
    "        ratings_per_user_count[rating[\"userId\"]] += 1\n",
    "    return mean(ratings_per_user_count.values())"
   ]
  },
  {
   "cell_type": "code",
   "execution_count": 25,
   "metadata": {},
   "outputs": [],
   "source": [
    "def get_statistics_by_kept_users(kept_users):\n",
    "    kept_ratings = [\n",
    "        rating for rating in ratings_json if rating[\"userId\"] in kept_users]\n",
    "    kept_movies = set([\n",
    "        rating[\"movieId\"] for rating in kept_ratings])\n",
    "    avg_ratings_per_movie = count_average_ratings_per_movie(kept_ratings)\n",
    "    avg_ratings_per_user = count_average_ratings_per_user(kept_ratings)\n",
    "    return kept_ratings, kept_movies, avg_ratings_per_movie, avg_ratings_per_user"
   ]
  },
  {
   "cell_type": "code",
   "execution_count": 26,
   "metadata": {},
   "outputs": [],
   "source": [
    "def count_users_ratings_by_threshold(multiplier):\n",
    "    threshold = avg_ratings_count * multiplier\n",
    "    very_active_users = set(\n",
    "        [userId for userId, ratings in ratings_per_user_count.items()\n",
    "         if ratings >= threshold]\n",
    "    )\n",
    "    kept_ratings, kept_movies, avg_ratings_per_movie, avg_ratings_per_user = get_statistics_by_kept_users(very_active_users)\n",
    "    return [multiplier, threshold, len(very_active_users), len(kept_ratings), len(kept_movies), avg_ratings_per_movie, avg_ratings_per_user]\n"
   ]
  },
  {
   "cell_type": "code",
   "execution_count": 30,
   "metadata": {},
   "outputs": [
    {
     "name": "stderr",
     "output_type": "stream",
     "text": [
      "100%|██████████| 19/19 [05:50<00:00, 18.42s/it]"
     ]
    },
    {
     "name": "stdout",
     "output_type": "stream",
     "text": [
      "OK\n",
      "|   Multiplier |   Min user ratings |   Active Users |   Kept Ratings |   Kept Movies |   Avg ratings/movie |\n",
      "|--------------|--------------------|----------------|----------------|---------------|---------------------|\n",
      "|          0.1 |            9.60675 |         233903 |       25847473 |         45090 |             573.242 |\n",
      "|          0.2 |           19.2135  |         166444 |       24848104 |         45028 |             551.837 |\n",
      "|          0.3 |           28.8202  |         138664 |       24196963 |         44988 |             537.854 |\n",
      "|          0.4 |           38.427   |         119264 |       23553402 |         44905 |             524.516 |\n",
      "|          0.5 |           48.0337  |         105066 |       22939400 |         44853 |             511.435 |\n",
      "|          0.6 |           57.6405  |          94238 |       22367498 |         44830 |             498.94  |\n",
      "|          0.7 |           67.2472  |          84828 |       21781353 |         44801 |             486.18  |\n",
      "|          0.8 |           76.854   |          77704 |       21269295 |         44763 |             475.153 |\n",
      "|          0.9 |           86.4607  |          71235 |       20743086 |         44719 |             463.854 |\n",
      "|          1   |           96.0675  |          65875 |       20253596 |         44692 |             453.182 |\n",
      "|          1.1 |          105.674   |          60526 |       19712713 |         44664 |             441.356 |\n",
      "|          1.2 |          115.281   |          55789 |       19189733 |         44651 |             429.772 |\n",
      "|          1.3 |          124.888   |          52161 |       18754497 |         44624 |             420.278 |\n",
      "|          1.4 |          134.494   |          48620 |       18296352 |         44605 |             410.186 |\n",
      "|          1.5 |          144.101   |          45460 |       17856090 |         44575 |             400.585 |\n",
      "|          1.6 |          153.708   |          42865 |       17469491 |         44553 |             392.106 |\n",
      "|          1.7 |          163.315   |          40246 |       17054779 |         44513 |             383.142 |\n",
      "|          1.8 |          172.921   |          38131 |       16699463 |         44498 |             375.286 |\n",
      "|          1.9 |          182.528   |          36093 |       16338265 |         44466 |             367.433 |\n"
     ]
    },
    {
     "name": "stderr",
     "output_type": "stream",
     "text": [
      "\n"
     ]
    }
   ],
   "source": [
    "results = []\n",
    "for i in tqdm(range(1, 20)):\n",
    "    results.append(count_users_ratings_by_threshold(i/10))\n",
    "print(\"OK\")\n",
    "print(tabulate(results, headers=[\"Multiplier\", \"Min user ratings\", \"Active Users\", \"Kept Ratings\", \"Kept Movies\", \"Avg ratings/movie\"], tablefmt=\"github\"))"
   ]
  },
  {
   "cell_type": "code",
   "execution_count": 31,
   "metadata": {},
   "outputs": [
    {
     "name": "stderr",
     "output_type": "stream",
     "text": [
      "100%|██████████| 20/20 [04:24<00:00, 13.24s/it]"
     ]
    },
    {
     "name": "stdout",
     "output_type": "stream",
     "text": [
      "OK\n",
      "|   Multiplier |   Min user ratings |   Active Users |   Kept Ratings |   Kept Movies |   Avg ratings/movie |\n",
      "|--------------|--------------------|----------------|----------------|---------------|---------------------|\n",
      "|          2   |            192.135 |          34250 |       15992853 |         44427 |             359.98  |\n",
      "|          2.1 |            201.742 |          32600 |       15667267 |         44388 |             352.962 |\n",
      "|          2.2 |            211.348 |          30809 |       15297722 |         44364 |             344.823 |\n",
      "|          2.3 |            220.955 |          29289 |       14969612 |         44314 |             337.808 |\n",
      "|          2.4 |            230.562 |          27836 |       14642009 |         44289 |             330.601 |\n",
      "|          2.5 |            240.169 |          26438 |       14313040 |         44265 |             323.349 |\n",
      "|          2.6 |            249.775 |          25340 |       14043908 |         44248 |             317.391 |\n",
      "|          2.7 |            259.382 |          24087 |       13725173 |         44218 |             310.398 |\n",
      "|          2.8 |            268.989 |          23098 |       13464146 |         44184 |             304.729 |\n",
      "|          2.9 |            278.596 |          22112 |       13194621 |         44150 |             298.859 |\n",
      "|          3   |            288.202 |          21181 |       12930812 |         44114 |             293.123 |\n",
      "|          3.1 |            297.809 |          20424 |       12709080 |         44097 |             288.207 |\n",
      "|          3.2 |            307.416 |          19458 |       12416985 |         44081 |             281.686 |\n",
      "|          3.3 |            317.023 |          18569 |       12139267 |         44064 |             275.492 |\n",
      "|          3.4 |            326.629 |          17881 |       11917551 |         44038 |             270.62  |\n",
      "|          3.5 |            336.236 |          17152 |       11675862 |         43996 |             265.385 |\n",
      "|          3.6 |            345.843 |          16544 |       11468591 |         43981 |             260.762 |\n",
      "|          3.7 |            355.45  |          15876 |       11234527 |         43957 |             255.58  |\n",
      "|          3.8 |            365.056 |          15271 |       11016539 |         43937 |             250.735 |\n",
      "|          3.9 |            374.663 |          14749 |       10823444 |         43909 |             246.497 |\n"
     ]
    },
    {
     "name": "stderr",
     "output_type": "stream",
     "text": [
      "\n"
     ]
    }
   ],
   "source": [
    "results = []\n",
    "for i in tqdm(range(20, 40)):\n",
    "    results.append(count_users_ratings_by_threshold(i/10))\n",
    "print(\"OK\")\n",
    "print(tabulate(results, headers=[\"Multiplier\", \"Min user ratings\", \"Active Users\", \"Kept Ratings\", \"Kept Movies\", \"Avg ratings/movie\"], tablefmt=\"github\"))"
   ]
  },
  {
   "cell_type": "code",
   "execution_count": 27,
   "metadata": {},
   "outputs": [],
   "source": [
    "users_groups = defaultdict(list)\n",
    "\n",
    "avg_ratings_count = mean(ratings_per_user_count.values())\n",
    "for userId, ratings_count in ratings_per_user_count.items():\n",
    "    x = round(ratings_count / avg_ratings_count * 100)\n",
    "    group = x - x%5\n",
    "    users_groups[group].append(userId)"
   ]
  },
  {
   "cell_type": "code",
   "execution_count": 28,
   "metadata": {},
   "outputs": [
    {
     "data": {
      "text/plain": [
       "643"
      ]
     },
     "execution_count": 28,
     "metadata": {},
     "output_type": "execute_result"
    }
   ],
   "source": [
    "len(users_groups)"
   ]
  },
  {
   "cell_type": "code",
   "execution_count": 29,
   "metadata": {},
   "outputs": [],
   "source": [
    "users_groups_count = { key: len(users) for key, users in users_groups.items() }\n",
    "users_groups_count = { key: users for key, users in sorted(users_groups_count.items(), key=lambda x: x[0]) }"
   ]
  },
  {
   "cell_type": "code",
   "execution_count": 30,
   "metadata": {},
   "outputs": [
    {
     "data": {
      "text/plain": [
       "{0: 14789,\n",
       " 5: 22204,\n",
       " 10: 18013,\n",
       " 15: 44855,\n",
       " 20: 19451,\n",
       " 25: 12920,\n",
       " 30: 10654,\n",
       " 35: 7128,\n",
       " 40: 7878,\n",
       " 45: 6700,\n",
       " 50: 6393,\n",
       " 55: 5673,\n",
       " 60: 4091,\n",
       " 65: 4463,\n",
       " 70: 4154,\n",
       " 75: 3826,\n",
       " 80: 3379,\n",
       " 85: 2501,\n",
       " 90: 2882,\n",
       " 95: 2569,\n",
       " 100: 2796,\n",
       " 105: 3051,\n",
       " 110: 1946,\n",
       " 115: 2313,\n",
       " 120: 2100,\n",
       " 125: 2006,\n",
       " 130: 1813,\n",
       " 135: 1728,\n",
       " 140: 1331,\n",
       " 145: 1576,\n",
       " 150: 1396,\n",
       " 155: 1452,\n",
       " 160: 1367,\n",
       " 165: 999,\n",
       " 170: 1211,\n",
       " 175: 1157,\n",
       " 180: 1114,\n",
       " 185: 924,\n",
       " 190: 750,\n",
       " 195: 911,\n",
       " 200: 840,\n",
       " 205: 992,\n",
       " 210: 954,\n",
       " 215: 671,\n",
       " 220: 890,\n",
       " 225: 796,\n",
       " 230: 756,\n",
       " 235: 697,\n",
       " 240: 585,\n",
       " 245: 694,\n",
       " 250: 593,\n",
       " 255: 624,\n",
       " 260: 641,\n",
       " 265: 502,\n",
       " 270: 544,\n",
       " 275: 555,\n",
       " 280: 524,\n",
       " 285: 462,\n",
       " 290: 390,\n",
       " 295: 457,\n",
       " 300: 434,\n",
       " 305: 407,\n",
       " 310: 525,\n",
       " 315: 355,\n",
       " 320: 458,\n",
       " 325: 448,\n",
       " 330: 344,\n",
       " 335: 413,\n",
       " 340: 294,\n",
       " 345: 350,\n",
       " 350: 355,\n",
       " 355: 338,\n",
       " 360: 340,\n",
       " 365: 271,\n",
       " 370: 310,\n",
       " 375: 296,\n",
       " 380: 289,\n",
       " 385: 289,\n",
       " 390: 219,\n",
       " 395: 259,\n",
       " 400: 297,\n",
       " 405: 223,\n",
       " 410: 239,\n",
       " 415: 294,\n",
       " 420: 193,\n",
       " 425: 264,\n",
       " 430: 252,\n",
       " 435: 219,\n",
       " 440: 220,\n",
       " 445: 169,\n",
       " 450: 205,\n",
       " 455: 207,\n",
       " 460: 209,\n",
       " 465: 190,\n",
       " 470: 150,\n",
       " 475: 195,\n",
       " 480: 175,\n",
       " 485: 183,\n",
       " 490: 155,\n",
       " 495: 135,\n",
       " 500: 153,\n",
       " 505: 156,\n",
       " 510: 148,\n",
       " 515: 124,\n",
       " 520: 186,\n",
       " 525: 157,\n",
       " 530: 170,\n",
       " 535: 141,\n",
       " 540: 146,\n",
       " 545: 111,\n",
       " 550: 140,\n",
       " 555: 147,\n",
       " 560: 123,\n",
       " 565: 119,\n",
       " 570: 122,\n",
       " 575: 133,\n",
       " 580: 111,\n",
       " 585: 136,\n",
       " 590: 122,\n",
       " 595: 97,\n",
       " 600: 130,\n",
       " 605: 125,\n",
       " 610: 100,\n",
       " 615: 99,\n",
       " 620: 65,\n",
       " 625: 111,\n",
       " 630: 96,\n",
       " 635: 103,\n",
       " 640: 98,\n",
       " 645: 62,\n",
       " 650: 86,\n",
       " 655: 92,\n",
       " 660: 82,\n",
       " 665: 79,\n",
       " 670: 76,\n",
       " 675: 83,\n",
       " 680: 84,\n",
       " 685: 89,\n",
       " 690: 84,\n",
       " 695: 48,\n",
       " 700: 77,\n",
       " 705: 69,\n",
       " 710: 85,\n",
       " 715: 60,\n",
       " 720: 65,\n",
       " 725: 49,\n",
       " 730: 72,\n",
       " 735: 70,\n",
       " 740: 75,\n",
       " 745: 47,\n",
       " 750: 52,\n",
       " 755: 70,\n",
       " 760: 69,\n",
       " 765: 62,\n",
       " 770: 56,\n",
       " 775: 46,\n",
       " 780: 52,\n",
       " 785: 40,\n",
       " 790: 58,\n",
       " 795: 50,\n",
       " 800: 52,\n",
       " 805: 61,\n",
       " 810: 57,\n",
       " 815: 47,\n",
       " 820: 52,\n",
       " 825: 39,\n",
       " 830: 66,\n",
       " 835: 51,\n",
       " 840: 53,\n",
       " 845: 54,\n",
       " 850: 46,\n",
       " 855: 48,\n",
       " 860: 47,\n",
       " 865: 53,\n",
       " 870: 42,\n",
       " 875: 41,\n",
       " 880: 35,\n",
       " 885: 50,\n",
       " 890: 32,\n",
       " 895: 29,\n",
       " 900: 32,\n",
       " 905: 37,\n",
       " 910: 39,\n",
       " 915: 34,\n",
       " 920: 49,\n",
       " 925: 25,\n",
       " 930: 31,\n",
       " 935: 42,\n",
       " 940: 32,\n",
       " 945: 33,\n",
       " 950: 28,\n",
       " 955: 32,\n",
       " 960: 29,\n",
       " 965: 44,\n",
       " 970: 28,\n",
       " 975: 33,\n",
       " 980: 24,\n",
       " 985: 25,\n",
       " 990: 32,\n",
       " 995: 24,\n",
       " 1000: 29,\n",
       " 1005: 37,\n",
       " 1010: 34,\n",
       " 1015: 23,\n",
       " 1020: 24,\n",
       " 1025: 26,\n",
       " 1030: 18,\n",
       " 1035: 24,\n",
       " 1040: 29,\n",
       " 1045: 29,\n",
       " 1050: 38,\n",
       " 1055: 18,\n",
       " 1060: 32,\n",
       " 1065: 30,\n",
       " 1070: 26,\n",
       " 1075: 20,\n",
       " 1080: 26,\n",
       " 1085: 34,\n",
       " 1090: 37,\n",
       " 1095: 15,\n",
       " 1100: 23,\n",
       " 1105: 21,\n",
       " 1110: 16,\n",
       " 1115: 37,\n",
       " 1120: 24,\n",
       " 1125: 25,\n",
       " 1130: 22,\n",
       " 1135: 25,\n",
       " 1140: 22,\n",
       " 1145: 21,\n",
       " 1150: 26,\n",
       " 1155: 26,\n",
       " 1160: 20,\n",
       " 1165: 20,\n",
       " 1170: 24,\n",
       " 1175: 23,\n",
       " 1180: 21,\n",
       " 1185: 16,\n",
       " 1190: 17,\n",
       " 1195: 22,\n",
       " 1200: 22,\n",
       " 1205: 22,\n",
       " 1210: 17,\n",
       " 1215: 19,\n",
       " 1220: 20,\n",
       " 1225: 21,\n",
       " 1230: 16,\n",
       " 1235: 20,\n",
       " 1240: 8,\n",
       " 1245: 15,\n",
       " 1250: 20,\n",
       " 1255: 18,\n",
       " 1260: 15,\n",
       " 1265: 14,\n",
       " 1270: 12,\n",
       " 1275: 20,\n",
       " 1280: 15,\n",
       " 1285: 13,\n",
       " 1290: 21,\n",
       " 1295: 22,\n",
       " 1300: 14,\n",
       " 1305: 14,\n",
       " 1310: 8,\n",
       " 1315: 10,\n",
       " 1320: 10,\n",
       " 1325: 11,\n",
       " 1330: 15,\n",
       " 1335: 12,\n",
       " 1340: 9,\n",
       " 1345: 18,\n",
       " 1350: 11,\n",
       " 1355: 13,\n",
       " 1360: 14,\n",
       " 1365: 8,\n",
       " 1370: 14,\n",
       " 1375: 6,\n",
       " 1380: 12,\n",
       " 1385: 9,\n",
       " 1390: 12,\n",
       " 1395: 14,\n",
       " 1400: 11,\n",
       " 1405: 11,\n",
       " 1410: 13,\n",
       " 1415: 16,\n",
       " 1420: 14,\n",
       " 1425: 10,\n",
       " 1430: 14,\n",
       " 1435: 10,\n",
       " 1440: 13,\n",
       " 1445: 10,\n",
       " 1450: 9,\n",
       " 1455: 8,\n",
       " 1460: 10,\n",
       " 1465: 17,\n",
       " 1470: 15,\n",
       " 1475: 14,\n",
       " 1480: 20,\n",
       " 1485: 5,\n",
       " 1490: 8,\n",
       " 1495: 8,\n",
       " 1500: 5,\n",
       " 1505: 8,\n",
       " 1510: 7,\n",
       " 1515: 4,\n",
       " 1520: 8,\n",
       " 1525: 10,\n",
       " 1530: 11,\n",
       " 1535: 3,\n",
       " 1540: 6,\n",
       " 1545: 8,\n",
       " 1550: 6,\n",
       " 1555: 9,\n",
       " 1560: 7,\n",
       " 1565: 10,\n",
       " 1570: 9,\n",
       " 1575: 8,\n",
       " 1580: 8,\n",
       " 1585: 3,\n",
       " 1590: 15,\n",
       " 1595: 5,\n",
       " 1600: 7,\n",
       " 1605: 4,\n",
       " 1610: 4,\n",
       " 1615: 6,\n",
       " 1620: 6,\n",
       " 1625: 8,\n",
       " 1630: 8,\n",
       " 1635: 9,\n",
       " 1640: 4,\n",
       " 1645: 2,\n",
       " 1650: 8,\n",
       " 1655: 4,\n",
       " 1660: 5,\n",
       " 1665: 7,\n",
       " 1670: 6,\n",
       " 1675: 7,\n",
       " 1680: 8,\n",
       " 1685: 8,\n",
       " 1690: 10,\n",
       " 1695: 5,\n",
       " 1700: 7,\n",
       " 1705: 2,\n",
       " 1710: 1,\n",
       " 1715: 3,\n",
       " 1720: 6,\n",
       " 1725: 5,\n",
       " 1730: 4,\n",
       " 1735: 8,\n",
       " 1740: 6,\n",
       " 1745: 2,\n",
       " 1750: 5,\n",
       " 1755: 6,\n",
       " 1760: 5,\n",
       " 1765: 2,\n",
       " 1770: 6,\n",
       " 1775: 2,\n",
       " 1780: 4,\n",
       " 1785: 3,\n",
       " 1790: 7,\n",
       " 1795: 3,\n",
       " 1800: 6,\n",
       " 1805: 9,\n",
       " 1810: 2,\n",
       " 1815: 7,\n",
       " 1820: 4,\n",
       " 1825: 2,\n",
       " 1830: 5,\n",
       " 1835: 5,\n",
       " 1840: 1,\n",
       " 1845: 5,\n",
       " 1850: 1,\n",
       " 1855: 4,\n",
       " 1860: 3,\n",
       " 1865: 2,\n",
       " 1870: 5,\n",
       " 1875: 3,\n",
       " 1880: 4,\n",
       " 1885: 3,\n",
       " 1890: 6,\n",
       " 1895: 2,\n",
       " 1900: 1,\n",
       " 1905: 2,\n",
       " 1910: 1,\n",
       " 1915: 4,\n",
       " 1920: 3,\n",
       " 1925: 3,\n",
       " 1930: 2,\n",
       " 1935: 6,\n",
       " 1940: 6,\n",
       " 1950: 2,\n",
       " 1955: 1,\n",
       " 1960: 2,\n",
       " 1965: 4,\n",
       " 1970: 4,\n",
       " 1975: 3,\n",
       " 1985: 1,\n",
       " 1990: 3,\n",
       " 1995: 2,\n",
       " 2000: 7,\n",
       " 2005: 3,\n",
       " 2010: 6,\n",
       " 2020: 1,\n",
       " 2025: 3,\n",
       " 2030: 3,\n",
       " 2035: 5,\n",
       " 2040: 4,\n",
       " 2045: 2,\n",
       " 2050: 3,\n",
       " 2055: 2,\n",
       " 2060: 3,\n",
       " 2065: 1,\n",
       " 2070: 2,\n",
       " 2075: 1,\n",
       " 2080: 3,\n",
       " 2085: 1,\n",
       " 2090: 3,\n",
       " 2095: 4,\n",
       " 2100: 1,\n",
       " 2105: 3,\n",
       " 2110: 2,\n",
       " 2115: 4,\n",
       " 2120: 1,\n",
       " 2125: 2,\n",
       " 2130: 3,\n",
       " 2135: 3,\n",
       " 2145: 2,\n",
       " 2155: 1,\n",
       " 2160: 4,\n",
       " 2165: 3,\n",
       " 2175: 2,\n",
       " 2180: 3,\n",
       " 2185: 2,\n",
       " 2190: 4,\n",
       " 2195: 3,\n",
       " 2200: 2,\n",
       " 2205: 1,\n",
       " 2210: 1,\n",
       " 2215: 5,\n",
       " 2220: 1,\n",
       " 2225: 1,\n",
       " 2230: 2,\n",
       " 2240: 4,\n",
       " 2245: 4,\n",
       " 2250: 3,\n",
       " 2255: 2,\n",
       " 2260: 3,\n",
       " 2265: 2,\n",
       " 2270: 2,\n",
       " 2275: 6,\n",
       " 2280: 3,\n",
       " 2285: 1,\n",
       " 2290: 4,\n",
       " 2295: 3,\n",
       " 2300: 2,\n",
       " 2305: 2,\n",
       " 2310: 2,\n",
       " 2315: 3,\n",
       " 2320: 2,\n",
       " 2335: 1,\n",
       " 2340: 1,\n",
       " 2345: 2,\n",
       " 2350: 2,\n",
       " 2370: 4,\n",
       " 2380: 1,\n",
       " 2385: 1,\n",
       " 2390: 3,\n",
       " 2395: 1,\n",
       " 2400: 2,\n",
       " 2405: 1,\n",
       " 2410: 2,\n",
       " 2415: 3,\n",
       " 2420: 4,\n",
       " 2430: 2,\n",
       " 2435: 2,\n",
       " 2440: 2,\n",
       " 2445: 3,\n",
       " 2455: 2,\n",
       " 2465: 2,\n",
       " 2475: 1,\n",
       " 2480: 3,\n",
       " 2485: 4,\n",
       " 2495: 1,\n",
       " 2500: 1,\n",
       " 2505: 1,\n",
       " 2510: 3,\n",
       " 2515: 2,\n",
       " 2520: 1,\n",
       " 2530: 2,\n",
       " 2540: 1,\n",
       " 2550: 1,\n",
       " 2555: 1,\n",
       " 2560: 1,\n",
       " 2565: 1,\n",
       " 2575: 1,\n",
       " 2585: 1,\n",
       " 2590: 1,\n",
       " 2595: 1,\n",
       " 2600: 2,\n",
       " 2615: 2,\n",
       " 2625: 2,\n",
       " 2630: 2,\n",
       " 2645: 2,\n",
       " 2655: 1,\n",
       " 2660: 1,\n",
       " 2665: 1,\n",
       " 2680: 3,\n",
       " 2685: 1,\n",
       " 2690: 1,\n",
       " 2695: 1,\n",
       " 2700: 1,\n",
       " 2710: 1,\n",
       " 2715: 3,\n",
       " 2720: 1,\n",
       " 2735: 1,\n",
       " 2740: 1,\n",
       " 2745: 2,\n",
       " 2750: 2,\n",
       " 2755: 1,\n",
       " 2760: 1,\n",
       " 2765: 1,\n",
       " 2770: 1,\n",
       " 2775: 2,\n",
       " 2780: 3,\n",
       " 2790: 1,\n",
       " 2795: 1,\n",
       " 2800: 1,\n",
       " 2805: 1,\n",
       " 2815: 1,\n",
       " 2820: 3,\n",
       " 2845: 2,\n",
       " 2850: 2,\n",
       " 2855: 2,\n",
       " 2865: 2,\n",
       " 2870: 2,\n",
       " 2875: 2,\n",
       " 2885: 1,\n",
       " 2895: 1,\n",
       " 2910: 1,\n",
       " 2915: 2,\n",
       " 2920: 1,\n",
       " 2925: 1,\n",
       " 2950: 1,\n",
       " 2955: 1,\n",
       " 2960: 1,\n",
       " 2995: 2,\n",
       " 3000: 3,\n",
       " 3010: 1,\n",
       " 3025: 2,\n",
       " 3045: 1,\n",
       " 3060: 2,\n",
       " 3075: 1,\n",
       " 3085: 2,\n",
       " 3105: 2,\n",
       " 3140: 1,\n",
       " 3150: 1,\n",
       " 3160: 1,\n",
       " 3175: 2,\n",
       " 3180: 1,\n",
       " 3195: 1,\n",
       " 3210: 1,\n",
       " 3220: 1,\n",
       " 3225: 1,\n",
       " 3235: 1,\n",
       " 3240: 1,\n",
       " 3245: 2,\n",
       " 3250: 1,\n",
       " 3270: 1,\n",
       " 3295: 1,\n",
       " 3300: 2,\n",
       " 3315: 1,\n",
       " 3385: 1,\n",
       " 3400: 1,\n",
       " 3410: 1,\n",
       " 3435: 2,\n",
       " 3450: 1,\n",
       " 3455: 3,\n",
       " 3500: 1,\n",
       " 3505: 1,\n",
       " 3515: 1,\n",
       " 3525: 1,\n",
       " 3555: 2,\n",
       " 3565: 1,\n",
       " 3590: 3,\n",
       " 3600: 1,\n",
       " 3625: 1,\n",
       " 3640: 1,\n",
       " 3645: 1,\n",
       " 3650: 1,\n",
       " 3675: 1,\n",
       " 3710: 1,\n",
       " 3730: 1,\n",
       " 3750: 1,\n",
       " 3755: 1,\n",
       " 3760: 1,\n",
       " 3780: 2,\n",
       " 3795: 2,\n",
       " 3805: 1,\n",
       " 3815: 1,\n",
       " 3840: 1,\n",
       " 3870: 1,\n",
       " 3920: 1,\n",
       " 3945: 1,\n",
       " 3950: 1,\n",
       " 3955: 1,\n",
       " 3985: 1,\n",
       " 4020: 1,\n",
       " 4035: 1,\n",
       " 4045: 1,\n",
       " 4055: 2,\n",
       " 4120: 1,\n",
       " 4235: 1,\n",
       " 4265: 1,\n",
       " 4275: 1,\n",
       " 4285: 1,\n",
       " 4400: 1,\n",
       " 4405: 1,\n",
       " 4445: 1,\n",
       " 4525: 1,\n",
       " 4595: 1,\n",
       " 4605: 1,\n",
       " 4625: 1,\n",
       " 4640: 1,\n",
       " 4690: 1,\n",
       " 4900: 1,\n",
       " 4980: 1,\n",
       " 5010: 1,\n",
       " 5030: 2,\n",
       " 5120: 1,\n",
       " 5145: 1,\n",
       " 5380: 1,\n",
       " 5415: 1,\n",
       " 5575: 1,\n",
       " 5845: 1,\n",
       " 5930: 1,\n",
       " 6050: 1,\n",
       " 6270: 1,\n",
       " 6340: 1,\n",
       " 6575: 1,\n",
       " 7710: 1,\n",
       " 7820: 1,\n",
       " 7950: 1,\n",
       " 9655: 1,\n",
       " 19020: 1}"
      ]
     },
     "execution_count": 30,
     "metadata": {},
     "output_type": "execute_result"
    }
   ],
   "source": [
    "users_groups_count"
   ]
  },
  {
   "cell_type": "code",
   "execution_count": 33,
   "metadata": {},
   "outputs": [],
   "source": [
    "def random_squeeze_group(group, max_users):\n",
    "    limit = random.randrange(max_users)\n",
    "    if len(group) <= limit:\n",
    "        return group\n",
    "    else:\n",
    "        return random.sample(group, limit)\n",
    "\n",
    "def get_statistics_by_groups_kept(min_group, max_group, max_users_per_group, randomize=True):\n",
    "    groups = [group for group_key, group in users_groups.items() if min_group <= group_key <= max_group and random.random()>0.2]\n",
    "    users_to_keep = [userId for group in groups for userId in set(random_squeeze_group(group, max_users_per_group))]\n",
    "    kept_ratings, kept_movies, avg_ratings_per_movie, avg_ratings_per_user = get_statistics_by_kept_users(set(users_to_keep))\n",
    "    return [len(users_to_keep), len(kept_ratings), len(kept_movies), avg_ratings_per_movie, avg_ratings_per_user, users_to_keep]"
   ]
  },
  {
   "cell_type": "code",
   "execution_count": 102,
   "metadata": {},
   "outputs": [
    {
     "name": "stdout",
     "output_type": "stream",
     "text": [
      "Min group: 5\n",
      "Max group: 100\n",
      "Max users per group: 1000\n",
      "Max users per group: 2000\n",
      "Max users per group: 3000\n",
      "Max users per group: 4000\n",
      "Max users per group: 5000\n",
      "Max group: 210\n",
      "Max users per group: 1000\n",
      "Max users per group: 2000\n",
      "Max users per group: 3000\n",
      "Max users per group: 4000\n",
      "Max users per group: 5000\n",
      "Max group: 300\n",
      "Max users per group: 1000\n",
      "Max users per group: 2000\n",
      "Max users per group: 3000\n",
      "Max users per group: 4000\n",
      "Max users per group: 5000\n",
      "Max group: 400\n",
      "Max users per group: 1000\n",
      "Max users per group: 2000\n",
      "Max users per group: 3000\n",
      "Max users per group: 4000\n",
      "Max users per group: 5000\n",
      "|   Min group |   Max group |   Max allowed users per group |   Kept users |   Kept Ratings |   Kept Movies |   Avg ratings/movie |\n",
      "|-------------|-------------|-------------------------------|--------------|----------------|---------------|---------------------|\n",
      "|           5 |         100 |                          1000 |        20000 |        1044232 |         13211 |             79.0426 |\n",
      "|           5 |         100 |                          2000 |        40000 |        2088429 |         15883 |            131.488  |\n",
      "|           5 |         100 |                          3000 |        58748 |        3021218 |         17404 |            173.593  |\n",
      "|           5 |         100 |                          4000 |        73953 |        3640620 |         18167 |            200.397  |\n",
      "|           5 |         100 |                          5000 |        85661 |        4023027 |         18765 |            214.39   |\n",
      "|           5 |         210 |                          1000 |        41370 |        4297032 |         19795 |            217.077  |\n",
      "|           5 |         210 |                          2000 |        70461 |        6487349 |         21993 |            294.973  |\n",
      "|           5 |         210 |                          3000 |        90628 |        7569397 |         22547 |            335.716  |\n",
      "|           5 |         210 |                          4000 |       105884 |        8194605 |         23049 |            355.53   |\n",
      "|           5 |         210 |                          5000 |       117592 |        8576567 |         23281 |            368.393  |\n",
      "|           5 |         300 |                          1000 |        52185 |        6940444 |         23385 |            296.79   |\n",
      "|           5 |         300 |                          2000 |        81276 |        9130304 |         24444 |            373.519  |\n",
      "|           5 |         300 |                          3000 |       101443 |       10213496 |         25154 |            406.039  |\n",
      "|           5 |         300 |                          4000 |       116699 |       10838264 |         25518 |            424.73   |\n",
      "|           5 |         300 |                          5000 |       128407 |       11220447 |         25709 |            436.44   |\n",
      "|           5 |         400 |                          1000 |        59042 |        9241746 |         25810 |            358.068  |\n",
      "|           5 |         400 |                          2000 |        88133 |       11432298 |         26945 |            424.283  |\n",
      "|           5 |         400 |                          3000 |       108300 |       12514465 |         27239 |            459.432  |\n",
      "|           5 |         400 |                          4000 |       123556 |       13139622 |         27620 |            475.729  |\n",
      "|           5 |         400 |                          5000 |       135264 |       13521526 |         27748 |            487.297  |\n"
     ]
    }
   ],
   "source": [
    "results = []\n",
    "min_groups = [5]\n",
    "max_groups = [100, 210, 300, 400]\n",
    "max_users_per_group = [1000, 2000, 3000, 4000, 5000]\n",
    "for min_group_index in min_groups:\n",
    "    print(\"Min group:\", min_group_index)\n",
    "    for max_group_index in max_groups:\n",
    "        print(\"Max group:\", max_group_index)\n",
    "        for max_users_per_group_item in max_users_per_group:\n",
    "            print(\"Max users per group:\", max_users_per_group_item)\n",
    "            a, b, c, d, users_to_keep = get_statistics_by_groups_kept(min_group_index, max_group_index, max_users_per_group_item)\n",
    "            results.append([min_group_index, max_group_index, max_users_per_group_item, a, b, c, d])\n",
    "print(tabulate(results, headers=[\"Min group\", \"Max group\", \"Max allowed users per group\", \"Kept users\", \"Kept Ratings\", \"Kept Movies\", \"Avg ratings/movie\"], tablefmt=\"github\"))\n"
   ]
  },
  {
   "cell_type": "code",
   "execution_count": 114,
   "metadata": {},
   "outputs": [
    {
     "name": "stdout",
     "output_type": "stream",
     "text": [
      "Min group: 5\n",
      "Max group: 300\n",
      "Max users per group: 200\n",
      "Max users per group: 300\n",
      "Max users per group: 500\n",
      "Max users per group: 1000\n",
      "|   Min group |   Max group |   Max allowed users per group |   Kept users |   Kept Ratings |   Kept Movies |   Avg ratings/movie |   Avg ratings/user |\n",
      "|-------------|-------------|-------------------------------|--------------|----------------|---------------|---------------------|--------------------|\n",
      "|           5 |         300 |                           200 |         4010 |         692954 |         13182 |             52.5682 |            172.806 |\n",
      "|           5 |         300 |                           300 |         4334 |         628577 |         12519 |             50.2098 |            145.034 |\n",
      "|           5 |         300 |                           500 |         9882 |        1405211 |         15743 |             89.2594 |            142.199 |\n",
      "|           5 |         300 |                          1000 |        15750 |        2581925 |         18572 |            139.022  |            163.932 |\n"
     ]
    }
   ],
   "source": [
    "results = []\n",
    "min_groups = [5]\n",
    "max_groups = [300]\n",
    "max_users_per_group = [200, 300, 500, 1000]\n",
    "for min_group_index in min_groups:\n",
    "    print(\"Min group:\", min_group_index)\n",
    "    for max_group_index in max_groups:\n",
    "        print(\"Max group:\", max_group_index)\n",
    "        for max_users_per_group_item in max_users_per_group:\n",
    "            print(\"Max users per group:\", max_users_per_group_item)\n",
    "            a, b, c, d, e, users_to_keep = get_statistics_by_groups_kept(min_group_index, max_group_index, max_users_per_group_item)\n",
    "            results.append([min_group_index, max_group_index, max_users_per_group_item, a, b, c, d, e])\n",
    "print(tabulate(results, headers=[\"Min (% avg ratings)\", \"Max (% avg ratings)\", \"Max allowed users per group\", \"Kept users\", \"Kept Ratings\", \"Kept Movies\", \"Avg ratings/movie\", \"Avg ratings/user\"], tablefmt=\"github\"))\n"
   ]
  },
  {
   "cell_type": "code",
   "execution_count": 41,
   "metadata": {},
   "outputs": [
    {
     "data": {
      "text/plain": [
       "576.8433780339134"
      ]
     },
     "execution_count": 41,
     "metadata": {},
     "output_type": "execute_result"
    }
   ],
   "source": [
    "count_average_ratings_per_movie(ratings_json)"
   ]
  },
  {
   "cell_type": "code",
   "execution_count": 42,
   "metadata": {},
   "outputs": [
    {
     "data": {
      "text/plain": [
       "96.06745393065974"
      ]
     },
     "execution_count": 42,
     "metadata": {},
     "output_type": "execute_result"
    }
   ],
   "source": [
    "count_average_ratings_per_user(ratings_json)"
   ]
  },
  {
   "attachments": {},
   "cell_type": "markdown",
   "metadata": {},
   "source": [
    "### Average Dataset with around 2M ratings"
   ]
  },
  {
   "cell_type": "code",
   "execution_count": 40,
   "metadata": {},
   "outputs": [
    {
     "name": "stdout",
     "output_type": "stream",
     "text": [
      "|   Kept users |   Kept Ratings |   Kept Movies |   Avg ratings/movie |   Avg ratings/user |\n",
      "|--------------|----------------|---------------|---------------------|--------------------|\n",
      "|        15589 |        2481265 |         18516 |             134.007 |            159.168 |\n"
     ]
    }
   ],
   "source": [
    "# average user has submitted 96 ratings\n",
    "#  keep users that have ratings_count more than 5% and less than 300% of 96\n",
    "min_group = 10\n",
    "max_group = 300\n",
    "max_users_per_group = 700\n",
    "# split these users in groups (by 5% distance from average ratings_count)\n",
    "# keep a random number of users (max 500) from each group \n",
    "res = get_statistics_by_groups_kept(min_group, max_group, max_users_per_group)\n",
    "stats = res[:-1]\n",
    "users_to_keep = res[-1]\n",
    "print(tabulate([stats], headers=[\"Kept users\", \"Kept Ratings\", \"Kept Movies\", \"Avg ratings/movie\", \"Avg ratings/user\"], tablefmt=\"github\"))"
   ]
  },
  {
   "attachments": {},
   "cell_type": "markdown",
   "metadata": {},
   "source": [
    "### Conclusion"
   ]
  },
  {
   "attachments": {},
   "cell_type": "markdown",
   "metadata": {},
   "source": [
    "| graph | users | movies | ratings | avg ratings per movie | avg ratings per user |\n",
    "| --- | --- | --- | --- | --- | --- |\n",
    "| small | 700 | 9k | 100k | 11 | 149\n",
    "| large | 270k | 45k | 25M | 576 | 96 |\n",
    "| sub-graph | 10k-20k | 10k-20k | 2M | 100-200 | 100-200 |\n"
   ]
  },
  {
   "attachments": {},
   "cell_type": "markdown",
   "metadata": {},
   "source": [
    "* To build the sub-graph, I filtered the ratings on the large graph based on the users, following the steps:\n",
    "    * count the ratings submitted by each user\n",
    "    * find the average number of ratings per user in the initial graph (96)\n",
    "    * split the users in groups, based on their ratings count in comparison to the average ratings count per user (96)\n",
    "    * keep randomly the 80% the groups with users who have submitted from 10 (96 * 10%) to 288 (96 * 300%) ratings\n",
    "    * keep randomly at most 700 users from each group"
   ]
  }
 ],
 "metadata": {
  "kernelspec": {
   "display_name": "environ",
   "language": "python",
   "name": "python3"
  },
  "language_info": {
   "codemirror_mode": {
    "name": "ipython",
    "version": 3
   },
   "file_extension": ".py",
   "mimetype": "text/x-python",
   "name": "python",
   "nbconvert_exporter": "python",
   "pygments_lexer": "ipython3",
   "version": "3.9.6"
  },
  "orig_nbformat": 4,
  "vscode": {
   "interpreter": {
    "hash": "acbc58aadc5672afc04cc91f2a1726d8eb7b999e15e50d024070fdc74729208f"
   }
  }
 },
 "nbformat": 4,
 "nbformat_minor": 2
}
