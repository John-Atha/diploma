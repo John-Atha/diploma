{
 "cells": [
  {
   "attachments": {},
   "cell_type": "markdown",
   "metadata": {},
   "source": [
    "### Goal of the notebook"
   ]
  },
  {
   "attachments": {},
   "cell_type": "markdown",
   "metadata": {},
   "source": [
    "* The small version of the dataset has around 100K ratings on 9k movies from 700 users\n",
    "* The full version of the dataset has around 25M ratings on 45k movies from 270k users\n",
    "\n",
    "* In this notebook, I will try to generate a combination of the two graphs\n",
    "    * keeping all the movies of the small graph\n",
    "    * keeping all the ratings of the large graph on these movies\n",
    "    * (obviously) keep only the users of the ratings I used"
   ]
  },
  {
   "attachments": {},
   "cell_type": "markdown",
   "metadata": {},
   "source": [
    "### Imports"
   ]
  },
  {
   "cell_type": "code",
   "execution_count": 1,
   "metadata": {},
   "outputs": [],
   "source": [
    "import pathlib\n",
    "import os\n",
    "import sys\n",
    "from collections import defaultdict\n",
    "from statistics import mean\n",
    "from py2neo import Graph\n",
    "from py2neo.bulk import merge_nodes, merge_relationships\n",
    "import random\n",
    "\n",
    "parent_path = pathlib.Path(os.getcwd()).parent.absolute()\n",
    "sys.path.append(str(parent_path))\n",
    "\n",
    "from utils.general import read_csv, df_to_json\n",
    "from tqdm import tqdm\n",
    "from tabulate import tabulate\n"
   ]
  },
  {
   "attachments": {},
   "cell_type": "markdown",
   "metadata": {},
   "source": [
    "### Load CSVs"
   ]
  },
  {
   "cell_type": "code",
   "execution_count": 2,
   "metadata": {},
   "outputs": [],
   "source": [
    "data_dir = \"movies_with_metadata\""
   ]
  },
  {
   "cell_type": "code",
   "execution_count": 5,
   "metadata": {},
   "outputs": [
    {
     "name": "stdout",
     "output_type": "stream",
     "text": [
      "Reading from: /Users/ioannisathanasiou/diploma/model/movies_with_metadata/ratings_small.csv\n"
     ]
    }
   ],
   "source": [
    "ratings_small = df_to_json(\n",
    "    read_csv(\n",
    "        filename=\"ratings_small\",\n",
    "        parent_dir_name=data_dir,\n",
    "    )\n",
    ")\n"
   ]
  },
  {
   "cell_type": "code",
   "execution_count": 6,
   "metadata": {},
   "outputs": [
    {
     "name": "stdout",
     "output_type": "stream",
     "text": [
      "Reading from: /Users/ioannisathanasiou/diploma/model/movies_with_metadata/ratings.csv\n"
     ]
    }
   ],
   "source": [
    "ratings_large = df_to_json(\n",
    "    read_csv(\n",
    "        filename=\"ratings\",\n",
    "        parent_dir_name=data_dir,\n",
    "    )\n",
    ")"
   ]
  },
  {
   "attachments": {},
   "cell_type": "markdown",
   "metadata": {},
   "source": [
    "### Get the corresponding movies and ratings"
   ]
  },
  {
   "cell_type": "code",
   "execution_count": 21,
   "metadata": {},
   "outputs": [
    {
     "data": {
      "text/plain": [
       "36057"
      ]
     },
     "execution_count": 21,
     "metadata": {},
     "output_type": "execute_result"
    }
   ],
   "source": [
    "movies_small_ids = set([rating[\"movieId\"] for rating in ratings_small])\n",
    "movies_large_ids = set([rating[\"movieId\"] for rating in ratings_large])\n",
    "len(movies_large_ids.difference(movies_small_ids))"
   ]
  },
  {
   "cell_type": "code",
   "execution_count": 23,
   "metadata": {},
   "outputs": [
    {
     "name": "stdout",
     "output_type": "stream",
     "text": [
      "26024289 => 25107579\n"
     ]
    }
   ],
   "source": [
    "ratings_mixed = [rating for rating in ratings_large if rating[\"movieId\"] in movies_small_ids]\n",
    "print(len(ratings_large), \"=>\", len(ratings_mixed))"
   ]
  },
  {
   "attachments": {},
   "cell_type": "markdown",
   "metadata": {},
   "source": [
    "### Conclusion"
   ]
  },
  {
   "attachments": {},
   "cell_type": "markdown",
   "metadata": {},
   "source": [
    "* Only ~ 1M ratings were removed\n",
    "* Not enough reduction of the dataset"
   ]
  }
 ],
 "metadata": {
  "kernelspec": {
   "display_name": "environ",
   "language": "python",
   "name": "python3"
  },
  "language_info": {
   "codemirror_mode": {
    "name": "ipython",
    "version": 3
   },
   "file_extension": ".py",
   "mimetype": "text/x-python",
   "name": "python",
   "nbconvert_exporter": "python",
   "pygments_lexer": "ipython3",
   "version": "3.9.6"
  },
  "orig_nbformat": 4,
  "vscode": {
   "interpreter": {
    "hash": "acbc58aadc5672afc04cc91f2a1726d8eb7b999e15e50d024070fdc74729208f"
   }
  }
 },
 "nbformat": 4,
 "nbformat_minor": 2
}
