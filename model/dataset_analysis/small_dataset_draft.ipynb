{
 "cells": [
  {
   "cell_type": "code",
   "execution_count": 1,
   "metadata": {},
   "outputs": [],
   "source": [
    "import pathlib\n",
    "import os\n",
    "import sys\n",
    "from collections import defaultdict\n",
    "from statistics import mean\n",
    "from py2neo import Graph\n",
    "from py2neo.bulk import merge_nodes, merge_relationships\n",
    "\n",
    "parent_path = pathlib.Path(os.getcwd()).parent.absolute()\n",
    "sys.path.append(str(parent_path))\n",
    "\n",
    "from utils.general import read_csv, df_to_json\n",
    "from tqdm import tqdm\n",
    "from tabulate import tabulate\n"
   ]
  },
  {
   "attachments": {},
   "cell_type": "markdown",
   "metadata": {},
   "source": [
    "### Load CSVs"
   ]
  },
  {
   "cell_type": "code",
   "execution_count": 2,
   "metadata": {},
   "outputs": [],
   "source": [
    "data_dir = \"movies_with_metadata\""
   ]
  },
  {
   "cell_type": "code",
   "execution_count": 3,
   "metadata": {},
   "outputs": [
    {
     "name": "stdout",
     "output_type": "stream",
     "text": [
      "Reading from: /Users/ioannisathanasiou/diploma/model/movies_with_metadata/movies_metadata.csv\n"
     ]
    }
   ],
   "source": [
    "movies_json = df_to_json(\n",
    "    read_csv(\n",
    "        filename=\"movies_metadata\",\n",
    "        parent_dir_name=data_dir,\n",
    "        low_memory=False,\n",
    "    )\n",
    ")"
   ]
  },
  {
   "cell_type": "code",
   "execution_count": 4,
   "metadata": {},
   "outputs": [
    {
     "name": "stdout",
     "output_type": "stream",
     "text": [
      "Reading from: /Users/ioannisathanasiou/diploma/model/movies_with_metadata/ratings_small.csv\n"
     ]
    }
   ],
   "source": [
    "ratings_json = df_to_json(\n",
    "    read_csv(\n",
    "        filename=\"ratings_small\",\n",
    "        parent_dir_name=data_dir,\n",
    "    )\n",
    ")\n"
   ]
  },
  {
   "attachments": {},
   "cell_type": "markdown",
   "metadata": {},
   "source": [
    "### Movies"
   ]
  },
  {
   "cell_type": "code",
   "execution_count": 5,
   "metadata": {},
   "outputs": [
    {
     "data": {
      "text/plain": [
       "{'adult': 'False',\n",
       " 'belongs_to_collection': \"{'id': 10194, 'name': 'Toy Story Collection', 'poster_path': '/7G9915LfUQ2lVfwMEEhDsn3kT4B.jpg', 'backdrop_path': '/9FBwqcd9IRruEDUrTdcaafOMKUq.jpg'}\",\n",
       " 'budget': '30000000',\n",
       " 'genres': \"[{'id': 16, 'name': 'Animation'}, {'id': 35, 'name': 'Comedy'}, {'id': 10751, 'name': 'Family'}]\",\n",
       " 'homepage': 'http://toystory.disney.com/toy-story',\n",
       " 'id': '862',\n",
       " 'imdb_id': 'tt0114709',\n",
       " 'original_language': 'en',\n",
       " 'original_title': 'Toy Story',\n",
       " 'overview': \"Led by Woody, Andy's toys live happily in his room until Andy's birthday brings Buzz Lightyear onto the scene. Afraid of losing his place in Andy's heart, Woody plots against Buzz. But when circumstances separate Buzz and Woody from their owner, the duo eventually learns to put aside their differences.\",\n",
       " 'popularity': '21.946943',\n",
       " 'poster_path': '/rhIRbceoE9lR4veEXuwCC2wARtG.jpg',\n",
       " 'production_companies': \"[{'name': 'Pixar Animation Studios', 'id': 3}]\",\n",
       " 'production_countries': \"[{'iso_3166_1': 'US', 'name': 'United States of America'}]\",\n",
       " 'release_date': '1995-10-30',\n",
       " 'revenue': 373554033.0,\n",
       " 'runtime': 81.0,\n",
       " 'spoken_languages': \"[{'iso_639_1': 'en', 'name': 'English'}]\",\n",
       " 'status': 'Released',\n",
       " 'tagline': nan,\n",
       " 'title': 'Toy Story',\n",
       " 'video': False,\n",
       " 'vote_average': 7.7,\n",
       " 'vote_count': 5415.0}"
      ]
     },
     "execution_count": 5,
     "metadata": {},
     "output_type": "execute_result"
    }
   ],
   "source": [
    "movies_json[0]"
   ]
  },
  {
   "cell_type": "code",
   "execution_count": 6,
   "metadata": {},
   "outputs": [
    {
     "data": {
      "text/plain": [
       "45466"
      ]
     },
     "execution_count": 6,
     "metadata": {},
     "output_type": "execute_result"
    }
   ],
   "source": [
    "len(movies_json)"
   ]
  },
  {
   "attachments": {},
   "cell_type": "markdown",
   "metadata": {},
   "source": [
    "#### Ratings"
   ]
  },
  {
   "cell_type": "code",
   "execution_count": 7,
   "metadata": {},
   "outputs": [
    {
     "data": {
      "text/plain": [
       "{'userId': 1, 'movieId': 31, 'rating': 2.5, 'timestamp': 1260759144}"
      ]
     },
     "execution_count": 7,
     "metadata": {},
     "output_type": "execute_result"
    }
   ],
   "source": [
    "ratings_json[0]"
   ]
  },
  {
   "cell_type": "code",
   "execution_count": 8,
   "metadata": {},
   "outputs": [
    {
     "data": {
      "text/plain": [
       "100004"
      ]
     },
     "execution_count": 8,
     "metadata": {},
     "output_type": "execute_result"
    }
   ],
   "source": [
    "len(ratings_json)"
   ]
  },
  {
   "cell_type": "code",
   "execution_count": 28,
   "metadata": {},
   "outputs": [],
   "source": [
    "def count_average_ratings_per_movie(kept_ratings):\n",
    "    ratings_per_movie_count = defaultdict(int)\n",
    "    for rating in kept_ratings:\n",
    "        ratings_per_movie_count[rating[\"movieId\"]] += 1\n",
    "    return mean(ratings_per_movie_count.values())\n",
    "\n",
    "def count_average_ratings_per_user(kept_ratings):\n",
    "    ratings_per_user_count = defaultdict(int)\n",
    "    for rating in kept_ratings:\n",
    "        ratings_per_user_count[rating[\"userId\"]] += 1\n",
    "    return mean(ratings_per_user_count.values())"
   ]
  },
  {
   "cell_type": "code",
   "execution_count": 29,
   "metadata": {},
   "outputs": [
    {
     "data": {
      "text/plain": [
       "11.030664019413193"
      ]
     },
     "execution_count": 29,
     "metadata": {},
     "output_type": "execute_result"
    }
   ],
   "source": [
    "count_average_ratings_per_movie(ratings_json)"
   ]
  },
  {
   "cell_type": "code",
   "execution_count": 30,
   "metadata": {},
   "outputs": [
    {
     "data": {
      "text/plain": [
       "149.03725782414307"
      ]
     },
     "execution_count": 30,
     "metadata": {},
     "output_type": "execute_result"
    }
   ],
   "source": [
    "count_average_ratings_per_user(ratings_json)"
   ]
  },
  {
   "attachments": {},
   "cell_type": "markdown",
   "metadata": {},
   "source": [
    "### Filter ratings based on movies"
   ]
  },
  {
   "attachments": {},
   "cell_type": "markdown",
   "metadata": {},
   "source": [
    "I will find the average ratings per movie, and observe how the size of the dataset changes if I keep only the movies that have more ratings than a specific threshold"
   ]
  },
  {
   "cell_type": "code",
   "execution_count": 9,
   "metadata": {},
   "outputs": [],
   "source": [
    "rated_movies_ids = set([\n",
    "    rating[\"movieId\"]\n",
    "    for rating in ratings_json\n",
    "])"
   ]
  },
  {
   "cell_type": "code",
   "execution_count": 10,
   "metadata": {},
   "outputs": [
    {
     "data": {
      "text/plain": [
       "9066"
      ]
     },
     "execution_count": 10,
     "metadata": {},
     "output_type": "execute_result"
    }
   ],
   "source": [
    "len(rated_movies_ids)"
   ]
  },
  {
   "cell_type": "code",
   "execution_count": 11,
   "metadata": {},
   "outputs": [],
   "source": [
    "ratings_per_movie = defaultdict(list)\n",
    "for rating in ratings_json:\n",
    "    ratings_per_movie[rating[\"movieId\"]].append(rating)"
   ]
  },
  {
   "cell_type": "code",
   "execution_count": 12,
   "metadata": {},
   "outputs": [],
   "source": [
    "ratings_per_movie_count = { movieId: len(ratings) for movieId, ratings in ratings_per_movie.items() }"
   ]
  },
  {
   "cell_type": "code",
   "execution_count": 13,
   "metadata": {},
   "outputs": [
    {
     "data": {
      "text/plain": [
       "11.030664019413193"
      ]
     },
     "execution_count": 13,
     "metadata": {},
     "output_type": "execute_result"
    }
   ],
   "source": [
    "avg_ratings_count = mean(ratings_per_movie_count.values())\n",
    "avg_ratings_count"
   ]
  },
  {
   "cell_type": "code",
   "execution_count": 18,
   "metadata": {},
   "outputs": [],
   "source": [
    "def count_movies_ratings_by_threshold(multiplier):\n",
    "    threshold = avg_ratings_count * multiplier\n",
    "    very_rated_movies = set(\n",
    "        [movieId for movieId, ratings in ratings_per_movie_count.items() if ratings >= threshold])\n",
    "    little_rated_movies = set(\n",
    "        [movieId for movieId, ratings in ratings_per_movie_count.items() if ratings < threshold])\n",
    "    ratings_on_very_rated_movies = [\n",
    "        rating for rating in ratings_json if rating[\"movieId\"] in very_rated_movies]\n",
    "    ratings_on_little_rated_movies = [\n",
    "        rating for rating in ratings_json if rating[\"movieId\"] in little_rated_movies]\n",
    "    return [multiplier, threshold, len(very_rated_movies), len(little_rated_movies), len(ratings_on_very_rated_movies), len(ratings_on_little_rated_movies)]\n"
   ]
  },
  {
   "cell_type": "code",
   "execution_count": 20,
   "metadata": {},
   "outputs": [
    {
     "name": "stdout",
     "output_type": "stream",
     "text": [
      "Multipler: 0.1\n",
      "Multipler: 0.2\n",
      "Multipler: 0.3\n",
      "Multipler: 0.4\n",
      "Multipler: 0.5\n",
      "Multipler: 0.6\n",
      "Multipler: 0.7\n",
      "Multipler: 0.8\n",
      "Multipler: 0.9\n",
      "Multipler: 1.0\n",
      "Multipler: 1.1\n",
      "Multipler: 1.2\n",
      "Multipler: 1.3\n",
      "Multipler: 1.4\n",
      "Multipler: 1.5\n",
      "Multipler: 1.6\n",
      "Multipler: 1.7\n",
      "Multipler: 1.8\n",
      "Multipler: 1.9\n",
      "Multipler: 2.0\n",
      "Multipler: 2.1\n",
      "Multipler: 2.2\n",
      "Multipler: 2.3\n",
      "Multipler: 2.4\n",
      "Multipler: 2.5\n",
      "Multipler: 2.6\n",
      "Multipler: 2.7\n",
      "Multipler: 2.8\n",
      "Multipler: 2.9\n",
      "Multipler: 3.0\n",
      "Multipler: 3.1\n",
      "Multipler: 3.2\n",
      "Multipler: 3.3\n",
      "Multipler: 3.4\n",
      "Multipler: 3.5\n",
      "Multipler: 3.6\n",
      "Multipler: 3.7\n",
      "Multipler: 3.8\n",
      "Multipler: 3.9\n",
      "OK\n",
      "|     |          |   High Movies |   Low movies |   Ratings on High |   Ratings on Low |\n",
      "|-----|----------|---------------|--------------|-------------------|------------------|\n",
      "| 0.1 |  1.10307 |          6003 |         3063 |             96941 |             3063 |\n",
      "| 0.2 |  2.20613 |          4801 |         4265 |             94537 |             5467 |\n",
      "| 0.3 |  3.3092  |          4046 |         5020 |             92272 |             7732 |\n",
      "| 0.4 |  4.41227 |          3496 |         5570 |             90072 |             9932 |\n",
      "| 0.5 |  5.51533 |          3099 |         5967 |             88087 |            11917 |\n",
      "| 0.6 |  6.6184  |          2794 |         6272 |             86257 |            13747 |\n",
      "| 0.7 |  7.72146 |          2588 |         6478 |             84815 |            15189 |\n",
      "| 0.8 |  8.82453 |          2401 |         6665 |             83319 |            16685 |\n",
      "| 0.9 |  9.9276  |          2245 |         6821 |             81915 |            18089 |\n",
      "| 1   | 11.0307  |          1950 |         7116 |             78832 |            21172 |\n",
      "| 1.1 | 12.1337  |          1849 |         7217 |             77620 |            22384 |\n",
      "| 1.2 | 13.2368  |          1737 |         7329 |             76164 |            23840 |\n",
      "| 1.3 | 14.3399  |          1639 |         7427 |             74792 |            25212 |\n",
      "| 1.4 | 15.4429  |          1566 |         7500 |             73697 |            26307 |\n",
      "| 1.5 | 16.546   |          1498 |         7568 |             72609 |            27395 |\n",
      "| 1.6 | 17.6491  |          1428 |         7638 |             71419 |            28585 |\n",
      "| 1.7 | 18.7521  |          1368 |         7698 |             70339 |            29665 |\n",
      "| 1.8 | 19.8552  |          1303 |         7763 |             69104 |            30900 |\n",
      "| 1.9 | 20.9583  |          1247 |         7819 |             67984 |            32020 |\n",
      "| 2   | 22.0613  |          1120 |         7946 |             65252 |            34752 |\n",
      "| 2.1 | 23.1644  |          1066 |         8000 |             64010 |            35994 |\n",
      "| 2.2 | 24.2675  |          1029 |         8037 |             63122 |            36882 |\n",
      "| 2.3 | 25.3705  |           995 |         8071 |             62272 |            37732 |\n",
      "| 2.4 | 26.4736  |           950 |         8116 |             61102 |            38902 |\n",
      "| 2.5 | 27.5767  |           916 |         8150 |             60184 |            39820 |\n",
      "| 2.6 | 28.6797  |           883 |         8183 |             59260 |            40744 |\n",
      "| 2.7 | 29.7828  |           848 |         8218 |             58245 |            41759 |\n",
      "| 2.8 | 30.8859  |           821 |         8245 |             57435 |            42569 |\n",
      "| 2.9 | 31.9889  |           789 |         8277 |             56443 |            43561 |\n",
      "| 3   | 33.092   |           742 |         8324 |             54916 |            45088 |\n",
      "| 3.1 | 34.1951  |           722 |         8344 |             54236 |            45768 |\n",
      "| 3.2 | 35.2981  |           696 |         8370 |             53326 |            46678 |\n",
      "| 3.3 | 36.4012  |           679 |         8387 |             52714 |            47290 |\n",
      "| 3.4 | 37.5043  |           654 |         8412 |             51789 |            48215 |\n",
      "| 3.5 | 38.6073  |           634 |         8432 |             51029 |            48975 |\n",
      "| 3.6 | 39.7104  |           616 |         8450 |             50327 |            49677 |\n",
      "| 3.7 | 40.8135  |           596 |         8470 |             49527 |            50477 |\n",
      "| 3.8 | 41.9165  |           588 |         8478 |             49199 |            50805 |\n",
      "| 3.9 | 43.0196  |           549 |         8517 |             47544 |            52460 |\n"
     ]
    }
   ],
   "source": [
    "results = []\n",
    "for i in range(1, 40):\n",
    "    print(\"Multipler:\", i/10)\n",
    "    results.append(count_movies_ratings_by_threshold(i/10))\n",
    "print(\"OK\")\n",
    "print(tabulate(results, headers=[\"High Movies\", \"Low movies\", \"Ratings on High\", \"Ratings on Low\"], tablefmt=\"github\"))"
   ]
  },
  {
   "attachments": {},
   "cell_type": "markdown",
   "metadata": {},
   "source": [
    "### Filter ratings based on users"
   ]
  },
  {
   "attachments": {},
   "cell_type": "markdown",
   "metadata": {},
   "source": [
    "I will find the average ratings per user, and observe how the size of the dataset changes if I keep only the users that have more ratings than a specific threshold"
   ]
  },
  {
   "cell_type": "code",
   "execution_count": 21,
   "metadata": {},
   "outputs": [],
   "source": [
    "users_ids = set([\n",
    "    rating[\"userId\"]\n",
    "    for rating in ratings_json\n",
    "])"
   ]
  },
  {
   "cell_type": "code",
   "execution_count": 22,
   "metadata": {},
   "outputs": [
    {
     "data": {
      "text/plain": [
       "671"
      ]
     },
     "execution_count": 22,
     "metadata": {},
     "output_type": "execute_result"
    }
   ],
   "source": [
    "len(users_ids)"
   ]
  },
  {
   "cell_type": "code",
   "execution_count": 23,
   "metadata": {},
   "outputs": [],
   "source": [
    "ratings_per_user = defaultdict(list)\n",
    "for rating in ratings_json:\n",
    "    ratings_per_user[rating[\"userId\"]].append(rating)"
   ]
  },
  {
   "cell_type": "code",
   "execution_count": 24,
   "metadata": {},
   "outputs": [],
   "source": [
    "ratings_per_user_count = { userId: len(ratings) for userId, ratings in ratings_per_user.items() }"
   ]
  },
  {
   "cell_type": "code",
   "execution_count": 25,
   "metadata": {},
   "outputs": [
    {
     "data": {
      "text/plain": [
       "149.03725782414307"
      ]
     },
     "execution_count": 25,
     "metadata": {},
     "output_type": "execute_result"
    }
   ],
   "source": [
    "avg_ratings_count = mean(ratings_per_user_count.values())\n",
    "avg_ratings_count"
   ]
  },
  {
   "cell_type": "code",
   "execution_count": 26,
   "metadata": {},
   "outputs": [],
   "source": [
    "def count_users_ratings_by_threshold(multiplier):\n",
    "    threshold = avg_ratings_count * multiplier\n",
    "    very_active_users = set(\n",
    "        [userId for userId, ratings in ratings_per_user_count.items() if ratings >= threshold])\n",
    "    little_active_users = set(\n",
    "        [userId for userId, ratings in ratings_per_user_count.items() if ratings < threshold])\n",
    "    ratings_of_very_active_users = [\n",
    "        rating for rating in ratings_json if rating[\"userId\"] in very_active_users]\n",
    "    ratings_of_little_active_users = [\n",
    "        rating for rating in ratings_json if rating[\"userId\"] in little_active_users]\n",
    "    return [multiplier, threshold, len(very_active_users), len(little_active_users), len(ratings_of_very_active_users), len(ratings_of_little_active_users)]\n"
   ]
  },
  {
   "cell_type": "code",
   "execution_count": 27,
   "metadata": {},
   "outputs": [
    {
     "name": "stdout",
     "output_type": "stream",
     "text": [
      "Multipler: 0.1\n",
      "Multipler: 0.2\n",
      "Multipler: 0.3\n",
      "Multipler: 0.4\n",
      "Multipler: 0.5\n",
      "Multipler: 0.6\n",
      "Multipler: 0.7\n",
      "Multipler: 0.8\n",
      "Multipler: 0.9\n",
      "Multipler: 1.0\n",
      "Multipler: 1.1\n",
      "Multipler: 1.2\n",
      "Multipler: 1.3\n",
      "Multipler: 1.4\n",
      "Multipler: 1.5\n",
      "Multipler: 1.6\n",
      "Multipler: 1.7\n",
      "Multipler: 1.8\n",
      "Multipler: 1.9\n",
      "Multipler: 2.0\n",
      "Multipler: 2.1\n",
      "Multipler: 2.2\n",
      "Multipler: 2.3\n",
      "Multipler: 2.4\n",
      "Multipler: 2.5\n",
      "Multipler: 2.6\n",
      "Multipler: 2.7\n",
      "Multipler: 2.8\n",
      "Multipler: 2.9\n",
      "Multipler: 3.0\n",
      "Multipler: 3.1\n",
      "Multipler: 3.2\n",
      "Multipler: 3.3\n",
      "Multipler: 3.4\n",
      "Multipler: 3.5\n",
      "Multipler: 3.6\n",
      "Multipler: 3.7\n",
      "Multipler: 3.8\n",
      "Multipler: 3.9\n",
      "OK\n",
      "|     |          |   Active Users |   Low Users |   Ratings of Active |   Ratings of Low |\n",
      "|-----|----------|----------------|-------------|---------------------|------------------|\n",
      "| 0.1 |  14.9037 |            671 |           0 |              100004 |                0 |\n",
      "| 0.2 |  29.8075 |            553 |         118 |               97264 |             2740 |\n",
      "| 0.3 |  44.7112 |            450 |         221 |               93499 |             6505 |\n",
      "| 0.4 |  59.6149 |            375 |         296 |               89621 |            10383 |\n",
      "| 0.5 |  74.5186 |            326 |         345 |               86364 |            13640 |\n",
      "| 0.6 |  89.4224 |            283 |         388 |               82893 |            17111 |\n",
      "| 0.7 | 104.326  |            253 |         418 |               79970 |            20034 |\n",
      "| 0.8 | 119.23   |            228 |         443 |               77170 |            22834 |\n",
      "| 0.9 | 134.134  |            204 |         467 |               74137 |            25867 |\n",
      "| 1   | 149.037  |            182 |         489 |               71046 |            28958 |\n",
      "| 1.1 | 163.941  |            163 |         508 |               68068 |            31936 |\n",
      "| 1.2 | 178.845  |            152 |         519 |               66186 |            33818 |\n",
      "| 1.3 | 193.748  |            141 |         530 |               64105 |            35899 |\n",
      "| 1.4 | 208.652  |            127 |         544 |               61285 |            38719 |\n",
      "| 1.5 | 223.556  |            113 |         558 |               58253 |            41751 |\n",
      "| 1.6 | 238.46   |            106 |         565 |               56654 |            43350 |\n",
      "| 1.7 | 253.363  |            102 |         569 |               55649 |            44355 |\n",
      "| 1.8 | 268.267  |             92 |         579 |               53048 |            46956 |\n",
      "| 1.9 | 283.171  |             89 |         582 |               52212 |            47792 |\n",
      "| 2   | 298.075  |             81 |         590 |               49893 |            50111 |\n",
      "| 2.1 | 312.978  |             71 |         600 |               46839 |            53165 |\n",
      "| 2.2 | 327.882  |             64 |         607 |               44595 |            55409 |\n",
      "| 2.3 | 342.786  |             61 |         610 |               43583 |            56421 |\n",
      "| 2.4 | 357.689  |             60 |         611 |               43236 |            56768 |\n",
      "| 2.5 | 372.593  |             58 |         613 |               42506 |            57498 |\n",
      "| 2.6 | 387.497  |             54 |         617 |               40992 |            59012 |\n",
      "| 2.7 | 402.401  |             51 |         620 |               39798 |            60206 |\n",
      "| 2.8 | 417.304  |             49 |         622 |               38973 |            61031 |\n",
      "| 2.9 | 432.208  |             45 |         626 |               37279 |            62725 |\n",
      "| 3   | 447.112  |             42 |         629 |               35972 |            64032 |\n",
      "| 3.1 | 462.015  |             42 |         629 |               35972 |            64032 |\n",
      "| 3.2 | 476.919  |             42 |         629 |               35972 |            64032 |\n",
      "| 3.3 | 491.823  |             37 |         634 |               33545 |            66459 |\n",
      "| 3.4 | 506.727  |             36 |         635 |               33041 |            66963 |\n",
      "| 3.5 | 521.63   |             33 |         638 |               31488 |            68516 |\n",
      "| 3.6 | 536.534  |             31 |         640 |               30441 |            69563 |\n",
      "| 3.7 | 551.438  |             30 |         641 |               29894 |            70110 |\n",
      "| 3.8 | 566.342  |             30 |         641 |               29894 |            70110 |\n",
      "| 3.9 | 581.245  |             30 |         641 |               29894 |            70110 |\n"
     ]
    }
   ],
   "source": [
    "results = []\n",
    "for i in range(1, 40):\n",
    "    print(\"Multipler:\", i/10)\n",
    "    results.append(count_users_ratings_by_threshold(i/10))\n",
    "print(\"OK\")\n",
    "print(tabulate(results, headers=[\"Active Users\", \"Low Users\", \"Ratings of Active\", \"Ratings of Low\"], tablefmt=\"github\"))"
   ]
  },
  {
   "cell_type": "code",
   "execution_count": null,
   "metadata": {},
   "outputs": [],
   "source": []
  }
 ],
 "metadata": {
  "kernelspec": {
   "display_name": "environ",
   "language": "python",
   "name": "python3"
  },
  "language_info": {
   "codemirror_mode": {
    "name": "ipython",
    "version": 3
   },
   "file_extension": ".py",
   "mimetype": "text/x-python",
   "name": "python",
   "nbconvert_exporter": "python",
   "pygments_lexer": "ipython3",
   "version": "3.9.6"
  },
  "orig_nbformat": 4,
  "vscode": {
   "interpreter": {
    "hash": "acbc58aadc5672afc04cc91f2a1726d8eb7b999e15e50d024070fdc74729208f"
   }
  }
 },
 "nbformat": 4,
 "nbformat_minor": 2
}
