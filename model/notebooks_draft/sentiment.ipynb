{
 "cells": [
  {
   "cell_type": "markdown",
   "metadata": {},
   "source": [
    "#### Sentiment analysis on tags"
   ]
  },
  {
   "cell_type": "markdown",
   "metadata": {},
   "source": [
    "I will use the pre-trained model `vaderSentiment`, which comes as a simple pip module"
   ]
  },
  {
   "cell_type": "markdown",
   "metadata": {},
   "source": [
    "##### Installations"
   ]
  },
  {
   "cell_type": "code",
   "execution_count": 2,
   "metadata": {},
   "outputs": [
    {
     "name": "stdout",
     "output_type": "stream",
     "text": [
      "Collecting vaderSentiment\n",
      "  Downloading vaderSentiment-3.3.2-py2.py3-none-any.whl (125 kB)\n",
      "     ------------------------------------ 126.0/126.0 KB 462.8 kB/s eta 0:00:00\n",
      "Requirement already satisfied: requests in c:\\users\\giannisathanasiou\\desktop\\diploma\\repo\\diploma\\environ\\lib\\site-packages (from vaderSentiment) (2.28.0)\n",
      "Requirement already satisfied: certifi>=2017.4.17 in c:\\users\\giannisathanasiou\\desktop\\diploma\\repo\\diploma\\environ\\lib\\site-packages (from requests->vaderSentiment) (2021.10.8)\n",
      "Requirement already satisfied: charset-normalizer~=2.0.0 in c:\\users\\giannisathanasiou\\desktop\\diploma\\repo\\diploma\\environ\\lib\\site-packages (from requests->vaderSentiment) (2.0.12)\n",
      "Requirement already satisfied: urllib3<1.27,>=1.21.1 in c:\\users\\giannisathanasiou\\desktop\\diploma\\repo\\diploma\\environ\\lib\\site-packages (from requests->vaderSentiment) (1.26.9)\n",
      "Requirement already satisfied: idna<4,>=2.5 in c:\\users\\giannisathanasiou\\desktop\\diploma\\repo\\diploma\\environ\\lib\\site-packages (from requests->vaderSentiment) (3.3)\n",
      "Installing collected packages: vaderSentiment\n",
      "Successfully installed vaderSentiment-3.3.2\n",
      "Note: you may need to restart the kernel to use updated packages.\n"
     ]
    },
    {
     "name": "stderr",
     "output_type": "stream",
     "text": [
      "WARNING: You are using pip version 22.0.4; however, version 22.1.2 is available.\n",
      "You should consider upgrading via the 'c:\\Users\\GiannisAthanasiou\\Desktop\\diploma\\repo\\diploma\\environ\\Scripts\\python.exe -m pip install --upgrade pip' command.\n"
     ]
    }
   ],
   "source": [
    "%pip install vaderSentiment\n"
   ]
  },
  {
   "cell_type": "code",
   "execution_count": 8,
   "metadata": {},
   "outputs": [],
   "source": [
    "# original code from https://towardsdatascience.com/the-most-favorable-pre-trained-sentiment-classifiers-in-python-9107c06442c6\n",
    "\n",
    "# import the library\n",
    "from vaderSentiment.vaderSentiment import SentimentIntensityAnalyzer\n",
    "\n",
    "# calculate the negative, positive, neutral and compound scores, plus verbal evaluation\n",
    "def sentiment_vader(sentence):\n",
    "\n",
    "    # Create a SentimentIntensityAnalyzer object.\n",
    "    sid_obj = SentimentIntensityAnalyzer()\n",
    "\n",
    "    sentiment_dict = sid_obj.polarity_scores(sentence)\n",
    "    negative = sentiment_dict['neg']\n",
    "    neutral = sentiment_dict['neu']\n",
    "    positive = sentiment_dict['pos']\n",
    "    compound = sentiment_dict['compound']\n",
    "\n",
    "    if sentiment_dict['compound'] >= 0.05 :\n",
    "        overall_sentiment = \"Positive\"\n",
    "\n",
    "    elif sentiment_dict['compound'] <= - 0.05 :\n",
    "        overall_sentiment = \"Negative\"\n",
    "\n",
    "    else :\n",
    "        overall_sentiment = \"Neutral\"\n",
    "  \n",
    "    return {\n",
    "        \"negative\": negative,\n",
    "        \"neutral\": neutral,\n",
    "        \"positive\": positive,\n",
    "        \"compound\": compound,\n",
    "        \"overall\": overall_sentiment,\n",
    "    }"
   ]
  },
  {
   "cell_type": "markdown",
   "metadata": {},
   "source": [
    "##### Let's try the analysis on the tags of the MovieLens dataset"
   ]
  },
  {
   "cell_type": "code",
   "execution_count": 43,
   "metadata": {},
   "outputs": [],
   "source": [
    "from py2neo import Graph\n",
    "import os\n",
    "from os.path import join\n",
    "import pathlib\n",
    "import pandas as pd\n",
    "from collections import defaultdict"
   ]
  },
  {
   "cell_type": "code",
   "execution_count": 37,
   "metadata": {},
   "outputs": [],
   "source": [
    "graph = Graph(\n",
    "    \"bolt://localhost:11005\",\n",
    "    auth=(\"neo4j\", \"admin\"),\n",
    ")"
   ]
  },
  {
   "cell_type": "code",
   "execution_count": 41,
   "metadata": {},
   "outputs": [
    {
     "name": "stdout",
     "output_type": "stream",
     "text": [
      "Reading from: c:\\Users\\GiannisAthanasiou\\Desktop\\diploma\\repo\\diploma\\movies_db\\data\\tags.csv\n"
     ]
    }
   ],
   "source": [
    "def read_csv(filename: str):\n",
    "    db_directory_path = pathlib.Path(os.getcwd()).parent.absolute()\n",
    "    data_directory_path = join(db_directory_path, \"data\")\n",
    "    file_path = join(data_directory_path, f\"{filename}.csv\")\n",
    "    print(\"Reading from:\", file_path)\n",
    "    df = pd.read_csv(file_path)\n",
    "    return df\n",
    "\n",
    "def df_to_json(df):\n",
    "    return df.to_dict(\"records\")\n",
    "\n",
    "tags_df = read_csv(\"tags\")\n",
    "tags = df_to_json(tags_df)"
   ]
  },
  {
   "cell_type": "code",
   "execution_count": 47,
   "metadata": {},
   "outputs": [
    {
     "name": "stdout",
     "output_type": "stream",
     "text": [
      "defaultdict(<class 'int'>, {'Neutral': 6974, 'Positive': 1906, 'Negative': 1120})\n"
     ]
    }
   ],
   "source": [
    "counters = defaultdict(int)\n",
    "\n",
    "for tag in tags[:10000]:\n",
    "    overall = sentiment_vader(tag[\"tag\"])[\"overall\"]\n",
    "    counters[overall] += 1\n",
    "\n",
    "print(counters)"
   ]
  },
  {
   "cell_type": "code",
   "execution_count": null,
   "metadata": {},
   "outputs": [],
   "source": []
  }
 ],
 "metadata": {
  "kernelspec": {
   "display_name": "Python 3.10.5 ('environ': venv)",
   "language": "python",
   "name": "python3"
  },
  "language_info": {
   "codemirror_mode": {
    "name": "ipython",
    "version": 3
   },
   "file_extension": ".py",
   "mimetype": "text/x-python",
   "name": "python",
   "nbconvert_exporter": "python",
   "pygments_lexer": "ipython3",
   "version": "3.10.5"
  },
  "orig_nbformat": 4,
  "vscode": {
   "interpreter": {
    "hash": "30f2f1cc4e8893d79f67050195b6a4f8b5eb4fae2ee540a87781398e7c71c355"
   }
  }
 },
 "nbformat": 4,
 "nbformat_minor": 2
}
