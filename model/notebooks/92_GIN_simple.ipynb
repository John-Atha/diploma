{
  "cells": [
    {
      "cell_type": "code",
      "execution_count": 1,
      "metadata": {
        "colab": {
          "base_uri": "https://localhost:8080/",
          "height": 532
        },
        "id": "o4RC7B4fvU0W",
        "outputId": "971fb1f3-7ea7-49ef-99d4-bcfdf9a78227"
      },
      "outputs": [
        {
          "name": "stderr",
          "output_type": "stream",
          "text": [
            "/Users/ioannisathanasiou/diploma/environ/lib/python3.9/site-packages/tqdm/auto.py:22: TqdmWarning: IProgress not found. Please update jupyter and ipywidgets. See https://ipywidgets.readthedocs.io/en/stable/user_install.html\n",
            "  from .autonotebook import tqdm as notebook_tqdm\n"
          ]
        }
      ],
      "source": [
        "import argparse\n",
        "import os.path as osp\n",
        "\n",
        "import torch\n",
        "import torch.nn.functional as F\n",
        "from torch.nn import Linear, LazyLinear, Sequential, BatchNorm1d, ReLU\n",
        "\n",
        "import torch_geometric.transforms as T\n",
        "from torch_geometric.datasets import MovieLens\n",
        "from torch_geometric.nn import SAGEConv, to_hetero, GINConv"
      ]
    },
    {
      "cell_type": "code",
      "execution_count": 2,
      "metadata": {
        "id": "XlC-vVK3vhrL"
      },
      "outputs": [],
      "source": [
        "device = torch.device('cuda' if torch.cuda.is_available() else 'cpu')"
      ]
    },
    {
      "cell_type": "code",
      "execution_count": 3,
      "metadata": {
        "id": "-xebyZVZvoDK"
      },
      "outputs": [],
      "source": [
        "path = '../../data/MovieLensLALA'\n",
        "dataset = MovieLens(path, model_name='all-MiniLM-L6-v2')\n",
        "data = dataset[0].to(device)\n",
        "\n",
        "# Add user node features for message passing:\n",
        "data['user'].x = torch.eye(data['user'].num_nodes, device=device)\n",
        "del data['user'].num_nodes\n",
        "\n",
        "# Add a reverse ('movie', 'rev_rates', 'user') relation for message passing:\n",
        "data = T.ToUndirected()(data)\n",
        "del data['movie', 'rev_rates', 'user'].edge_label  # Remove \"reverse\" label.\n"
      ]
    },
    {
      "cell_type": "code",
      "execution_count": 4,
      "metadata": {
        "id": "F4nbfMsowDgD"
      },
      "outputs": [],
      "source": [
        "# Perform a link-level split into training, validation, and test edges:\n",
        "train_data, val_data, test_data = T.RandomLinkSplit(\n",
        "    num_val=0.1,\n",
        "    num_test=0.1,\n",
        "    neg_sampling_ratio=0.0,\n",
        "    edge_types=[('user', 'rates', 'movie')],\n",
        "    rev_edge_types=[('movie', 'rev_rates', 'user')],\n",
        ")(data)\n",
        "\n",
        "# We have an unbalanced dataset with many labels for rating 3 and 4, and very\n",
        "# few for 0 and 1. Therefore we use a weighted MSE loss.\n",
        "weight = torch.bincount(train_data['user', 'movie'].edge_label)\n",
        "weight = weight.max() / weight\n",
        "\n",
        "\n",
        "def weighted_mse_loss(pred, target, weight=None):\n",
        "    weight = 1. if weight is None else weight[target].to(pred.dtype)\n",
        "    return (weight * (pred - target.to(pred.dtype)).pow(2)).mean()"
      ]
    },
    {
      "cell_type": "code",
      "execution_count": 5,
      "metadata": {},
      "outputs": [],
      "source": [
        "from torch_geometric.nn.aggr import MultiAggregation\n",
        "\n",
        "class GNNEncoder(torch.nn.Module):\n",
        "    def __init__(self, hidden_channels, out_channels):\n",
        "        super().__init__()\n",
        "        \n",
        "        self.conv1 = SAGEConv(-1, hidden_channels, aggr=\"mean\")\n",
        "\n",
        "        self.conv2 = GINConv(\n",
        "            Sequential(\n",
        "                Linear(hidden_channels, hidden_channels),\n",
        "                BatchNorm1d(hidden_channels),\n",
        "                ReLU(),\n",
        "                Linear(hidden_channels, hidden_channels),\n",
        "                ReLU(),\n",
        "            )\n",
        "        )\n",
        "\n",
        "        self.conv2 = GINConv(\n",
        "            Sequential(\n",
        "                Linear(hidden_channels, hidden_channels),\n",
        "                BatchNorm1d(hidden_channels),\n",
        "                ReLU(),\n",
        "                Linear(hidden_channels, hidden_channels),\n",
        "                ReLU(),\n",
        "            )\n",
        "        )\n",
        "\n",
        "        self.conv3 = GINConv(\n",
        "            Sequential(\n",
        "                Linear(hidden_channels, hidden_channels),\n",
        "                BatchNorm1d(hidden_channels),\n",
        "                ReLU(),\n",
        "                Linear(hidden_channels, out_channels),\n",
        "                ReLU(),\n",
        "            )\n",
        "        )\n",
        "\n",
        "    def forward(self, x, edge_index):\n",
        "        # x = self.lin1(x).relu()\n",
        "        x = self.conv1(x, edge_index).relu()\n",
        "        x = self.conv2(x, edge_index).relu()\n",
        "        x = self.conv3(x, edge_index)\n",
        "        return x\n",
        "\n",
        "class EdgeDecoder(torch.nn.Module):\n",
        "    def __init__(self, hidden_channels):\n",
        "        super().__init__()\n",
        "        self.lin1 = Linear(2 * hidden_channels, hidden_channels)\n",
        "        self.lin2 = Linear(hidden_channels, 1)\n",
        "\n",
        "    def forward(self, z_dict, edge_label_index):\n",
        "        row, col = edge_label_index\n",
        "        z = torch.cat([z_dict['user'][row], z_dict['movie'][col]], dim=-1)\n",
        "        z = self.lin1(z).relu()\n",
        "        z = self.lin2(z)\n",
        "        return z.view(-1)\n",
        "\n",
        "class Model(torch.nn.Module):\n",
        "    def __init__(self, hidden_channels):\n",
        "        super().__init__()\n",
        "        self.encoder = GNNEncoder(hidden_channels, hidden_channels)\n",
        "        self.encoder = to_hetero(self.encoder, data.metadata())\n",
        "        self.decoder = EdgeDecoder(hidden_channels)\n",
        "\n",
        "    def forward(self, x_dict, edge_index_dict, edge_label_index):\n",
        "        z_dict = self.encoder(x_dict, edge_index_dict)\n",
        "        return self.decoder(z_dict, edge_label_index)"
      ]
    },
    {
      "cell_type": "code",
      "execution_count": 6,
      "metadata": {
        "id": "DQtySIigvPIP"
      },
      "outputs": [
        {
          "name": "stdout",
          "output_type": "stream",
          "text": [
            "Epoch: 001, Loss: 22.0467, Train: 1.7619, Val: 1.7428, Test: 1.7972\n",
            "Epoch: 002, Loss: 16.7521, Train: 1.9520, Val: 1.9425, Test: 1.9443\n",
            "Epoch: 003, Loss: 12.1212, Train: 1.9608, Val: 1.9536, Test: 1.9486\n",
            "Epoch: 004, Loss: 8.6895, Train: 1.9706, Val: 1.9641, Test: 1.9542\n",
            "Epoch: 005, Loss: 9.4118, Train: 1.9710, Val: 1.9644, Test: 1.9549\n",
            "Epoch: 006, Loss: 9.5469, Train: 1.9644, Val: 1.9574, Test: 1.9501\n",
            "Epoch: 007, Loss: 7.8694, Train: 1.9492, Val: 1.9402, Test: 1.9424\n",
            "Epoch: 008, Loss: 7.3859, Train: 1.9247, Val: 1.9157, Test: 1.9290\n",
            "Epoch: 009, Loss: 7.1268, Train: 1.8986, Val: 1.8883, Test: 1.9110\n",
            "Epoch: 010, Loss: 7.1355, Train: 1.8838, Val: 1.8711, Test: 1.9012\n",
            "Epoch: 011, Loss: 6.9914, Train: 1.8747, Val: 1.8612, Test: 1.8963\n",
            "Epoch: 012, Loss: 6.8267, Train: 1.8585, Val: 1.8469, Test: 1.8880\n",
            "Epoch: 013, Loss: 6.7461, Train: 1.8299, Val: 1.8198, Test: 1.8715\n",
            "Epoch: 014, Loss: 6.7120, Train: 1.8034, Val: 1.7978, Test: 1.8590\n",
            "Epoch: 015, Loss: 6.7290, Train: 1.7335, Val: 1.7334, Test: 1.8216\n",
            "Epoch: 016, Loss: 6.6138, Train: 1.6972, Val: 1.7014, Test: 1.8042\n",
            "Epoch: 017, Loss: 6.5996, Train: 1.7157, Val: 1.7194, Test: 1.8153\n",
            "Epoch: 018, Loss: 6.3922, Train: 1.7551, Val: 1.7548, Test: 1.8373\n",
            "Epoch: 019, Loss: 7.1588, Train: 1.5886, Val: 1.5918, Test: 1.7233\n",
            "Epoch: 020, Loss: 6.1572, Train: 1.5376, Val: 1.5416, Test: 1.6663\n",
            "Epoch: 021, Loss: 6.4343, Train: 1.5146, Val: 1.5152, Test: 1.6296\n",
            "Epoch: 022, Loss: 6.3917, Train: 1.5193, Val: 1.5118, Test: 1.6548\n",
            "Epoch: 023, Loss: 5.9032, Train: 1.6162, Val: 1.6002, Test: 1.7393\n",
            "Epoch: 024, Loss: 6.1812, Train: 1.5865, Val: 1.5728, Test: 1.7233\n",
            "Epoch: 025, Loss: 6.0794, Train: 1.4592, Val: 1.4574, Test: 1.6014\n",
            "Epoch: 026, Loss: 5.8301, Train: 1.4207, Val: 1.4250, Test: 1.5342\n",
            "Epoch: 027, Loss: 5.8388, Train: 1.3795, Val: 1.3825, Test: 1.5014\n",
            "Epoch: 028, Loss: 5.6803, Train: 1.3961, Val: 1.3841, Test: 1.5481\n",
            "Epoch: 029, Loss: 6.0159, Train: 1.3890, Val: 1.3992, Test: 1.4330\n",
            "Epoch: 030, Loss: 5.7334, Train: 1.4452, Val: 1.4567, Test: 1.4254\n",
            "Epoch: 031, Loss: 5.8528, Train: 1.4219, Val: 1.4327, Test: 1.4205\n",
            "Epoch: 032, Loss: 5.7979, Train: 1.3722, Val: 1.3811, Test: 1.4268\n",
            "Epoch: 033, Loss: 5.7628, Train: 1.3394, Val: 1.3467, Test: 1.4367\n",
            "Epoch: 034, Loss: 5.7370, Train: 1.3139, Val: 1.3238, Test: 1.4047\n",
            "Epoch: 035, Loss: 5.6686, Train: 1.2941, Val: 1.3058, Test: 1.3660\n",
            "Epoch: 036, Loss: 5.6027, Train: 1.2997, Val: 1.3137, Test: 1.3181\n",
            "Epoch: 037, Loss: 5.5863, Train: 1.3688, Val: 1.3844, Test: 1.2834\n",
            "Epoch: 038, Loss: 5.5284, Train: 1.3835, Val: 1.3993, Test: 1.2686\n",
            "Epoch: 039, Loss: 5.5172, Train: 1.2698, Val: 1.2844, Test: 1.2654\n",
            "Epoch: 040, Loss: 5.4496, Train: 1.2546, Val: 1.2621, Test: 1.3660\n",
            "Epoch: 041, Loss: 5.4906, Train: 1.2602, Val: 1.2756, Test: 1.2748\n",
            "Epoch: 042, Loss: 5.4011, Train: 1.2690, Val: 1.2867, Test: 1.2651\n",
            "Epoch: 043, Loss: 5.4151, Train: 1.2373, Val: 1.2528, Test: 1.3139\n",
            "Epoch: 044, Loss: 5.3410, Train: 1.3133, Val: 1.3142, Test: 1.4407\n",
            "Epoch: 045, Loss: 5.3582, Train: 1.2585, Val: 1.2662, Test: 1.3785\n",
            "Epoch: 046, Loss: 5.3031, Train: 1.2329, Val: 1.2513, Test: 1.2413\n",
            "Epoch: 047, Loss: 5.2594, Train: 1.2491, Val: 1.2693, Test: 1.2196\n",
            "Epoch: 048, Loss: 5.2426, Train: 1.2449, Val: 1.2673, Test: 1.2322\n",
            "Epoch: 049, Loss: 5.2225, Train: 1.2349, Val: 1.2552, Test: 1.2718\n"
          ]
        }
      ],
      "source": [
        "model = Model(hidden_channels=32).to(device)\n",
        "\n",
        "# Due to lazy initialization, we need to run one model step so the number\n",
        "# of parameters can be inferred:\n",
        "with torch.no_grad():\n",
        "    model.encoder(train_data.x_dict, train_data.edge_index_dict)\n",
        "\n",
        "optimizer = torch.optim.Adam(model.parameters(), lr=0.01)\n",
        "\n",
        "def train():\n",
        "    model.train()\n",
        "    optimizer.zero_grad()\n",
        "    pred = model(train_data.x_dict, train_data.edge_index_dict,\n",
        "                 train_data['user', 'movie'].edge_label_index)\n",
        "    target = train_data['user', 'movie'].edge_label\n",
        "    loss = weighted_mse_loss(pred, target, weight)\n",
        "    loss.backward()\n",
        "    optimizer.step()\n",
        "    return float(loss)\n",
        "\n",
        "@torch.no_grad()\n",
        "def test(data):\n",
        "    model.eval()\n",
        "    pred = model(data.x_dict, data.edge_index_dict,\n",
        "                 data['user', 'movie'].edge_label_index)\n",
        "    pred = pred.clamp(min=0, max=5)\n",
        "    target = data['user', 'movie'].edge_label.float()\n",
        "    rmse = F.mse_loss(pred, target).sqrt()\n",
        "    return float(rmse)\n",
        "\n",
        "\n",
        "for epoch in range(1, 50):\n",
        "    loss = train()\n",
        "    train_rmse = test(train_data)\n",
        "    val_rmse = test(val_data)\n",
        "    test_rmse = test(test_data)\n",
        "    print(f'Epoch: {epoch:03d}, Loss: {loss:.4f}, Train: {train_rmse:.4f}, '\n",
        "          f'Val: {val_rmse:.4f}, Test: {test_rmse:.4f}')"
      ]
    },
    {
      "cell_type": "code",
      "execution_count": null,
      "metadata": {},
      "outputs": [],
      "source": []
    }
  ],
  "metadata": {
    "colab": {
      "provenance": []
    },
    "kernelspec": {
      "display_name": "Python 3.9.6 ('environ': venv)",
      "language": "python",
      "name": "python3"
    },
    "language_info": {
      "codemirror_mode": {
        "name": "ipython",
        "version": 3
      },
      "file_extension": ".py",
      "mimetype": "text/x-python",
      "name": "python",
      "nbconvert_exporter": "python",
      "pygments_lexer": "ipython3",
      "version": "3.9.6"
    },
    "vscode": {
      "interpreter": {
        "hash": "acbc58aadc5672afc04cc91f2a1726d8eb7b999e15e50d024070fdc74729208f"
      }
    }
  },
  "nbformat": 4,
  "nbformat_minor": 0
}
