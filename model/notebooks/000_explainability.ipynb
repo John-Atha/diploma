{
 "cells": [
  {
   "cell_type": "code",
   "execution_count": 1,
   "metadata": {},
   "outputs": [
    {
     "name": "stderr",
     "output_type": "stream",
     "text": [
      "/Users/ioannisathanasiou/diploma/environ/lib/python3.9/site-packages/tqdm/auto.py:22: TqdmWarning: IProgress not found. Please update jupyter and ipywidgets. See https://ipywidgets.readthedocs.io/en/stable/user_install.html\n",
      "  from .autonotebook import tqdm as notebook_tqdm\n"
     ]
    }
   ],
   "source": [
    "import argparse\n",
    "import os.path as osp\n",
    "\n",
    "import torch\n",
    "import torch.nn.functional as F\n",
    "from torch.nn import Linear, LazyLinear, Sequential, BatchNorm1d, ReLU\n",
    "\n",
    "import torch_geometric.transforms as T\n",
    "from torch_geometric.datasets import MovieLens\n",
    "from torch_geometric.nn import SAGEConv, to_hetero, LightGCN"
   ]
  },
  {
   "cell_type": "code",
   "execution_count": 2,
   "metadata": {},
   "outputs": [],
   "source": [
    "import pathlib\n",
    "import os\n",
    "import sys\n",
    "parent_path = pathlib.Path(os.getcwd()).parent.absolute()\n",
    "sys.path.append(str(parent_path))\n",
    "from utils.Neo4jMovieLensMetaData import Neo4jMovieLensMetaData\n",
    "from utils.gnn_simple import Model\n",
    "from utils.visualize import plot_loss, plot_test\n",
    "import matplotlib.pyplot as plt\n",
    "from collections import defaultdict"
   ]
  },
  {
   "cell_type": "code",
   "execution_count": 3,
   "metadata": {},
   "outputs": [],
   "source": [
    "device = torch.device('cuda' if torch.cuda.is_available() else 'cpu')"
   ]
  },
  {
   "cell_type": "code",
   "execution_count": 4,
   "metadata": {},
   "outputs": [],
   "source": [
    "# path = osp.join(osp.dirname(osp.abspath('')), '../../data/MovieLensNeo4jMetaData')\n",
    "# dataset = Neo4jMovieLensMetaData(\n",
    "#     path,\n",
    "#     model_name='all-MiniLM-L6-v2',\n",
    "#     database_url=\"bolt://localhost:7687\",\n",
    "#     database_username=\"neo4j\",\n",
    "#     database_password=\"admin\",\n",
    "#     force_pre_process=True,\n",
    "#     force_db_restore=False,\n",
    "#     text_features=[\"title\", \"original_title\"],\n",
    "#     list_features=[],\n",
    "#     fastRP_features=[],\n",
    "#     numeric_features=[],\n",
    "# )\n",
    "\n",
    "path = osp.join(osp.dirname(osp.abspath('')), '../../data/MovieLens')\n",
    "dataset = MovieLens(path, model_name='all-MiniLM-L6-v2')\n",
    "data = dataset[0].to(device)"
   ]
  },
  {
   "cell_type": "code",
   "execution_count": 5,
   "metadata": {},
   "outputs": [],
   "source": [
    "data = dataset[0].to(device)\n",
    "# Add user node features for message passing:\n",
    "data['user'].x = torch.eye(data['user'].num_nodes, device=device)\n",
    "del data['user'].num_nodes\n",
    "# Add a reverse ('movie', 'rev_rates', 'user') relation for message passing:\n",
    "data = T.ToUndirected()(data)\n",
    "del data['movie', 'rev_rates', 'user'].edge_label  # Remove \"reverse\" label."
   ]
  },
  {
   "cell_type": "code",
   "execution_count": 6,
   "metadata": {},
   "outputs": [],
   "source": [
    "train_data, val_data, test_data = T.RandomLinkSplit(\n",
    "    num_val=0.05,\n",
    "    num_test=0.15,\n",
    "    neg_sampling_ratio=0.0,\n",
    "    edge_types=[('user', 'rates', 'movie')],\n",
    "    rev_edge_types=[('movie', 'rev_rates', 'user')],\n",
    ")(data)"
   ]
  },
  {
   "cell_type": "code",
   "execution_count": 7,
   "metadata": {},
   "outputs": [
    {
     "data": {
      "text/plain": [
       "HeteroData(\n",
       "  \u001b[1mmovie\u001b[0m={ x=[9742, 404] },\n",
       "  \u001b[1muser\u001b[0m={ x=[610, 610] },\n",
       "  \u001b[1m(user, rates, movie)\u001b[0m={\n",
       "    edge_index=[2, 100836],\n",
       "    edge_label=[100836]\n",
       "  },\n",
       "  \u001b[1m(movie, rev_rates, user)\u001b[0m={ edge_index=[2, 100836] }\n",
       ")"
      ]
     },
     "execution_count": 7,
     "metadata": {},
     "output_type": "execute_result"
    }
   ],
   "source": [
    "data"
   ]
  },
  {
   "cell_type": "code",
   "execution_count": 8,
   "metadata": {},
   "outputs": [],
   "source": [
    "import torch\n",
    "from torch import Tensor\n",
    "from torch.nn import Linear, LazyLinear, Sequential, BatchNorm1d, ReLU, Dropout\n",
    "import torch.nn.functional as F\n",
    "from torch_geometric.nn import SAGEConv, GATv2Conv, GCNConv, TransformerConv, GraphConv, GINConv, GINEConv, to_hetero, LGConv\n",
    "from torch_geometric.nn.models import GIN, GraphSAGE\n",
    "from torch_geometric.nn.aggr import MultiAggregation\n",
    "from typing import Union\n",
    "from torch_geometric.typing import Adj, OptPairTensor, Size\n",
    "\n",
    "layers = {\n",
    "    \"SAGE\": SAGEConv,\n",
    "    \"GAT\": GATv2Conv,\n",
    "    \"GCN\": GCNConv,\n",
    "    \"Transformer\": TransformerConv,\n",
    "    \"GraphConv\": GraphConv,\n",
    "    \"GIN\": GINConv,\n",
    "    \"GINE\": GINEConv,\n",
    "    \"LightGCN\": LGConv,\n",
    "}\n",
    "\n",
    "\n",
    "class GNNEncoder(torch.nn.Module):\n",
    "    def __init__(self, layer_name=\"SAGE\", num_layers=4, in_channels=-1, hidden_channels=32, out_channels=32, dropout=0.1, skip_connections=True, encoder_aggr=[]):\n",
    "        assert num_layers >= 2\n",
    "        super().__init__()\n",
    "        self.dropout = dropout\n",
    "        self.num_layers = num_layers\n",
    "        self.in_channels = in_channels\n",
    "        self.hidden_channels = hidden_channels\n",
    "        self.out_channels = out_channels\n",
    "        self.dropout = dropout\n",
    "        self.skip_connections = skip_connections\n",
    "        self.layer = layers.get(layer_name) or SAGEConv\n",
    "        self.layer_name = layer_name\n",
    "        print(self.layer_name)\n",
    "        \n",
    "        self.aggr = None\n",
    "        if encoder_aggr:\n",
    "            if isinstance(encoder_aggr, str):\n",
    "                self.aggr = encoder_aggr\n",
    "            if len(encoder_aggr) == 1:\n",
    "                self.aggr = encoder_aggr[0]\n",
    "            if len(encoder_aggr) > 1:\n",
    "                self.aggr = MultiAggregation(encoder_aggr)\n",
    "        \n",
    "        print(\"Aggregation:\", self.aggr)\n",
    "\n",
    "        if self.layer_name != \"LightGCN\":\n",
    "            first_layer_args = {\n",
    "                \"in_channels\": self.in_channels,\n",
    "                \"out_channels\": self.hidden_channels,\n",
    "                # \"aggr\": self.aggr,\n",
    "                # **encoder_extra_config,\n",
    "            }\n",
    "            hidden_layer_args = {\n",
    "                \"in_channels\": self.hidden_channels,\n",
    "                \"out_channels\": self.hidden_channels,\n",
    "                # \"aggr\": self.aggr,\n",
    "                # **encoder_extra_config,\n",
    "            }\n",
    "            last_layer_args = {\n",
    "                \"in_channels\": self.hidden_channels,\n",
    "                \"out_channels\": self.out_channels,\n",
    "                # \"aggr\": self.aggr,\n",
    "                # **encoder_extra_config,\n",
    "            }\n",
    "            if self.aggr:\n",
    "                first_layer_args[\"aggr\"] = self.aggr\n",
    "                hidden_layer_args[\"aggr\"] = self.aggr\n",
    "                last_layer_args[\"aggr\"] = self.aggr\n",
    "        else:\n",
    "            first_layer_args = {}\n",
    "            hidden_layer_args = {}\n",
    "            last_layer_args = {}\n",
    "\n",
    "        if layer_name in [\"GCN\", \"GAT\"]:\n",
    "            first_layer_args[\"add_self_loops\"] = False\n",
    "            hidden_layer_args[\"add_self_loops\"] = False\n",
    "            last_layer_args[\"add_self_loops\"] = False\n",
    "        \n",
    "        if self.layer_name == \"GIN\" or self.layer_name == \"GINE\":\n",
    "            del hidden_layer_args[\"in_channels\"]\n",
    "            del hidden_layer_args[\"out_channels\"]\n",
    "            # hidden_layer_args[\"train_eps\"] = True\n",
    "            hidden_layer_args[\"nn\"] = Sequential(\n",
    "                Linear(hidden_channels, hidden_channels),\n",
    "                BatchNorm1d(hidden_channels),\n",
    "                ReLU(),\n",
    "                Linear(hidden_channels, hidden_channels),\n",
    "                BatchNorm1d(hidden_channels),\n",
    "                ReLU(),\n",
    "                Linear(hidden_channels, hidden_channels),\n",
    "                BatchNorm1d(hidden_channels),\n",
    "                ReLU(),\n",
    "                Linear(hidden_channels, hidden_channels),\n",
    "                ReLU()\n",
    "            )\n",
    "\n",
    "            del last_layer_args[\"in_channels\"]\n",
    "            del last_layer_args[\"out_channels\"]\n",
    "            # last_layer_args[\"train_eps\"] = True\n",
    "            last_layer_args[\"nn\"] = Sequential(\n",
    "                Linear(hidden_channels, hidden_channels),\n",
    "                BatchNorm1d(hidden_channels),\n",
    "                ReLU(),\n",
    "                Linear(hidden_channels, hidden_channels),\n",
    "                BatchNorm1d(hidden_channels),\n",
    "                ReLU(),\n",
    "                Linear(hidden_channels, hidden_channels),\n",
    "                BatchNorm1d(hidden_channels),\n",
    "                ReLU(),\n",
    "                Linear(hidden_channels, out_channels),\n",
    "                ReLU()\n",
    "            )\n",
    "\n",
    "        self.convs = torch.nn.ModuleList()\n",
    "        if self.layer_name == \"GIN\":\n",
    "            self.convs.append(SAGEConv(**first_layer_args))\n",
    "        else:\n",
    "            self.convs.append(self.layer(**first_layer_args))\n",
    "        for _ in range(self.num_layers-2):\n",
    "            self.convs.append(self.layer(**hidden_layer_args))\n",
    "        self.convs.append(self.layer(**last_layer_args))\n",
    "\n",
    "    def forward(self, x, edge_index):\n",
    "        prev_x = None\n",
    "        for i in range(len(self.convs)-1):\n",
    "            prev_x = x\n",
    "            x = self.convs[i](x, edge_index)\n",
    "            # x = self.convs[i](x, edge_index, conv_index=i)\n",
    "            if i > 0 and self.skip_connections:\n",
    "                x = x + prev_x\n",
    "            x = x.relu()\n",
    "            x = F.dropout(x, p=self.dropout, training=self.training)\n",
    "        x = self.convs[-1](x, edge_index)\n",
    "        return x\n",
    "\n",
    "\n",
    "class EdgeDecoder(torch.nn.Module):\n",
    "    def __init__(self, hidden_channels, num_layers):\n",
    "        assert num_layers >= 2\n",
    "        super().__init__()\n",
    "        self.num_layers = num_layers\n",
    "        self.hidden_channels = hidden_channels\n",
    "        self.layers = torch.nn.ModuleList()\n",
    "\n",
    "        self.layers.append(LazyLinear(self.hidden_channels))\n",
    "        for _ in range(self.num_layers-2):\n",
    "            self.layers.append(\n",
    "                Linear(self.hidden_channels, self.hidden_channels))\n",
    "        self.layers.append(Linear(self.hidden_channels, 1))\n",
    "\n",
    "    def forward(self, z_dict, edge_label_index):\n",
    "        row, col = edge_label_index\n",
    "        user_embeddings = z_dict['user'][row]\n",
    "        movie_embeddings = z_dict['movie'][col]\n",
    "        z = torch.cat([user_embeddings, movie_embeddings], dim=-1)\n",
    "        for i in range(self.num_layers-1):\n",
    "            z = self.layers[i](z).relu()\n",
    "        z = self.layers[self.num_layers-1](z)\n",
    "        return z.view(-1)\n",
    "\n",
    "\n",
    "class Model(torch.nn.Module):\n",
    "    def __init__(self, data, in_channels=-1, hidden_channels=32, out_channels=32, encoder_num_layers=5, decoder_num_layers=4, layer_name=\"SAGE\", encoder_dropout=0.1, encoder_skip_connections=True, encoder_aggr=[]):\n",
    "        super().__init__()\n",
    "        self.encoder = GNNEncoder(\n",
    "            in_channels=in_channels,\n",
    "            hidden_channels=hidden_channels,\n",
    "            out_channels=out_channels,\n",
    "            layer_name=layer_name,\n",
    "            num_layers=encoder_num_layers,\n",
    "            dropout=encoder_dropout,\n",
    "            skip_connections=encoder_skip_connections,\n",
    "            encoder_aggr=encoder_aggr,\n",
    "        )\n",
    "        self.in_channels = in_channels\n",
    "        self.hidden_channels = hidden_channels\n",
    "        self.out_channels = out_channels\n",
    "        self.encoder = to_hetero(self.encoder, data.metadata(), aggr='sum')\n",
    "        self.decoder = EdgeDecoder(\n",
    "            hidden_channels,\n",
    "            num_layers=decoder_num_layers\n",
    "        )\n",
    "\n",
    "    def forward(self, x_dict, edge_index_dict, edge_label_index):\n",
    "        z_dict = self.encoder(x_dict, edge_index_dict)\n",
    "        return self.decoder(z_dict, edge_label_index)"
   ]
  },
  {
   "cell_type": "code",
   "execution_count": 9,
   "metadata": {},
   "outputs": [
    {
     "name": "stdout",
     "output_type": "stream",
     "text": [
      "SAGE\n",
      "Aggregation: None\n"
     ]
    },
    {
     "name": "stderr",
     "output_type": "stream",
     "text": [
      "/Users/ioannisathanasiou/diploma/environ/lib/python3.9/site-packages/torch/nn/modules/lazy.py:178: UserWarning: Lazy modules are a new feature under heavy development so changes to the API or functionality can happen at any moment.\n",
      "  warnings.warn('Lazy modules are a new feature under heavy development '\n"
     ]
    }
   ],
   "source": [
    "# model = Model(data, layer_name=\"SAGE\", hidden_channels=32, encoder_num_layers=4, decoder_num_layers=4, encoder_skip_connections=True, encoder_aggr=[\"mean\"])\n",
    "model = Model(\n",
    "    data,\n",
    "    layer_name=\"SAGE\",\n",
    "    encoder_num_layers=4,\n",
    "    encoder_dropout=0.1,\n",
    "    encoder_skip_connections=True,\n",
    "    decoder_num_layers=12,\n",
    "    hidden_channels=16,\n",
    "    out_channels=16,\n",
    ")\n",
    "# model = LightGCN(num_nodes=data.num_nodes, embedding_dim=32, num_layers=3)\n",
    "lr = 0.016\n",
    "with torch.no_grad():\n",
    "    model.encoder(train_data.x_dict, train_data.edge_index_dict)\n",
    "\n",
    "optimizer = torch.optim.Adam(model.parameters(), lr=lr)\n",
    "\n",
    "# weight = torch.bincount(train_data['user', 'movie'].edge_label)\n",
    "# weight = weight.max() / weight\n",
    "weight = None\n",
    "def weighted_rmse_loss(pred, target, weight=None):\n",
    "    # weight = 1. if weight is None else weight[target].to(pred.dtype)\n",
    "    weight = 1.\n",
    "    # return (weight * (pred - target.to(pred.dtype)).pow(2)).mean()\n",
    "    return (weight * (pred - target.to(pred.dtype)).pow(2)).mean()"
   ]
  },
  {
   "cell_type": "code",
   "execution_count": 10,
   "metadata": {},
   "outputs": [
    {
     "name": "stdout",
     "output_type": "stream",
     "text": [
      "Epoch: 001, Loss: 12.7246, Train: 3.5017, Val: 3.5225, Test: 3.4977\n",
      "Epoch: 002, Loss: 12.2619, Train: 3.4433, Val: 3.4640, Test: 3.4393\n",
      "Epoch: 003, Loss: 11.8560, Train: 3.3886, Val: 3.4093, Test: 3.3846\n",
      "Epoch: 004, Loss: 11.4825, Train: 3.3275, Val: 3.3482, Test: 3.3236\n",
      "Epoch: 005, Loss: 11.0723, Train: 3.2339, Val: 3.2547, Test: 3.2304\n",
      "Epoch: 006, Loss: 10.4574, Train: 3.0209, Val: 3.0446, Test: 3.0195\n",
      "Epoch: 007, Loss: 9.1312, Train: 2.3741, Val: 2.3949, Test: 2.3709\n",
      "Epoch: 008, Loss: 5.6196, Train: 1.2489, Val: 1.2196, Test: 1.2363\n",
      "Epoch: 009, Loss: 1.5331, Train: 1.4953, Val: 1.4405, Test: 1.4859\n",
      "Epoch: 010, Loss: 2.2618, Train: 1.4276, Val: 1.4466, Test: 1.4238\n",
      "Epoch: 011, Loss: 1.9990, Train: 1.6949, Val: 1.7323, Test: 1.7012\n",
      "Epoch: 012, Loss: 2.8754, Train: 1.5543, Val: 1.5937, Test: 1.5779\n",
      "Epoch: 013, Loss: 2.4812, Train: 1.1740, Val: 1.2023, Test: 1.1885\n",
      "Epoch: 014, Loss: 1.3930, Train: 1.3363, Val: 1.2914, Test: 1.3145\n",
      "Epoch: 015, Loss: 1.8516, Train: 1.3053, Val: 1.3054, Test: 1.3085\n",
      "Epoch: 016, Loss: 1.7828, Train: 1.0908, Val: 1.0916, Test: 1.0966\n",
      "Epoch: 017, Loss: 1.1831, Train: 1.2283, Val: 1.2312, Test: 1.2324\n",
      "Epoch: 018, Loss: 1.4834, Train: 1.2833, Val: 1.3010, Test: 1.2885\n",
      "Epoch: 019, Loss: 1.6294, Train: 1.2206, Val: 1.2379, Test: 1.2277\n",
      "Epoch: 020, Loss: 1.4955, Train: 1.1058, Val: 1.1113, Test: 1.1132\n",
      "Epoch: 021, Loss: 1.2296, Train: 1.1160, Val: 1.0917, Test: 1.1041\n",
      "Epoch: 022, Loss: 1.2250, Train: 1.2259, Val: 1.1878, Test: 1.1971\n",
      "Epoch: 023, Loss: 1.4734, Train: 1.1520, Val: 1.1368, Test: 1.1493\n",
      "Epoch: 024, Loss: 1.3198, Train: 1.0856, Val: 1.0779, Test: 1.0768\n",
      "Epoch: 025, Loss: 1.1701, Train: 1.1123, Val: 1.1158, Test: 1.1110\n",
      "Epoch: 026, Loss: 1.2363, Train: 1.1447, Val: 1.1465, Test: 1.1433\n",
      "Epoch: 027, Loss: 1.3020, Train: 1.1421, Val: 1.1429, Test: 1.1389\n",
      "Epoch: 028, Loss: 1.2866, Train: 1.1099, Val: 1.1132, Test: 1.1055\n",
      "Epoch: 029, Loss: 1.2284, Train: 1.0832, Val: 1.0862, Test: 1.0793\n",
      "Epoch: 030, Loss: 1.1712, Train: 1.0936, Val: 1.0815, Test: 1.0892\n",
      "Epoch: 031, Loss: 1.1898, Train: 1.1153, Val: 1.0966, Test: 1.1097\n",
      "Epoch: 032, Loss: 1.2298, Train: 1.1020, Val: 1.0926, Test: 1.1008\n",
      "Epoch: 033, Loss: 1.2342, Train: 1.0901, Val: 1.0817, Test: 1.0824\n",
      "Epoch: 034, Loss: 1.1747, Train: 1.0800, Val: 1.0799, Test: 1.0789\n",
      "Epoch: 035, Loss: 1.1654, Train: 1.0891, Val: 1.0912, Test: 1.0871\n",
      "Epoch: 036, Loss: 1.1817, Train: 1.0971, Val: 1.0996, Test: 1.0992\n",
      "Epoch: 037, Loss: 1.2070, Train: 1.0975, Val: 1.0965, Test: 1.0960\n",
      "Epoch: 038, Loss: 1.1980, Train: 1.0852, Val: 1.0853, Test: 1.0826\n",
      "Epoch: 039, Loss: 1.1784, Train: 1.0771, Val: 1.0761, Test: 1.0765\n",
      "Epoch: 040, Loss: 1.1637, Train: 1.0802, Val: 1.0744, Test: 1.0771\n",
      "Epoch: 041, Loss: 1.1705, Train: 1.0877, Val: 1.0787, Test: 1.0863\n",
      "Epoch: 042, Loss: 1.1769, Train: 1.0874, Val: 1.0773, Test: 1.0845\n",
      "Epoch: 043, Loss: 1.1820, Train: 1.0798, Val: 1.0749, Test: 1.0764\n",
      "Epoch: 044, Loss: 1.1658, Train: 1.0733, Val: 1.0701, Test: 1.0752\n",
      "Epoch: 045, Loss: 1.1575, Train: 1.0806, Val: 1.0779, Test: 1.0784\n",
      "Epoch: 046, Loss: 1.1648, Train: 1.0824, Val: 1.0845, Test: 1.0808\n",
      "Epoch: 047, Loss: 1.1694, Train: 1.0813, Val: 1.0814, Test: 1.0819\n",
      "Epoch: 048, Loss: 1.1693, Train: 1.0786, Val: 1.0781, Test: 1.0759\n",
      "Epoch: 049, Loss: 1.1600, Train: 1.0749, Val: 1.0710, Test: 1.0748\n",
      "Epoch: 050, Loss: 1.1507, Train: 1.0759, Val: 1.0700, Test: 1.0754\n",
      "Epoch: 051, Loss: 1.1543, Train: 1.0770, Val: 1.0709, Test: 1.0749\n",
      "Epoch: 052, Loss: 1.1648, Train: 1.0756, Val: 1.0702, Test: 1.0748\n",
      "Epoch: 053, Loss: 1.1597, Train: 1.0731, Val: 1.0694, Test: 1.0749\n",
      "Epoch: 054, Loss: 1.1522, Train: 1.0722, Val: 1.0712, Test: 1.0716\n",
      "Epoch: 055, Loss: 1.1462, Train: 1.0730, Val: 1.0690, Test: 1.0714\n",
      "Epoch: 056, Loss: 1.1514, Train: 1.0752, Val: 1.0719, Test: 1.0732\n",
      "Epoch: 057, Loss: 1.1500, Train: 1.0717, Val: 1.0715, Test: 1.0716\n",
      "Epoch: 058, Loss: 1.1502, Train: 1.0709, Val: 1.0701, Test: 1.0709\n",
      "Epoch: 059, Loss: 1.1482, Train: 1.0679, Val: 1.0663, Test: 1.0706\n",
      "Epoch: 060, Loss: 1.1411, Train: 1.0699, Val: 1.0670, Test: 1.0698\n",
      "Epoch: 061, Loss: 1.1445, Train: 1.0699, Val: 1.0654, Test: 1.0692\n",
      "Epoch: 062, Loss: 1.1471, Train: 1.0680, Val: 1.0629, Test: 1.0672\n",
      "Epoch: 063, Loss: 1.1401, Train: 1.0660, Val: 1.0628, Test: 1.0668\n",
      "Epoch: 064, Loss: 1.1340, Train: 1.0673, Val: 1.0621, Test: 1.0642\n",
      "Epoch: 065, Loss: 1.1365, Train: 1.0694, Val: 1.0636, Test: 1.0662\n",
      "Epoch: 066, Loss: 1.1367, Train: 1.0656, Val: 1.0660, Test: 1.0649\n",
      "Epoch: 067, Loss: 1.1322, Train: 1.0626, Val: 1.0628, Test: 1.0633\n",
      "Epoch: 068, Loss: 1.1310, Train: 1.0618, Val: 1.0609, Test: 1.0625\n",
      "Epoch: 069, Loss: 1.1278, Train: 1.0612, Val: 1.0595, Test: 1.0627\n",
      "Epoch: 070, Loss: 1.1238, Train: 1.0636, Val: 1.0595, Test: 1.0625\n",
      "Epoch: 071, Loss: 1.1197, Train: 1.0594, Val: 1.0552, Test: 1.0612\n",
      "Epoch: 072, Loss: 1.1259, Train: 1.0580, Val: 1.0550, Test: 1.0597\n",
      "Epoch: 073, Loss: 1.1170, Train: 1.0571, Val: 1.0565, Test: 1.0589\n",
      "Epoch: 074, Loss: 1.1167, Train: 1.0582, Val: 1.0568, Test: 1.0612\n",
      "Epoch: 075, Loss: 1.1203, Train: 1.0577, Val: 1.0570, Test: 1.0594\n",
      "Epoch: 076, Loss: 1.1162, Train: 1.0544, Val: 1.0555, Test: 1.0573\n",
      "Epoch: 077, Loss: 1.1115, Train: 1.0526, Val: 1.0550, Test: 1.0538\n",
      "Epoch: 078, Loss: 1.1069, Train: 1.0510, Val: 1.0499, Test: 1.0547\n",
      "Epoch: 079, Loss: 1.1037, Train: 1.0491, Val: 1.0512, Test: 1.0514\n",
      "Epoch: 080, Loss: 1.1043, Train: 1.0462, Val: 1.0456, Test: 1.0530\n",
      "Epoch: 081, Loss: 1.1033, Train: 1.0470, Val: 1.0451, Test: 1.0492\n",
      "Epoch: 082, Loss: 1.0920, Train: 1.0440, Val: 1.0443, Test: 1.0480\n",
      "Epoch: 083, Loss: 1.0927, Train: 1.0436, Val: 1.0442, Test: 1.0464\n",
      "Epoch: 084, Loss: 1.0880, Train: 1.0449, Val: 1.0446, Test: 1.0449\n",
      "Epoch: 085, Loss: 1.0866, Train: 1.0388, Val: 1.0397, Test: 1.0440\n",
      "Epoch: 086, Loss: 1.0807, Train: 1.0388, Val: 1.0340, Test: 1.0422\n",
      "Epoch: 087, Loss: 1.0759, Train: 1.0363, Val: 1.0352, Test: 1.0390\n",
      "Epoch: 088, Loss: 1.0697, Train: 1.0330, Val: 1.0333, Test: 1.0383\n",
      "Epoch: 089, Loss: 1.0768, Train: 1.0295, Val: 1.0350, Test: 1.0363\n",
      "Epoch: 090, Loss: 1.0606, Train: 1.0284, Val: 1.0308, Test: 1.0341\n",
      "Epoch: 091, Loss: 1.0598, Train: 1.0289, Val: 1.0298, Test: 1.0347\n",
      "Epoch: 092, Loss: 1.0577, Train: 1.0258, Val: 1.0250, Test: 1.0301\n",
      "Epoch: 093, Loss: 1.0486, Train: 1.0224, Val: 1.0206, Test: 1.0277\n",
      "Epoch: 094, Loss: 1.0510, Train: 1.0201, Val: 1.0223, Test: 1.0259\n",
      "Epoch: 095, Loss: 1.0373, Train: 1.0176, Val: 1.0170, Test: 1.0240\n",
      "Epoch: 096, Loss: 1.0358, Train: 1.0139, Val: 1.0187, Test: 1.0232\n",
      "Epoch: 097, Loss: 1.0348, Train: 1.0129, Val: 1.0137, Test: 1.0234\n",
      "Epoch: 098, Loss: 1.0281, Train: 1.0093, Val: 1.0106, Test: 1.0186\n",
      "Epoch: 099, Loss: 1.0165, Train: 1.0080, Val: 1.0113, Test: 1.0169\n",
      "Epoch: 100, Loss: 1.0145, Train: 1.0046, Val: 1.0069, Test: 1.0122\n"
     ]
    }
   ],
   "source": [
    "def train(log=False):\n",
    "    model.train()\n",
    "    optimizer.zero_grad()\n",
    "    pred = model(train_data.x_dict, train_data.edge_index_dict,\n",
    "            train_data['user', 'movie'].edge_label_index)\n",
    "    # print(pred[:10])\n",
    "    target = train_data['user', 'movie'].edge_label\n",
    "\n",
    "    loss = weighted_rmse_loss(pred, target, weight)\n",
    "    loss.backward()\n",
    "    optimizer.step()\n",
    "    return float(loss)\n",
    "\n",
    "@torch.no_grad()\n",
    "def test(data, log=False):\n",
    "    model.eval()\n",
    "    pred = model(data.x_dict, data.edge_index_dict,\n",
    "            data['user', 'movie'].edge_label_index)\n",
    "    # print(pred[:10])\n",
    "    # pred = pred.clamp(min=0, max=5)\n",
    "    target = data['user', 'movie'].edge_label.float()\n",
    "    rmse = F.mse_loss(pred, target).sqrt()\n",
    "    # mae = F.l1_loss(pred, target)\n",
    "    return float(rmse)\n",
    "\n",
    "# early_stopper = EarlyStopper(patience=100, min_delta=0.1)\n",
    "epochs = 100\n",
    "losses = []\n",
    "for epoch in range(1, epochs+1):\n",
    "    loss = train(log=not(epoch%20))\n",
    "    train_rmse = test(train_data)\n",
    "    val_rmse = test(val_data)\n",
    "    test_rmse = test(test_data, log=not(epoch%20))\n",
    "    losses.append((loss, train_rmse, val_rmse, test_rmse))\n",
    "    print(f'Epoch: {epoch:03d}, Loss: {loss:.4f}, Train: {train_rmse:.4f}, '\n",
    "        f'Val: {val_rmse:.4f}, Test: {test_rmse:.4f}')\n",
    "    # if epoch > 50 and early_stopper.early_stop(val_rmse):\n",
    "    #     print(\"Early stopping...\")\n",
    "    #     break\n",
    "\n",
    "last_losses = losses[-1]\n",
    "losses = losses + [last_losses] * (epochs - len(losses))\n",
    "losses_ = {\"SAGE\": losses}"
   ]
  },
  {
   "cell_type": "code",
   "execution_count": 11,
   "metadata": {},
   "outputs": [
    {
     "data": {
      "image/png": "[encoded data removed]",
      "text/plain": [
       "<Figure size 640x480 with 1 Axes>"
      ]
     },
     "metadata": {},
     "output_type": "display_data"
    }
   ],
   "source": [
    "plot_loss(losses_, ylim=5)"
   ]
  },
  {
   "cell_type": "code",
   "execution_count": 12,
   "metadata": {},
   "outputs": [
    {
     "data": {
      "text/plain": [
       "<BarContainer object of 22 artists>"
      ]
     },
     "execution_count": 12,
     "metadata": {},
     "output_type": "execute_result"
    },
    {
     "data": {
      "image/png": "[encoded data removed]",
      "text/plain": [
       "<Figure size 3000x1000 with 1 Axes>"
      ]
     },
     "metadata": {},
     "output_type": "display_data"
    }
   ],
   "source": [
    "pred = model(test_data.x_dict, test_data.edge_index_dict, test_data[\"user\", \"movie\"].edge_label_index)\n",
    "ratings = pred.detach().numpy()\n",
    "# dummy way but never mind\n",
    "def get_group(i):\n",
    "    if i<0.25:\n",
    "        return 0\n",
    "    elif i<0.75:\n",
    "        return 0.5\n",
    "    elif i < 1.25:\n",
    "        return 1\n",
    "    elif i < 1.75:\n",
    "        return 1.5\n",
    "    elif i < 2.25:\n",
    "        return 2\n",
    "    elif i < 2.75:\n",
    "        return 2.5\n",
    "    elif i < 3.25:\n",
    "        return 3\n",
    "    elif i < 3.75:\n",
    "        return 3.5\n",
    "    elif i < 4.5:\n",
    "        return 4\n",
    "    else:\n",
    "        return 5\n",
    "counters = defaultdict(int)\n",
    "for rating in ratings:\n",
    "    counters[round(rating, 1)] += 1\n",
    "plt.bar(counters.keys(), counters.values())"
   ]
  },
  {
   "cell_type": "code",
   "execution_count": 13,
   "metadata": {},
   "outputs": [],
   "source": [
    "from torch_geometric.explain import Explainer, GNNExplainer, ModelConfig, \\\n",
    "    HeteroExplanation, \\\n",
    "    CaptumExplainer, DummyExplainer, PGExplainer, AttentionExplainer"
   ]
  },
  {
   "attachments": {},
   "cell_type": "markdown",
   "metadata": {},
   "source": [
    "#### Dummy explainer"
   ]
  },
  {
   "cell_type": "code",
   "execution_count": 14,
   "metadata": {},
   "outputs": [],
   "source": [
    "explainer = Explainer(\n",
    "    model=model,\n",
    "    algorithm=DummyExplainer(),\n",
    "    explanation_type='model',\n",
    "    node_mask_type='attributes',\n",
    "    edge_mask_type='object',\n",
    "    model_config=dict(\n",
    "        mode='regression',\n",
    "        task_level='edge',\n",
    "        return_type='raw',\n",
    "    ),\n",
    ")"
   ]
  },
  {
   "cell_type": "code",
   "execution_count": 15,
   "metadata": {},
   "outputs": [],
   "source": [
    "edge_label_index = train_data['user', 'movie'].edge_label_index[:, 0]"
   ]
  },
  {
   "cell_type": "code",
   "execution_count": 16,
   "metadata": {},
   "outputs": [
    {
     "data": {
      "text/plain": [
       "tensor([ 386, 4493])"
      ]
     },
     "execution_count": 16,
     "metadata": {},
     "output_type": "execute_result"
    }
   ],
   "source": [
    "edge_label_index"
   ]
  },
  {
   "cell_type": "code",
   "execution_count": 17,
   "metadata": {},
   "outputs": [
    {
     "data": {
      "text/plain": [
       "tensor([[ 386,   11,  134,  ...,  559,  562,   38],\n",
       "        [4493,  644, 2437,  ...,  520, 8924, 1187]])"
      ]
     },
     "execution_count": 17,
     "metadata": {},
     "output_type": "execute_result"
    }
   ],
   "source": [
    "train_data[(\"user\", \"rates\", \"movie\")].edge_label_index"
   ]
  },
  {
   "cell_type": "code",
   "execution_count": 18,
   "metadata": {},
   "outputs": [],
   "source": [
    "explanation = explainer(\n",
    "    # x={\n",
    "    #     \"movie\": train_data[\"movie\"],\n",
    "    #     \"user\": train_data[\"user\"]\n",
    "    # },\n",
    "    # edge_index=train_data[(\"user\", \"rates\", \"movie\")].edge_index,\n",
    "    \n",
    "    edge_index=train_data.edge_index_dict,\n",
    "    \n",
    "    # edge_index=train_data[(\"user\", \"rates\", \"movie\")].edge_index,\n",
    "    \n",
    "    x=train_data.x_dict,\n",
    "    \n",
    "    # edge_index_dict=train_data.edge_index_dict,\n",
    "    \n",
    "    # edge_label_index=train_data['user', 'movie'].edge_label_index,\n",
    "    edge_label_index=edge_label_index,\n",
    "    \n",
    "    # edge_index=train_data.edge_index_dict[('user', 'rates', 'movie')],\n",
    "    # edge_label_index=train_data,\n",
    "    \n",
    "    target=None\n",
    ")"
   ]
  },
  {
   "cell_type": "code",
   "execution_count": 19,
   "metadata": {},
   "outputs": [
    {
     "data": {
      "text/plain": [
       "HeteroExplanation(\n",
       "  prediction=[1],\n",
       "  target=[1],\n",
       "  edge_label_index=[2],\n",
       "  \u001b[1mmovie\u001b[0m={\n",
       "    node_mask=[9742, 404],\n",
       "    x=[9742, 404]\n",
       "  },\n",
       "  \u001b[1muser\u001b[0m={\n",
       "    node_mask=[610, 610],\n",
       "    x=[610, 610]\n",
       "  },\n",
       "  \u001b[1m(user, rates, movie)\u001b[0m={\n",
       "    edge_mask=[80670],\n",
       "    edge_index=[2, 80670]\n",
       "  },\n",
       "  \u001b[1m(movie, rev_rates, user)\u001b[0m={\n",
       "    edge_mask=[80670],\n",
       "    edge_index=[2, 80670]\n",
       "  }\n",
       ")"
      ]
     },
     "execution_count": 19,
     "metadata": {},
     "output_type": "execute_result"
    }
   ],
   "source": [
    "explanation.get_explanation_subgraph()"
   ]
  },
  {
   "cell_type": "code",
   "execution_count": 20,
   "metadata": {},
   "outputs": [
    {
     "data": {
      "text/plain": [
       "HeteroData(\n",
       "  \u001b[1mmovie\u001b[0m={ x=[9742, 404] },\n",
       "  \u001b[1muser\u001b[0m={ x=[610, 610] },\n",
       "  \u001b[1m(user, rates, movie)\u001b[0m={\n",
       "    edge_index=[2, 80670],\n",
       "    edge_label=[80670],\n",
       "    edge_label_index=[2, 80670]\n",
       "  },\n",
       "  \u001b[1m(movie, rev_rates, user)\u001b[0m={ edge_index=[2, 80670] }\n",
       ")"
      ]
     },
     "execution_count": 20,
     "metadata": {},
     "output_type": "execute_result"
    }
   ],
   "source": [
    "train_data"
   ]
  },
  {
   "cell_type": "code",
   "execution_count": 21,
   "metadata": {},
   "outputs": [
    {
     "data": {
      "text/plain": [
       "HeteroExplanation(\n",
       "  prediction=[1],\n",
       "  target=[1],\n",
       "  edge_label_index=[2],\n",
       "  \u001b[1mmovie\u001b[0m={\n",
       "    node_mask=[9742, 404],\n",
       "    x=[9742, 404]\n",
       "  },\n",
       "  \u001b[1muser\u001b[0m={\n",
       "    node_mask=[610, 610],\n",
       "    x=[610, 610]\n",
       "  },\n",
       "  \u001b[1m(user, rates, movie)\u001b[0m={\n",
       "    edge_mask=[80670],\n",
       "    edge_index=[2, 80670]\n",
       "  },\n",
       "  \u001b[1m(movie, rev_rates, user)\u001b[0m={\n",
       "    edge_mask=[80670],\n",
       "    edge_index=[2, 80670]\n",
       "  }\n",
       ")"
      ]
     },
     "execution_count": 21,
     "metadata": {},
     "output_type": "execute_result"
    }
   ],
   "source": [
    "explanation.get_explanation_subgraph()"
   ]
  },
  {
   "cell_type": "code",
   "execution_count": 22,
   "metadata": {},
   "outputs": [
    {
     "data": {
      "text/plain": [
       "tensor([3.1055])"
      ]
     },
     "execution_count": 22,
     "metadata": {},
     "output_type": "execute_result"
    }
   ],
   "source": [
    "explanation.get_explanation_subgraph().prediction"
   ]
  },
  {
   "cell_type": "code",
   "execution_count": 23,
   "metadata": {},
   "outputs": [
    {
     "data": {
      "text/plain": [
       "tensor([3.1055])"
      ]
     },
     "execution_count": 23,
     "metadata": {},
     "output_type": "execute_result"
    }
   ],
   "source": [
    "explanation.get_explanation_subgraph().target"
   ]
  },
  {
   "cell_type": "code",
   "execution_count": 24,
   "metadata": {},
   "outputs": [
    {
     "data": {
      "text/plain": [
       "HeteroExplanation(\n",
       "  prediction=[1],\n",
       "  target=[1],\n",
       "  edge_label_index=[2],\n",
       "  \u001b[1mmovie\u001b[0m={\n",
       "    node_mask=[0, 404],\n",
       "    x=[0, 404]\n",
       "  },\n",
       "  \u001b[1muser\u001b[0m={\n",
       "    node_mask=[0, 610],\n",
       "    x=[0, 610]\n",
       "  },\n",
       "  \u001b[1m(user, rates, movie)\u001b[0m={\n",
       "    edge_mask=[0],\n",
       "    edge_index=[2, 0]\n",
       "  },\n",
       "  \u001b[1m(movie, rev_rates, user)\u001b[0m={\n",
       "    edge_mask=[0],\n",
       "    edge_index=[2, 0]\n",
       "  }\n",
       ")"
      ]
     },
     "execution_count": 24,
     "metadata": {},
     "output_type": "execute_result"
    }
   ],
   "source": [
    "explanation.get_complement_subgraph()"
   ]
  },
  {
   "cell_type": "code",
   "execution_count": 25,
   "metadata": {},
   "outputs": [
    {
     "data": {
      "text/plain": [
       "tensor([ 386, 4493])"
      ]
     },
     "execution_count": 25,
     "metadata": {},
     "output_type": "execute_result"
    }
   ],
   "source": [
    "edge_label_index"
   ]
  },
  {
   "attachments": {},
   "cell_type": "markdown",
   "metadata": {},
   "source": [
    "#### GNN explainer"
   ]
  },
  {
   "cell_type": "code",
   "execution_count": 24,
   "metadata": {},
   "outputs": [],
   "source": [
    "explainer = Explainer(\n",
    "    model=model,\n",
    "    algorithm=GNNExplainer(epochs=10),\n",
    "    explanation_type='model',\n",
    "    node_mask_type='attributes',\n",
    "    edge_mask_type='object',\n",
    "    model_config=dict(\n",
    "        mode='regression',\n",
    "        task_level='edge',\n",
    "        return_type='raw',\n",
    "    ),\n",
    ")"
   ]
  },
  {
   "cell_type": "code",
   "execution_count": 25,
   "metadata": {},
   "outputs": [
    {
     "ename": "ValueError",
     "evalue": "Heterogeneous graphs not yet supported in 'GNNExplainer'",
     "output_type": "error",
     "traceback": [
      "\u001b[0;31m---------------------------------------------------------------------------\u001b[0m",
      "\u001b[0;31mValueError\u001b[0m                                Traceback (most recent call last)",
      "Cell \u001b[0;32mIn [25], line 1\u001b[0m\n\u001b[0;32m----> 1\u001b[0m explanation \u001b[39m=\u001b[39m explainer(\n\u001b[1;32m      2\u001b[0m     \u001b[39m# x={\u001b[39;00m\n\u001b[1;32m      3\u001b[0m     \u001b[39m#     \"movie\": train_data[\"movie\"],\u001b[39;00m\n\u001b[1;32m      4\u001b[0m     \u001b[39m#     \"user\": train_data[\"user\"]\u001b[39;00m\n\u001b[1;32m      5\u001b[0m     \u001b[39m# },\u001b[39;00m\n\u001b[1;32m      6\u001b[0m     \u001b[39m# edge_index=train_data[(\"user\", \"rates\", \"movie\")].edge_index,\u001b[39;00m\n\u001b[1;32m      7\u001b[0m     \n\u001b[1;32m      8\u001b[0m     edge_index\u001b[39m=\u001b[39mtrain_data\u001b[39m.\u001b[39medge_index_dict,\n\u001b[1;32m      9\u001b[0m     \n\u001b[1;32m     10\u001b[0m     \u001b[39m# edge_index=train_data[(\"user\", \"rates\", \"movie\")].edge_index,\u001b[39;00m\n\u001b[1;32m     11\u001b[0m     \n\u001b[1;32m     12\u001b[0m     x\u001b[39m=\u001b[39mtrain_data\u001b[39m.\u001b[39mx_dict,\n\u001b[1;32m     13\u001b[0m     \n\u001b[1;32m     14\u001b[0m     \u001b[39m# edge_index_dict=train_data.edge_index_dict,\u001b[39;00m\n\u001b[1;32m     15\u001b[0m     \n\u001b[1;32m     16\u001b[0m     edge_label_index\u001b[39m=\u001b[39mtrain_data[\u001b[39m'\u001b[39m\u001b[39muser\u001b[39m\u001b[39m'\u001b[39m, \u001b[39m'\u001b[39m\u001b[39mmovie\u001b[39m\u001b[39m'\u001b[39m]\u001b[39m.\u001b[39medge_label_index,\n\u001b[1;32m     17\u001b[0m     \n\u001b[1;32m     18\u001b[0m     \u001b[39m# edge_index=train_data.edge_index_dict[('user', 'rates', 'movie')],\u001b[39;00m\n\u001b[1;32m     19\u001b[0m     \u001b[39m# edge_label_index=train_data,\u001b[39;00m\n\u001b[1;32m     20\u001b[0m     \n\u001b[1;32m     21\u001b[0m     target\u001b[39m=\u001b[39m\u001b[39mNone\u001b[39;00m\n\u001b[1;32m     22\u001b[0m )\n",
      "File \u001b[0;32m~/diploma/environ/lib/python3.9/site-packages/torch_geometric/explain/explainer.py:198\u001b[0m, in \u001b[0;36mExplainer.__call__\u001b[0;34m(self, x, edge_index, target, index, **kwargs)\u001b[0m\n\u001b[1;32m    195\u001b[0m training \u001b[39m=\u001b[39m \u001b[39mself\u001b[39m\u001b[39m.\u001b[39mmodel\u001b[39m.\u001b[39mtraining\n\u001b[1;32m    196\u001b[0m \u001b[39mself\u001b[39m\u001b[39m.\u001b[39mmodel\u001b[39m.\u001b[39meval()\n\u001b[0;32m--> 198\u001b[0m explanation \u001b[39m=\u001b[39m \u001b[39mself\u001b[39;49m\u001b[39m.\u001b[39;49malgorithm(\n\u001b[1;32m    199\u001b[0m     \u001b[39mself\u001b[39;49m\u001b[39m.\u001b[39;49mmodel,\n\u001b[1;32m    200\u001b[0m     x,\n\u001b[1;32m    201\u001b[0m     edge_index,\n\u001b[1;32m    202\u001b[0m     target\u001b[39m=\u001b[39;49mtarget,\n\u001b[1;32m    203\u001b[0m     index\u001b[39m=\u001b[39;49mindex,\n\u001b[1;32m    204\u001b[0m     \u001b[39m*\u001b[39;49m\u001b[39m*\u001b[39;49mkwargs,\n\u001b[1;32m    205\u001b[0m )\n\u001b[1;32m    207\u001b[0m \u001b[39mself\u001b[39m\u001b[39m.\u001b[39mmodel\u001b[39m.\u001b[39mtrain(training)\n\u001b[1;32m    209\u001b[0m \u001b[39m# Add explainer objectives to the `Explanation` object:\u001b[39;00m\n",
      "File \u001b[0;32m~/diploma/environ/lib/python3.9/site-packages/torch/nn/modules/module.py:1130\u001b[0m, in \u001b[0;36mModule._call_impl\u001b[0;34m(self, *input, **kwargs)\u001b[0m\n\u001b[1;32m   1126\u001b[0m \u001b[39m# If we don't have any hooks, we want to skip the rest of the logic in\u001b[39;00m\n\u001b[1;32m   1127\u001b[0m \u001b[39m# this function, and just call forward.\u001b[39;00m\n\u001b[1;32m   1128\u001b[0m \u001b[39mif\u001b[39;00m \u001b[39mnot\u001b[39;00m (\u001b[39mself\u001b[39m\u001b[39m.\u001b[39m_backward_hooks \u001b[39mor\u001b[39;00m \u001b[39mself\u001b[39m\u001b[39m.\u001b[39m_forward_hooks \u001b[39mor\u001b[39;00m \u001b[39mself\u001b[39m\u001b[39m.\u001b[39m_forward_pre_hooks \u001b[39mor\u001b[39;00m _global_backward_hooks\n\u001b[1;32m   1129\u001b[0m         \u001b[39mor\u001b[39;00m _global_forward_hooks \u001b[39mor\u001b[39;00m _global_forward_pre_hooks):\n\u001b[0;32m-> 1130\u001b[0m     \u001b[39mreturn\u001b[39;00m forward_call(\u001b[39m*\u001b[39;49m\u001b[39minput\u001b[39;49m, \u001b[39m*\u001b[39;49m\u001b[39m*\u001b[39;49mkwargs)\n\u001b[1;32m   1131\u001b[0m \u001b[39m# Do not call functions when jit is used\u001b[39;00m\n\u001b[1;32m   1132\u001b[0m full_backward_hooks, non_full_backward_hooks \u001b[39m=\u001b[39m [], []\n",
      "File \u001b[0;32m~/diploma/environ/lib/python3.9/site-packages/torch_geometric/explain/algorithm/gnn_explainer.py:71\u001b[0m, in \u001b[0;36mGNNExplainer.forward\u001b[0;34m(self, model, x, edge_index, target, index, **kwargs)\u001b[0m\n\u001b[1;32m     60\u001b[0m \u001b[39mdef\u001b[39;00m \u001b[39mforward\u001b[39m(\n\u001b[1;32m     61\u001b[0m     \u001b[39mself\u001b[39m,\n\u001b[1;32m     62\u001b[0m     model: torch\u001b[39m.\u001b[39mnn\u001b[39m.\u001b[39mModule,\n\u001b[0;32m   (...)\u001b[0m\n\u001b[1;32m     68\u001b[0m     \u001b[39m*\u001b[39m\u001b[39m*\u001b[39mkwargs,\n\u001b[1;32m     69\u001b[0m ) \u001b[39m-\u001b[39m\u001b[39m>\u001b[39m Explanation:\n\u001b[1;32m     70\u001b[0m     \u001b[39mif\u001b[39;00m \u001b[39misinstance\u001b[39m(x, \u001b[39mdict\u001b[39m) \u001b[39mor\u001b[39;00m \u001b[39misinstance\u001b[39m(edge_index, \u001b[39mdict\u001b[39m):\n\u001b[0;32m---> 71\u001b[0m         \u001b[39mraise\u001b[39;00m \u001b[39mValueError\u001b[39;00m(\u001b[39mf\u001b[39m\u001b[39m\"\u001b[39m\u001b[39mHeterogeneous graphs not yet supported in \u001b[39m\u001b[39m\"\u001b[39m\n\u001b[1;32m     72\u001b[0m                          \u001b[39mf\u001b[39m\u001b[39m\"\u001b[39m\u001b[39m'\u001b[39m\u001b[39m{\u001b[39;00m\u001b[39mself\u001b[39m\u001b[39m.\u001b[39m\u001b[39m__class__\u001b[39m\u001b[39m.\u001b[39m\u001b[39m__name__\u001b[39m\u001b[39m}\u001b[39;00m\u001b[39m'\u001b[39m\u001b[39m\"\u001b[39m)\n\u001b[1;32m     74\u001b[0m     hard_node_mask \u001b[39m=\u001b[39m hard_edge_mask \u001b[39m=\u001b[39m \u001b[39mNone\u001b[39;00m\n\u001b[1;32m     75\u001b[0m     \u001b[39mif\u001b[39;00m \u001b[39mself\u001b[39m\u001b[39m.\u001b[39mmodel_config\u001b[39m.\u001b[39mtask_level \u001b[39m==\u001b[39m ModelTaskLevel\u001b[39m.\u001b[39mnode:\n\u001b[1;32m     76\u001b[0m         \u001b[39m# We need to compute hard masks to properly clean up edges and\u001b[39;00m\n\u001b[1;32m     77\u001b[0m         \u001b[39m# nodes attributions not involved during message passing:\u001b[39;00m\n",
      "\u001b[0;31mValueError\u001b[0m: Heterogeneous graphs not yet supported in 'GNNExplainer'"
     ]
    }
   ],
   "source": [
    "explanation = explainer(\n",
    "    # x={\n",
    "    #     \"movie\": train_data[\"movie\"],\n",
    "    #     \"user\": train_data[\"user\"]\n",
    "    # },\n",
    "    # edge_index=train_data[(\"user\", \"rates\", \"movie\")].edge_index,\n",
    "    \n",
    "    edge_index=train_data.edge_index_dict,\n",
    "    \n",
    "    # edge_index=train_data[(\"user\", \"rates\", \"movie\")].edge_index,\n",
    "    \n",
    "    x=train_data.x_dict,\n",
    "    \n",
    "    # edge_index_dict=train_data.edge_index_dict,\n",
    "    \n",
    "    edge_label_index=train_data['user', 'movie'].edge_label_index,\n",
    "    \n",
    "    # edge_index=train_data.edge_index_dict[('user', 'rates', 'movie')],\n",
    "    # edge_label_index=train_data,\n",
    "    \n",
    "    target=None\n",
    ")"
   ]
  },
  {
   "cell_type": "code",
   "execution_count": null,
   "metadata": {},
   "outputs": [
    {
     "ename": "AttributeError",
     "evalue": "'HeteroExplanation' has no attribute 'visualize_graph'",
     "output_type": "error",
     "traceback": [
      "\u001b[0;31m---------------------------------------------------------------------------\u001b[0m\n",
      "\u001b[0;31mAttributeError\u001b[0m                            Traceback (most recent call last)\n",
      "Cell \u001b[0;32mIn [23], line 1\u001b[0m\n",
      "\u001b[0;32m----> 1\u001b[0m explanation\u001b[39m.\u001b[39mget_explanation_subgraph()\u001b[39m.\u001b[39mvisualize_graph()\n",
      "\n",
      "File \u001b[0;32m~/diploma/environ/lib/python3.9/site-packages/torch_geometric/data/hetero_data.py:133\u001b[0m, in \u001b[0;36mHeteroData.__getattr__\u001b[0;34m(self, key)\u001b[0m\n",
      "\u001b[1;32m    131\u001b[0m \u001b[39melif\u001b[39;00m \u001b[39mbool\u001b[39m(re\u001b[39m.\u001b[39msearch(\u001b[39m'\u001b[39m\u001b[39m_dict$\u001b[39m\u001b[39m'\u001b[39m, key)):\n",
      "\u001b[1;32m    132\u001b[0m     \u001b[39mreturn\u001b[39;00m \u001b[39mself\u001b[39m\u001b[39m.\u001b[39mcollect(key[:\u001b[39m-\u001b[39m\u001b[39m5\u001b[39m])\n",
      "\u001b[0;32m--> 133\u001b[0m \u001b[39mraise\u001b[39;00m \u001b[39mAttributeError\u001b[39;00m(\u001b[39mf\u001b[39m\u001b[39m\"\u001b[39m\u001b[39m'\u001b[39m\u001b[39m{\u001b[39;00m\u001b[39mself\u001b[39m\u001b[39m.\u001b[39m\u001b[39m__class__\u001b[39m\u001b[39m.\u001b[39m\u001b[39m__name__\u001b[39m\u001b[39m}\u001b[39;00m\u001b[39m'\u001b[39m\u001b[39m has no \u001b[39m\u001b[39m\"\u001b[39m\n",
      "\u001b[1;32m    134\u001b[0m                      \u001b[39mf\u001b[39m\u001b[39m\"\u001b[39m\u001b[39mattribute \u001b[39m\u001b[39m'\u001b[39m\u001b[39m{\u001b[39;00mkey\u001b[39m}\u001b[39;00m\u001b[39m'\u001b[39m\u001b[39m\"\u001b[39m)\n",
      "\n",
      "\u001b[0;31mAttributeError\u001b[0m: 'HeteroExplanation' has no attribute 'visualize_graph'"
     ]
    }
   ],
   "source": [
    "explanation.get_explanation_subgraph().visualize_graph()"
   ]
  },
  {
   "cell_type": "code",
   "execution_count": null,
   "metadata": {},
   "outputs": [],
   "source": []
  },
  {
   "attachments": {},
   "cell_type": "markdown",
   "metadata": {},
   "source": [
    "#### Captum explainer"
   ]
  },
  {
   "cell_type": "code",
   "execution_count": 45,
   "metadata": {},
   "outputs": [],
   "source": [
    "explainer = Explainer(\n",
    "    model=model,\n",
    "    algorithm=CaptumExplainer(attribution_method=\"IntegratedGradients\"),\n",
    "    explanation_type='model',\n",
    "    # node_mask_type='attributes',\n",
    "    edge_mask_type='object',\n",
    "    model_config=dict(\n",
    "        mode='regression',\n",
    "        task_level='edge',\n",
    "        return_type='raw',\n",
    "    ),\n",
    ")"
   ]
  },
  {
   "cell_type": "code",
   "execution_count": 46,
   "metadata": {},
   "outputs": [
    {
     "ename": "IndexError",
     "evalue": "The shape of the mask [131903] at index 0 does not match the shape of the indexed tensor [2, 131903] at index 0",
     "output_type": "error",
     "traceback": [
      "\u001b[0;31m---------------------------------------------------------------------------\u001b[0m",
      "\u001b[0;31mIndexError\u001b[0m                                Traceback (most recent call last)",
      "Cell \u001b[0;32mIn [46], line 1\u001b[0m\n\u001b[0;32m----> 1\u001b[0m explanation \u001b[39m=\u001b[39m explainer(\n\u001b[1;32m      2\u001b[0m     \u001b[39m# x={\u001b[39;00m\n\u001b[1;32m      3\u001b[0m     \u001b[39m#     \"movie\": train_data[\"movie\"],\u001b[39;00m\n\u001b[1;32m      4\u001b[0m     \u001b[39m#     \"user\": train_data[\"user\"]\u001b[39;00m\n\u001b[1;32m      5\u001b[0m     \u001b[39m# },\u001b[39;00m\n\u001b[1;32m      6\u001b[0m     \u001b[39m# edge_index=train_data[(\"user\", \"rates\", \"movie\")].edge_index,\u001b[39;00m\n\u001b[1;32m      7\u001b[0m     \n\u001b[1;32m      8\u001b[0m     edge_index\u001b[39m=\u001b[39mtrain_data\u001b[39m.\u001b[39medge_index_dict,\n\u001b[1;32m      9\u001b[0m     \n\u001b[1;32m     10\u001b[0m     \u001b[39m# edge_index=train_data[(\"user\", \"rates\", \"movie\")].edge_index,\u001b[39;00m\n\u001b[1;32m     11\u001b[0m     \n\u001b[1;32m     12\u001b[0m     x\u001b[39m=\u001b[39mtrain_data\u001b[39m.\u001b[39mx_dict,\n\u001b[1;32m     13\u001b[0m     \n\u001b[1;32m     14\u001b[0m     \u001b[39m# edge_index_dict=train_data.edge_index_dict,\u001b[39;00m\n\u001b[1;32m     15\u001b[0m     \n\u001b[1;32m     16\u001b[0m     edge_label_index\u001b[39m=\u001b[39mtrain_data[\u001b[39m'\u001b[39m\u001b[39muser\u001b[39m\u001b[39m'\u001b[39m, \u001b[39m'\u001b[39m\u001b[39mmovie\u001b[39m\u001b[39m'\u001b[39m]\u001b[39m.\u001b[39medge_label_index,\n\u001b[1;32m     17\u001b[0m     \n\u001b[1;32m     18\u001b[0m     \u001b[39m# edge_index=train_data.edge_index_dict[('user', 'rates', 'movie')],\u001b[39;00m\n\u001b[1;32m     19\u001b[0m     \u001b[39m# edge_label_index=train_data,\u001b[39;00m\n\u001b[1;32m     20\u001b[0m     \n\u001b[1;32m     21\u001b[0m     target\u001b[39m=\u001b[39m\u001b[39mNone\u001b[39;00m\n\u001b[1;32m     22\u001b[0m )\n",
      "File \u001b[0;32m~/diploma/environ/lib/python3.9/site-packages/torch_geometric/explain/explainer.py:192\u001b[0m, in \u001b[0;36mExplainer.__call__\u001b[0;34m(self, x, edge_index, target, index, **kwargs)\u001b[0m\n\u001b[1;32m    188\u001b[0m     \u001b[39mif\u001b[39;00m target \u001b[39mis\u001b[39;00m \u001b[39mnot\u001b[39;00m \u001b[39mNone\u001b[39;00m:\n\u001b[1;32m    189\u001b[0m         warnings\u001b[39m.\u001b[39mwarn(\n\u001b[1;32m    190\u001b[0m             \u001b[39mf\u001b[39m\u001b[39m\"\u001b[39m\u001b[39mThe \u001b[39m\u001b[39m'\u001b[39m\u001b[39mtarget\u001b[39m\u001b[39m'\u001b[39m\u001b[39m should not be provided for the explanation \u001b[39m\u001b[39m\"\u001b[39m\n\u001b[1;32m    191\u001b[0m             \u001b[39mf\u001b[39m\u001b[39m\"\u001b[39m\u001b[39mtype \u001b[39m\u001b[39m'\u001b[39m\u001b[39m{\u001b[39;00m\u001b[39mself\u001b[39m\u001b[39m.\u001b[39mexplanation_type\u001b[39m.\u001b[39mvalue\u001b[39m}\u001b[39;00m\u001b[39m'\u001b[39m\u001b[39m\"\u001b[39m)\n\u001b[0;32m--> 192\u001b[0m     prediction \u001b[39m=\u001b[39m \u001b[39mself\u001b[39;49m\u001b[39m.\u001b[39;49mget_prediction(x, edge_index, \u001b[39m*\u001b[39;49m\u001b[39m*\u001b[39;49mkwargs)\n\u001b[1;32m    193\u001b[0m     target \u001b[39m=\u001b[39m \u001b[39mself\u001b[39m\u001b[39m.\u001b[39mget_target(prediction)\n\u001b[1;32m    195\u001b[0m training \u001b[39m=\u001b[39m \u001b[39mself\u001b[39m\u001b[39m.\u001b[39mmodel\u001b[39m.\u001b[39mtraining\n",
      "File \u001b[0;32m~/diploma/environ/lib/python3.9/site-packages/torch/autograd/grad_mode.py:27\u001b[0m, in \u001b[0;36m_DecoratorContextManager.__call__.<locals>.decorate_context\u001b[0;34m(*args, **kwargs)\u001b[0m\n\u001b[1;32m     24\u001b[0m \u001b[39m@functools\u001b[39m\u001b[39m.\u001b[39mwraps(func)\n\u001b[1;32m     25\u001b[0m \u001b[39mdef\u001b[39;00m \u001b[39mdecorate_context\u001b[39m(\u001b[39m*\u001b[39margs, \u001b[39m*\u001b[39m\u001b[39m*\u001b[39mkwargs):\n\u001b[1;32m     26\u001b[0m     \u001b[39mwith\u001b[39;00m \u001b[39mself\u001b[39m\u001b[39m.\u001b[39mclone():\n\u001b[0;32m---> 27\u001b[0m         \u001b[39mreturn\u001b[39;00m func(\u001b[39m*\u001b[39;49margs, \u001b[39m*\u001b[39;49m\u001b[39m*\u001b[39;49mkwargs)\n",
      "File \u001b[0;32m~/diploma/environ/lib/python3.9/site-packages/torch_geometric/explain/explainer.py:115\u001b[0m, in \u001b[0;36mExplainer.get_prediction\u001b[0;34m(self, *args, **kwargs)\u001b[0m\n\u001b[1;32m    112\u001b[0m \u001b[39mself\u001b[39m\u001b[39m.\u001b[39mmodel\u001b[39m.\u001b[39meval()\n\u001b[1;32m    114\u001b[0m \u001b[39mwith\u001b[39;00m torch\u001b[39m.\u001b[39mno_grad():\n\u001b[0;32m--> 115\u001b[0m     out \u001b[39m=\u001b[39m \u001b[39mself\u001b[39;49m\u001b[39m.\u001b[39;49mmodel(\u001b[39m*\u001b[39;49margs, \u001b[39m*\u001b[39;49m\u001b[39m*\u001b[39;49mkwargs)\n\u001b[1;32m    117\u001b[0m \u001b[39mself\u001b[39m\u001b[39m.\u001b[39mmodel\u001b[39m.\u001b[39mtrain(training)\n\u001b[1;32m    119\u001b[0m \u001b[39mreturn\u001b[39;00m out\n",
      "File \u001b[0;32m~/diploma/environ/lib/python3.9/site-packages/torch/nn/modules/module.py:1130\u001b[0m, in \u001b[0;36mModule._call_impl\u001b[0;34m(self, *input, **kwargs)\u001b[0m\n\u001b[1;32m   1126\u001b[0m \u001b[39m# If we don't have any hooks, we want to skip the rest of the logic in\u001b[39;00m\n\u001b[1;32m   1127\u001b[0m \u001b[39m# this function, and just call forward.\u001b[39;00m\n\u001b[1;32m   1128\u001b[0m \u001b[39mif\u001b[39;00m \u001b[39mnot\u001b[39;00m (\u001b[39mself\u001b[39m\u001b[39m.\u001b[39m_backward_hooks \u001b[39mor\u001b[39;00m \u001b[39mself\u001b[39m\u001b[39m.\u001b[39m_forward_hooks \u001b[39mor\u001b[39;00m \u001b[39mself\u001b[39m\u001b[39m.\u001b[39m_forward_pre_hooks \u001b[39mor\u001b[39;00m _global_backward_hooks\n\u001b[1;32m   1129\u001b[0m         \u001b[39mor\u001b[39;00m _global_forward_hooks \u001b[39mor\u001b[39;00m _global_forward_pre_hooks):\n\u001b[0;32m-> 1130\u001b[0m     \u001b[39mreturn\u001b[39;00m forward_call(\u001b[39m*\u001b[39;49m\u001b[39minput\u001b[39;49m, \u001b[39m*\u001b[39;49m\u001b[39m*\u001b[39;49mkwargs)\n\u001b[1;32m   1131\u001b[0m \u001b[39m# Do not call functions when jit is used\u001b[39;00m\n\u001b[1;32m   1132\u001b[0m full_backward_hooks, non_full_backward_hooks \u001b[39m=\u001b[39m [], []\n",
      "Cell \u001b[0;32mIn [7], line 188\u001b[0m, in \u001b[0;36mModel.forward\u001b[0;34m(self, x_dict, edge_index_dict, edge_label_index)\u001b[0m\n\u001b[1;32m    187\u001b[0m \u001b[39mdef\u001b[39;00m \u001b[39mforward\u001b[39m(\u001b[39mself\u001b[39m, x_dict, edge_index_dict, edge_label_index):\n\u001b[0;32m--> 188\u001b[0m     z_dict \u001b[39m=\u001b[39m \u001b[39mself\u001b[39;49m\u001b[39m.\u001b[39;49mencoder(x_dict, edge_index_dict)\n\u001b[1;32m    189\u001b[0m     \u001b[39mreturn\u001b[39;00m \u001b[39mself\u001b[39m\u001b[39m.\u001b[39mdecoder(z_dict, edge_label_index)\n",
      "File \u001b[0;32m~/diploma/environ/lib/python3.9/site-packages/torch/fx/graph_module.py:652\u001b[0m, in \u001b[0;36mGraphModule.recompile.<locals>.call_wrapped\u001b[0;34m(self, *args, **kwargs)\u001b[0m\n\u001b[1;32m    651\u001b[0m \u001b[39mdef\u001b[39;00m \u001b[39mcall_wrapped\u001b[39m(\u001b[39mself\u001b[39m, \u001b[39m*\u001b[39margs, \u001b[39m*\u001b[39m\u001b[39m*\u001b[39mkwargs):\n\u001b[0;32m--> 652\u001b[0m     \u001b[39mreturn\u001b[39;00m \u001b[39mself\u001b[39;49m\u001b[39m.\u001b[39;49m_wrapped_call(\u001b[39mself\u001b[39;49m, \u001b[39m*\u001b[39;49margs, \u001b[39m*\u001b[39;49m\u001b[39m*\u001b[39;49mkwargs)\n",
      "File \u001b[0;32m~/diploma/environ/lib/python3.9/site-packages/torch/fx/graph_module.py:277\u001b[0m, in \u001b[0;36m_WrappedCall.__call__\u001b[0;34m(self, obj, *args, **kwargs)\u001b[0m\n\u001b[1;32m    275\u001b[0m     \u001b[39mraise\u001b[39;00m e\u001b[39m.\u001b[39mwith_traceback(\u001b[39mNone\u001b[39;00m)\n\u001b[1;32m    276\u001b[0m \u001b[39melse\u001b[39;00m:\n\u001b[0;32m--> 277\u001b[0m     \u001b[39mraise\u001b[39;00m e\n",
      "File \u001b[0;32m~/diploma/environ/lib/python3.9/site-packages/torch/fx/graph_module.py:267\u001b[0m, in \u001b[0;36m_WrappedCall.__call__\u001b[0;34m(self, obj, *args, **kwargs)\u001b[0m\n\u001b[1;32m    265\u001b[0m         \u001b[39mreturn\u001b[39;00m \u001b[39mself\u001b[39m\u001b[39m.\u001b[39mcls_call(obj, \u001b[39m*\u001b[39margs, \u001b[39m*\u001b[39m\u001b[39m*\u001b[39mkwargs)\n\u001b[1;32m    266\u001b[0m     \u001b[39melse\u001b[39;00m:\n\u001b[0;32m--> 267\u001b[0m         \u001b[39mreturn\u001b[39;00m \u001b[39msuper\u001b[39;49m(\u001b[39mself\u001b[39;49m\u001b[39m.\u001b[39;49mcls, obj)\u001b[39m.\u001b[39;49m\u001b[39m__call__\u001b[39;49m(\u001b[39m*\u001b[39;49margs, \u001b[39m*\u001b[39;49m\u001b[39m*\u001b[39;49mkwargs)  \u001b[39m# type: ignore[misc]\u001b[39;00m\n\u001b[1;32m    268\u001b[0m \u001b[39mexcept\u001b[39;00m \u001b[39mException\u001b[39;00m \u001b[39mas\u001b[39;00m e:\n\u001b[1;32m    269\u001b[0m     \u001b[39massert\u001b[39;00m e\u001b[39m.\u001b[39m__traceback__\n",
      "File \u001b[0;32m~/diploma/environ/lib/python3.9/site-packages/torch/nn/modules/module.py:1130\u001b[0m, in \u001b[0;36mModule._call_impl\u001b[0;34m(self, *input, **kwargs)\u001b[0m\n\u001b[1;32m   1126\u001b[0m \u001b[39m# If we don't have any hooks, we want to skip the rest of the logic in\u001b[39;00m\n\u001b[1;32m   1127\u001b[0m \u001b[39m# this function, and just call forward.\u001b[39;00m\n\u001b[1;32m   1128\u001b[0m \u001b[39mif\u001b[39;00m \u001b[39mnot\u001b[39;00m (\u001b[39mself\u001b[39m\u001b[39m.\u001b[39m_backward_hooks \u001b[39mor\u001b[39;00m \u001b[39mself\u001b[39m\u001b[39m.\u001b[39m_forward_hooks \u001b[39mor\u001b[39;00m \u001b[39mself\u001b[39m\u001b[39m.\u001b[39m_forward_pre_hooks \u001b[39mor\u001b[39;00m _global_backward_hooks\n\u001b[1;32m   1129\u001b[0m         \u001b[39mor\u001b[39;00m _global_forward_hooks \u001b[39mor\u001b[39;00m _global_forward_pre_hooks):\n\u001b[0;32m-> 1130\u001b[0m     \u001b[39mreturn\u001b[39;00m forward_call(\u001b[39m*\u001b[39;49m\u001b[39minput\u001b[39;49m, \u001b[39m*\u001b[39;49m\u001b[39m*\u001b[39;49mkwargs)\n\u001b[1;32m   1131\u001b[0m \u001b[39m# Do not call functions when jit is used\u001b[39;00m\n\u001b[1;32m   1132\u001b[0m full_backward_hooks, non_full_backward_hooks \u001b[39m=\u001b[39m [], []\n",
      "File \u001b[0;32m<eval_with_key>.1:11\u001b[0m, in \u001b[0;36mforward\u001b[0;34m(self, x, edge_index)\u001b[0m\n\u001b[1;32m      9\u001b[0m edge_index__user__rates__movie \u001b[39m=\u001b[39m edge_index_dict\u001b[39m.\u001b[39mget((\u001b[39m'\u001b[39m\u001b[39muser\u001b[39m\u001b[39m'\u001b[39m, \u001b[39m'\u001b[39m\u001b[39mrates\u001b[39m\u001b[39m'\u001b[39m, \u001b[39m'\u001b[39m\u001b[39mmovie\u001b[39m\u001b[39m'\u001b[39m), \u001b[39mNone\u001b[39;00m)\n\u001b[1;32m     10\u001b[0m edge_index__movie__rev_rates__user \u001b[39m=\u001b[39m edge_index_dict\u001b[39m.\u001b[39mget((\u001b[39m'\u001b[39m\u001b[39mmovie\u001b[39m\u001b[39m'\u001b[39m, \u001b[39m'\u001b[39m\u001b[39mrev_rates\u001b[39m\u001b[39m'\u001b[39m, \u001b[39m'\u001b[39m\u001b[39muser\u001b[39m\u001b[39m'\u001b[39m), \u001b[39mNone\u001b[39;00m);  edge_index_dict \u001b[39m=\u001b[39m \u001b[39mNone\u001b[39;00m\n\u001b[0;32m---> 11\u001b[0m convs_0__movie \u001b[39m=\u001b[39m \u001b[39mgetattr\u001b[39;49m(\u001b[39mself\u001b[39;49m\u001b[39m.\u001b[39;49mconvs, \u001b[39m\"\u001b[39;49m\u001b[39m0\u001b[39;49m\u001b[39m\"\u001b[39;49m)\u001b[39m.\u001b[39;49muser__rates__movie((x__user, x__movie), edge_index__user__rates__movie)\n\u001b[1;32m     12\u001b[0m convs_0__user \u001b[39m=\u001b[39m \u001b[39mgetattr\u001b[39m(\u001b[39mself\u001b[39m\u001b[39m.\u001b[39mconvs, \u001b[39m\"\u001b[39m\u001b[39m0\u001b[39m\u001b[39m\"\u001b[39m)\u001b[39m.\u001b[39mmovie__rev_rates__user((x__movie, x__user), edge_index__movie__rev_rates__user);  x__movie \u001b[39m=\u001b[39m x__user \u001b[39m=\u001b[39m \u001b[39mNone\u001b[39;00m\n\u001b[1;32m     13\u001b[0m relu__movie \u001b[39m=\u001b[39m convs_0__movie\u001b[39m.\u001b[39mrelu();  convs_0__movie \u001b[39m=\u001b[39m \u001b[39mNone\u001b[39;00m\n",
      "File \u001b[0;32m~/diploma/environ/lib/python3.9/site-packages/torch/nn/modules/module.py:1130\u001b[0m, in \u001b[0;36mModule._call_impl\u001b[0;34m(self, *input, **kwargs)\u001b[0m\n\u001b[1;32m   1126\u001b[0m \u001b[39m# If we don't have any hooks, we want to skip the rest of the logic in\u001b[39;00m\n\u001b[1;32m   1127\u001b[0m \u001b[39m# this function, and just call forward.\u001b[39;00m\n\u001b[1;32m   1128\u001b[0m \u001b[39mif\u001b[39;00m \u001b[39mnot\u001b[39;00m (\u001b[39mself\u001b[39m\u001b[39m.\u001b[39m_backward_hooks \u001b[39mor\u001b[39;00m \u001b[39mself\u001b[39m\u001b[39m.\u001b[39m_forward_hooks \u001b[39mor\u001b[39;00m \u001b[39mself\u001b[39m\u001b[39m.\u001b[39m_forward_pre_hooks \u001b[39mor\u001b[39;00m _global_backward_hooks\n\u001b[1;32m   1129\u001b[0m         \u001b[39mor\u001b[39;00m _global_forward_hooks \u001b[39mor\u001b[39;00m _global_forward_pre_hooks):\n\u001b[0;32m-> 1130\u001b[0m     \u001b[39mreturn\u001b[39;00m forward_call(\u001b[39m*\u001b[39;49m\u001b[39minput\u001b[39;49m, \u001b[39m*\u001b[39;49m\u001b[39m*\u001b[39;49mkwargs)\n\u001b[1;32m   1131\u001b[0m \u001b[39m# Do not call functions when jit is used\u001b[39;00m\n\u001b[1;32m   1132\u001b[0m full_backward_hooks, non_full_backward_hooks \u001b[39m=\u001b[39m [], []\n",
      "File \u001b[0;32m~/diploma/environ/lib/python3.9/site-packages/torch_geometric/nn/conv/sage_conv.py:131\u001b[0m, in \u001b[0;36mSAGEConv.forward\u001b[0;34m(self, x, edge_index, size)\u001b[0m\n\u001b[1;32m    128\u001b[0m     x \u001b[39m=\u001b[39m (\u001b[39mself\u001b[39m\u001b[39m.\u001b[39mlin(x[\u001b[39m0\u001b[39m])\u001b[39m.\u001b[39mrelu(), x[\u001b[39m1\u001b[39m])\n\u001b[1;32m    130\u001b[0m \u001b[39m# propagate_type: (x: OptPairTensor)\u001b[39;00m\n\u001b[0;32m--> 131\u001b[0m out \u001b[39m=\u001b[39m \u001b[39mself\u001b[39;49m\u001b[39m.\u001b[39;49mpropagate(edge_index, x\u001b[39m=\u001b[39;49mx, size\u001b[39m=\u001b[39;49msize)\n\u001b[1;32m    132\u001b[0m out \u001b[39m=\u001b[39m \u001b[39mself\u001b[39m\u001b[39m.\u001b[39mlin_l(out)\n\u001b[1;32m    134\u001b[0m x_r \u001b[39m=\u001b[39m x[\u001b[39m1\u001b[39m]\n",
      "File \u001b[0;32m~/diploma/environ/lib/python3.9/site-packages/torch_geometric/nn/conv/message_passing.py:449\u001b[0m, in \u001b[0;36mMessagePassing.propagate\u001b[0;34m(self, edge_index, size, **kwargs)\u001b[0m\n\u001b[1;32m    446\u001b[0m \u001b[39mif\u001b[39;00m \u001b[39mself\u001b[39m\u001b[39m.\u001b[39mexplain:\n\u001b[1;32m    447\u001b[0m     explain_msg_kwargs \u001b[39m=\u001b[39m \u001b[39mself\u001b[39m\u001b[39m.\u001b[39minspector\u001b[39m.\u001b[39mdistribute(\n\u001b[1;32m    448\u001b[0m         \u001b[39m'\u001b[39m\u001b[39mexplain_message\u001b[39m\u001b[39m'\u001b[39m, coll_dict)\n\u001b[0;32m--> 449\u001b[0m     out \u001b[39m=\u001b[39m \u001b[39mself\u001b[39;49m\u001b[39m.\u001b[39;49mexplain_message(out, \u001b[39m*\u001b[39;49m\u001b[39m*\u001b[39;49mexplain_msg_kwargs)\n\u001b[1;32m    451\u001b[0m aggr_kwargs \u001b[39m=\u001b[39m \u001b[39mself\u001b[39m\u001b[39m.\u001b[39minspector\u001b[39m.\u001b[39mdistribute(\u001b[39m'\u001b[39m\u001b[39maggregate\u001b[39m\u001b[39m'\u001b[39m, coll_dict)\n\u001b[1;32m    452\u001b[0m \u001b[39mfor\u001b[39;00m hook \u001b[39min\u001b[39;00m \u001b[39mself\u001b[39m\u001b[39m.\u001b[39m_aggregate_forward_pre_hooks\u001b[39m.\u001b[39mvalues():\n",
      "File \u001b[0;32m~/diploma/environ/lib/python3.9/site-packages/torch_geometric/nn/conv/message_passing.py:559\u001b[0m, in \u001b[0;36mMessagePassing.explain_message\u001b[0;34m(self, inputs, size_i)\u001b[0m\n\u001b[1;32m    556\u001b[0m \u001b[39m# Some ops add self-loops to `edge_index`. We need to do the same for\u001b[39;00m\n\u001b[1;32m    557\u001b[0m \u001b[39m# `edge_mask` (but do not train these entries).\u001b[39;00m\n\u001b[1;32m    558\u001b[0m \u001b[39mif\u001b[39;00m inputs\u001b[39m.\u001b[39msize(\u001b[39mself\u001b[39m\u001b[39m.\u001b[39mnode_dim) \u001b[39m!=\u001b[39m edge_mask\u001b[39m.\u001b[39msize(\u001b[39m0\u001b[39m):\n\u001b[0;32m--> 559\u001b[0m     edge_mask \u001b[39m=\u001b[39m edge_mask[\u001b[39mself\u001b[39;49m\u001b[39m.\u001b[39;49m_loop_mask]\n\u001b[1;32m    560\u001b[0m     loop \u001b[39m=\u001b[39m edge_mask\u001b[39m.\u001b[39mnew_ones(size_i)\n\u001b[1;32m    561\u001b[0m     edge_mask \u001b[39m=\u001b[39m torch\u001b[39m.\u001b[39mcat([edge_mask, loop], dim\u001b[39m=\u001b[39m\u001b[39m0\u001b[39m)\n",
      "\u001b[0;31mIndexError\u001b[0m: The shape of the mask [131903] at index 0 does not match the shape of the indexed tensor [2, 131903] at index 0"
     ]
    }
   ],
   "source": [
    "explanation = explainer(\n",
    "    # x={\n",
    "    #     \"movie\": train_data[\"movie\"],\n",
    "    #     \"user\": train_data[\"user\"]\n",
    "    # },\n",
    "    # edge_index=train_data[(\"user\", \"rates\", \"movie\")].edge_index,\n",
    "    \n",
    "    edge_index=train_data.edge_index_dict,\n",
    "    \n",
    "    # edge_index=train_data[(\"user\", \"rates\", \"movie\")].edge_index,\n",
    "    \n",
    "    x=train_data.x_dict,\n",
    "    \n",
    "    # edge_index_dict=train_data.edge_index_dict,\n",
    "    \n",
    "    edge_label_index=train_data['user', 'movie'].edge_label_index,\n",
    "    \n",
    "    # edge_index=train_data.edge_index_dict[('user', 'rates', 'movie')],\n",
    "    # edge_label_index=train_data,\n",
    "    \n",
    "    target=None\n",
    ")"
   ]
  },
  {
   "cell_type": "code",
   "execution_count": 48,
   "metadata": {},
   "outputs": [
    {
     "data": {
      "text/plain": [
       "HeteroExplanation(\n",
       "  prediction=[131903],\n",
       "  target=[131903],\n",
       "  edge_label_index=[2, 131903],\n",
       "  \u001b[1mmovie\u001b[0m={\n",
       "    node_mask=[2055, 768],\n",
       "    x=[2055, 768]\n",
       "  },\n",
       "  \u001b[1muser\u001b[0m={\n",
       "    node_mask=[4633, 4633],\n",
       "    x=[4633, 4633]\n",
       "  },\n",
       "  \u001b[1m(user, rates, movie)\u001b[0m={\n",
       "    edge_mask=[131903],\n",
       "    edge_index=[2, 131903]\n",
       "  },\n",
       "  \u001b[1m(movie, rev_rates, user)\u001b[0m={\n",
       "    edge_mask=[131903],\n",
       "    edge_index=[2, 131903]\n",
       "  }\n",
       ")"
      ]
     },
     "execution_count": 48,
     "metadata": {},
     "output_type": "execute_result"
    }
   ],
   "source": [
    "explanation.get_explanation_subgraph()"
   ]
  },
  {
   "cell_type": "code",
   "execution_count": null,
   "metadata": {},
   "outputs": [],
   "source": []
  }
 ],
 "metadata": {
  "kernelspec": {
   "display_name": "environ",
   "language": "python",
   "name": "python3"
  },
  "language_info": {
   "codemirror_mode": {
    "name": "ipython",
    "version": 3
   },
   "file_extension": ".py",
   "mimetype": "text/x-python",
   "name": "python",
   "nbconvert_exporter": "python",
   "pygments_lexer": "ipython3",
   "version": "3.9.6 (default, Oct 18 2022, 12:41:40) \n[Clang 14.0.0 (clang-1400.0.29.202)]"
  },
  "orig_nbformat": 4,
  "vscode": {
   "interpreter": {
    "hash": "acbc58aadc5672afc04cc91f2a1726d8eb7b999e15e50d024070fdc74729208f"
   }
  }
 },
 "nbformat": 4,
 "nbformat_minor": 2
}
